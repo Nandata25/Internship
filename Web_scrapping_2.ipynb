{
 "cells": [
  {
   "cell_type": "code",
   "execution_count": 2,
   "id": "d88387c0",
   "metadata": {},
   "outputs": [
    {
     "name": "stdout",
     "output_type": "stream",
     "text": [
      "Requirement already satisfied: selenium in c:\\users\\god\\anaconda3\\lib\\site-packages (3.141.0)\n",
      "Requirement already satisfied: urllib3 in c:\\users\\god\\anaconda3\\lib\\site-packages (from selenium) (1.26.4)\n"
     ]
    }
   ],
   "source": [
    "!pip install selenium"
   ]
  },
  {
   "cell_type": "code",
   "execution_count": 3,
   "id": "c2222704",
   "metadata": {},
   "outputs": [],
   "source": [
    "#importing all required libraries\n",
    "import selenium\n",
    "from selenium import webdriver\n",
    "import pandas as pd\n",
    "import warnings\n",
    "warnings.filterwarnings(\"ignore\")"
   ]
  },
  {
   "cell_type": "code",
   "execution_count": null,
   "id": "3cf0f9b3",
   "metadata": {},
   "outputs": [],
   "source": [
    "## Question 1 ##"
   ]
  },
  {
   "cell_type": "code",
   "execution_count": 57,
   "id": "af0493be",
   "metadata": {},
   "outputs": [],
   "source": [
    "#connecting to webdriver\n",
    "driver=webdriver.Chrome(r'C:\\Users\\GOD\\Desktop\\Flip ROBO\\chromedriver.exe')"
   ]
  },
  {
   "cell_type": "code",
   "execution_count": 58,
   "id": "eb2be988",
   "metadata": {},
   "outputs": [],
   "source": [
    "url='http://www.naukri.com/'\n",
    "driver.get(url)"
   ]
  },
  {
   "cell_type": "code",
   "execution_count": 59,
   "id": "d944004c",
   "metadata": {},
   "outputs": [
    {
     "data": {
      "text/plain": [
       "<selenium.webdriver.remote.webelement.WebElement (session=\"a94dcc01d5a44c4ab49eddbfbb6e20ea\", element=\"6c449586-598a-45a7-a91b-b9b76e6cc436\")>"
      ]
     },
     "execution_count": 59,
     "metadata": {},
     "output_type": "execute_result"
    }
   ],
   "source": [
    "#finding the web element using the search bar using class id\n",
    "search_job = driver.find_element_by_class_name(\"suggestor-input\")\n",
    "search_job"
   ]
  },
  {
   "cell_type": "code",
   "execution_count": 60,
   "id": "e7ae0224",
   "metadata": {},
   "outputs": [],
   "source": [
    "#writing data analyst on the skill/designation/companies bar\n",
    "search_job.send_keys(\"Data Analyst\")"
   ]
  },
  {
   "cell_type": "code",
   "execution_count": 61,
   "id": "0bffe47e",
   "metadata": {},
   "outputs": [
    {
     "data": {
      "text/plain": [
       "<selenium.webdriver.remote.webelement.WebElement (session=\"a94dcc01d5a44c4ab49eddbfbb6e20ea\", element=\"4102ff4f-d8cb-4417-8d55-6fd3ac98a46e\")>"
      ]
     },
     "execution_count": 61,
     "metadata": {},
     "output_type": "execute_result"
    }
   ],
   "source": [
    "#finding the web element for search location path using absolute xpath\n",
    "search_location = driver.find_element_by_xpath('/html/body/div/div[2]/div[3]/div/div/div[3]/div/div/div/input')\n",
    "search_location"
   ]
  },
  {
   "cell_type": "code",
   "execution_count": 62,
   "id": "7873dd11",
   "metadata": {},
   "outputs": [],
   "source": [
    "#entering bangalore in the location field\n",
    "search_location.send_keys(\"Bangalore\")"
   ]
  },
  {
   "cell_type": "code",
   "execution_count": 63,
   "id": "1dd39f63",
   "metadata": {},
   "outputs": [
    {
     "data": {
      "text/plain": [
       "<selenium.webdriver.remote.webelement.WebElement (session=\"a94dcc01d5a44c4ab49eddbfbb6e20ea\", element=\"a4865486-8d23-405c-b5ab-7f0732ac9c85\")>"
      ]
     },
     "execution_count": 63,
     "metadata": {},
     "output_type": "execute_result"
    }
   ],
   "source": [
    "#clicking the search button\n",
    "search_button = driver.find_element_by_class_name('qsbSubmit')\n",
    "search_button"
   ]
  },
  {
   "cell_type": "code",
   "execution_count": 64,
   "id": "073e89aa",
   "metadata": {},
   "outputs": [],
   "source": [
    "search_button.click()"
   ]
  },
  {
   "cell_type": "code",
   "execution_count": 65,
   "id": "ca4f9d45",
   "metadata": {},
   "outputs": [
    {
     "data": {
      "text/plain": [
       "20"
      ]
     },
     "execution_count": 65,
     "metadata": {},
     "output_type": "execute_result"
    }
   ],
   "source": [
    "#extracting titles\n",
    "title_tags = driver.find_elements_by_xpath('//a[@class=\"title fw500 ellipsis\"]')\n",
    "len(title_tags)"
   ]
  },
  {
   "cell_type": "code",
   "execution_count": 66,
   "id": "b1a8d0b2",
   "metadata": {},
   "outputs": [
    {
     "data": {
      "text/plain": [
       "10"
      ]
     },
     "execution_count": 66,
     "metadata": {},
     "output_type": "execute_result"
    }
   ],
   "source": [
    "#extracting the text from the title tags\n",
    "job_titles =[]\n",
    "\n",
    "for i in title_tags[:10]:\n",
    "    job_titles.append(i.text)\n",
    "len(job_titles)"
   ]
  },
  {
   "cell_type": "code",
   "execution_count": 29,
   "id": "58207c28",
   "metadata": {},
   "outputs": [
    {
     "data": {
      "text/plain": [
       "['Senior Data Analyst - Collibra',\n",
       " 'Senior Data Analyst II',\n",
       " 'Senior Data Analyst',\n",
       " 'Hiring -Data Analyst, Business Analyst, MIS Analyst -3rd Party Payroll',\n",
       " 'Global Tax Automation & Operations - Data Scientist Senior Analyst',\n",
       " 'Data Analyst',\n",
       " 'Data Analyst',\n",
       " 'Data Analyst',\n",
       " 'Data Analyst',\n",
       " 'Business Analyst (Data Analyst role)']"
      ]
     },
     "execution_count": 29,
     "metadata": {},
     "output_type": "execute_result"
    }
   ],
   "source": [
    "job_titles"
   ]
  },
  {
   "cell_type": "code",
   "execution_count": 67,
   "id": "4f29a8ac",
   "metadata": {},
   "outputs": [
    {
     "data": {
      "text/plain": [
       "20"
      ]
     },
     "execution_count": 67,
     "metadata": {},
     "output_type": "execute_result"
    }
   ],
   "source": [
    "#extracting company names\n",
    "company_tags = driver.find_elements_by_xpath('//a[@class=\"subTitle ellipsis fleft\"]')\n",
    "len(company_tags)"
   ]
  },
  {
   "cell_type": "code",
   "execution_count": 68,
   "id": "5a410512",
   "metadata": {},
   "outputs": [
    {
     "data": {
      "text/plain": [
       "10"
      ]
     },
     "execution_count": 68,
     "metadata": {},
     "output_type": "execute_result"
    }
   ],
   "source": [
    "#extracting text from compaany tags\n",
    "\n",
    "company_names =[]\n",
    "\n",
    "for i in company_tags[:10]:\n",
    "    company_names.append(i.text)\n",
    "len(company_names)"
   ]
  },
  {
   "cell_type": "code",
   "execution_count": 35,
   "id": "c1e67f6b",
   "metadata": {},
   "outputs": [
    {
     "data": {
      "text/plain": [
       "['Shell',\n",
       " 'Flipkart',\n",
       " 'Dell',\n",
       " 'Insure Pro 2.0',\n",
       " 'BERKMEER INDIA PRIVATE LIMITED',\n",
       " 'Lifesight Technologies Pvt. Ltd.',\n",
       " 'GSK India',\n",
       " 'Xpheno',\n",
       " 'Flipkart',\n",
       " 'Flipkart']"
      ]
     },
     "execution_count": 35,
     "metadata": {},
     "output_type": "execute_result"
    }
   ],
   "source": [
    "company_names"
   ]
  },
  {
   "cell_type": "code",
   "execution_count": 69,
   "id": "ba5022de",
   "metadata": {},
   "outputs": [
    {
     "data": {
      "text/plain": [
       "20"
      ]
     },
     "execution_count": 69,
     "metadata": {},
     "output_type": "execute_result"
    }
   ],
   "source": [
    "#Extracting experience\n",
    "\n",
    "exp_tags= driver.find_elements_by_xpath('//span[contains(@title,\"Yrs\")]')\n",
    "len(exp_tags)"
   ]
  },
  {
   "cell_type": "code",
   "execution_count": 70,
   "id": "f044dc6e",
   "metadata": {},
   "outputs": [
    {
     "data": {
      "text/plain": [
       "10"
      ]
     },
     "execution_count": 70,
     "metadata": {},
     "output_type": "execute_result"
    }
   ],
   "source": [
    "#extracting text from experience tags\n",
    "\n",
    "experience =[]\n",
    "\n",
    "for i in exp_tags [:10]:\n",
    "    experience.append(i.text)\n",
    "len(experience)"
   ]
  },
  {
   "cell_type": "code",
   "execution_count": 71,
   "id": "064a1560",
   "metadata": {},
   "outputs": [
    {
     "data": {
      "text/plain": [
       "['8-12 Yrs',\n",
       " '1-6 Yrs',\n",
       " '3-5 Yrs',\n",
       " '0-2 Yrs',\n",
       " '0-2 Yrs',\n",
       " '0-2 Yrs',\n",
       " '3-8 Yrs',\n",
       " '2-5 Yrs',\n",
       " '1-2 Yrs',\n",
       " '1-2 Yrs']"
      ]
     },
     "execution_count": 71,
     "metadata": {},
     "output_type": "execute_result"
    }
   ],
   "source": [
    "experience"
   ]
  },
  {
   "cell_type": "code",
   "execution_count": 72,
   "id": "19bbd98f",
   "metadata": {},
   "outputs": [
    {
     "data": {
      "text/plain": [
       "20"
      ]
     },
     "execution_count": 72,
     "metadata": {},
     "output_type": "execute_result"
    }
   ],
   "source": [
    "#extracting the location data\n",
    "\n",
    "location_tags = driver.find_elements_by_xpath('//li[@class=\"fleft grey-text br2 placeHolderLi location\"]')\n",
    "len(location_tags)"
   ]
  },
  {
   "cell_type": "code",
   "execution_count": 44,
   "id": "73ee3f57",
   "metadata": {},
   "outputs": [
    {
     "data": {
      "text/plain": [
       "10"
      ]
     },
     "execution_count": 44,
     "metadata": {},
     "output_type": "execute_result"
    }
   ],
   "source": [
    "#extracting the text \n",
    "\n",
    "location =[]\n",
    "\n",
    "for i in location_tags[:10]:\n",
    "    location.append(i.text)\n",
    "len(location)"
   ]
  },
  {
   "cell_type": "code",
   "execution_count": 73,
   "id": "c02036f2",
   "metadata": {},
   "outputs": [
    {
     "data": {
      "text/plain": [
       "['Bangalore/Bengaluru',\n",
       " 'Bangalore/Bengaluru',\n",
       " 'Bangalore/Bengaluru',\n",
       " 'Bangalore/Bengaluru(HSR Layout +7)',\n",
       " 'Bangalore/Bengaluru',\n",
       " 'Bangalore/Bengaluru',\n",
       " 'Bangalore/Bengaluru',\n",
       " 'Mumbai, Hyderabad/Secunderabad, Pune, Chennai, Bangalore/Bengaluru',\n",
       " 'Bangalore/Bengaluru',\n",
       " 'Bangalore/Bengaluru']"
      ]
     },
     "execution_count": 73,
     "metadata": {},
     "output_type": "execute_result"
    }
   ],
   "source": [
    "location"
   ]
  },
  {
   "cell_type": "code",
   "execution_count": 79,
   "id": "ee88b55c",
   "metadata": {},
   "outputs": [
    {
     "data": {
      "text/plain": [
       "(10, 10, 10, 10, 10)"
      ]
     },
     "execution_count": 79,
     "metadata": {},
     "output_type": "execute_result"
    }
   ],
   "source": [
    "len(job_titles), len(company_names), len(experience), len(location)"
   ]
  },
  {
   "cell_type": "code",
   "execution_count": 83,
   "id": "628b6afb",
   "metadata": {},
   "outputs": [
    {
     "data": {
      "text/html": [
       "<div>\n",
       "<style scoped>\n",
       "    .dataframe tbody tr th:only-of-type {\n",
       "        vertical-align: middle;\n",
       "    }\n",
       "\n",
       "    .dataframe tbody tr th {\n",
       "        vertical-align: top;\n",
       "    }\n",
       "\n",
       "    .dataframe thead th {\n",
       "        text-align: right;\n",
       "    }\n",
       "</style>\n",
       "<table border=\"1\" class=\"dataframe\">\n",
       "  <thead>\n",
       "    <tr style=\"text-align: right;\">\n",
       "      <th></th>\n",
       "      <th>Job Title</th>\n",
       "      <th>Company Name</th>\n",
       "      <th>Experience Required</th>\n",
       "      <th>Job Location</th>\n",
       "    </tr>\n",
       "  </thead>\n",
       "  <tbody>\n",
       "    <tr>\n",
       "      <th>0</th>\n",
       "      <td>Senior Data Analyst - Collibra</td>\n",
       "      <td>Shell</td>\n",
       "      <td>8-12 Yrs</td>\n",
       "      <td>Bangalore/Bengaluru</td>\n",
       "    </tr>\n",
       "    <tr>\n",
       "      <th>1</th>\n",
       "      <td>Hiring -Data Analyst, Business Analyst, MIS An...</td>\n",
       "      <td>Flipkart</td>\n",
       "      <td>1-6 Yrs</td>\n",
       "      <td>Bangalore/Bengaluru</td>\n",
       "    </tr>\n",
       "    <tr>\n",
       "      <th>2</th>\n",
       "      <td>Global Tax Automation &amp; Operations - Data Scie...</td>\n",
       "      <td>Dell</td>\n",
       "      <td>3-5 Yrs</td>\n",
       "      <td>Bangalore/Bengaluru</td>\n",
       "    </tr>\n",
       "    <tr>\n",
       "      <th>3</th>\n",
       "      <td>Data Analyst</td>\n",
       "      <td>Insure Pro 2.0</td>\n",
       "      <td>0-2 Yrs</td>\n",
       "      <td>Bangalore/Bengaluru(HSR Layout +7)</td>\n",
       "    </tr>\n",
       "    <tr>\n",
       "      <th>4</th>\n",
       "      <td>Data Analyst</td>\n",
       "      <td>BERKMEER INDIA PRIVATE LIMITED</td>\n",
       "      <td>0-2 Yrs</td>\n",
       "      <td>Bangalore/Bengaluru</td>\n",
       "    </tr>\n",
       "    <tr>\n",
       "      <th>5</th>\n",
       "      <td>Data Analyst</td>\n",
       "      <td>Lifesight Technologies Pvt. Ltd.</td>\n",
       "      <td>0-2 Yrs</td>\n",
       "      <td>Bangalore/Bengaluru</td>\n",
       "    </tr>\n",
       "    <tr>\n",
       "      <th>6</th>\n",
       "      <td>Data Analyst</td>\n",
       "      <td>GSK India</td>\n",
       "      <td>3-8 Yrs</td>\n",
       "      <td>Bangalore/Bengaluru</td>\n",
       "    </tr>\n",
       "    <tr>\n",
       "      <th>7</th>\n",
       "      <td>Business Analyst (Data Analyst role)</td>\n",
       "      <td>Xpheno</td>\n",
       "      <td>2-5 Yrs</td>\n",
       "      <td>Mumbai, Hyderabad/Secunderabad, Pune, Chennai,...</td>\n",
       "    </tr>\n",
       "    <tr>\n",
       "      <th>8</th>\n",
       "      <td>Data Analyst</td>\n",
       "      <td>Flipkart</td>\n",
       "      <td>1-2 Yrs</td>\n",
       "      <td>Bangalore/Bengaluru</td>\n",
       "    </tr>\n",
       "    <tr>\n",
       "      <th>9</th>\n",
       "      <td>Data Analyst</td>\n",
       "      <td>Flipkart</td>\n",
       "      <td>1-2 Yrs</td>\n",
       "      <td>Bangalore/Bengaluru</td>\n",
       "    </tr>\n",
       "  </tbody>\n",
       "</table>\n",
       "</div>"
      ],
      "text/plain": [
       "                                           Job Title  \\\n",
       "0                     Senior Data Analyst - Collibra   \n",
       "1  Hiring -Data Analyst, Business Analyst, MIS An...   \n",
       "2  Global Tax Automation & Operations - Data Scie...   \n",
       "3                                       Data Analyst   \n",
       "4                                       Data Analyst   \n",
       "5                                       Data Analyst   \n",
       "6                                       Data Analyst   \n",
       "7               Business Analyst (Data Analyst role)   \n",
       "8                                       Data Analyst   \n",
       "9                                       Data Analyst   \n",
       "\n",
       "                       Company Name Experience Required  \\\n",
       "0                             Shell            8-12 Yrs   \n",
       "1                          Flipkart             1-6 Yrs   \n",
       "2                              Dell             3-5 Yrs   \n",
       "3                    Insure Pro 2.0             0-2 Yrs   \n",
       "4    BERKMEER INDIA PRIVATE LIMITED             0-2 Yrs   \n",
       "5  Lifesight Technologies Pvt. Ltd.             0-2 Yrs   \n",
       "6                         GSK India             3-8 Yrs   \n",
       "7                            Xpheno             2-5 Yrs   \n",
       "8                          Flipkart             1-2 Yrs   \n",
       "9                          Flipkart             1-2 Yrs   \n",
       "\n",
       "                                        Job Location  \n",
       "0                                Bangalore/Bengaluru  \n",
       "1                                Bangalore/Bengaluru  \n",
       "2                                Bangalore/Bengaluru  \n",
       "3                 Bangalore/Bengaluru(HSR Layout +7)  \n",
       "4                                Bangalore/Bengaluru  \n",
       "5                                Bangalore/Bengaluru  \n",
       "6                                Bangalore/Bengaluru  \n",
       "7  Mumbai, Hyderabad/Secunderabad, Pune, Chennai,...  \n",
       "8                                Bangalore/Bengaluru  \n",
       "9                                Bangalore/Bengaluru  "
      ]
     },
     "execution_count": 83,
     "metadata": {},
     "output_type": "execute_result"
    }
   ],
   "source": [
    "jobs=pd.DataFrame()\n",
    "jobs['Job Title'] = job_titles\n",
    "jobs['Company Name'] = company_names\n",
    "jobs['Experience Required'] = experience\n",
    "jobs['Job Location']= location\n",
    "jobs"
   ]
  },
  {
   "cell_type": "code",
   "execution_count": null,
   "id": "ea069e47",
   "metadata": {},
   "outputs": [],
   "source": []
  },
  {
   "cell_type": "code",
   "execution_count": 90,
   "id": "34d90dea",
   "metadata": {},
   "outputs": [],
   "source": [
    "## question 2##\n",
    "\n",
    "#connecting to webdriver\n",
    "driver=webdriver.Chrome(r'C:\\Users\\GOD\\Desktop\\Flip ROBO\\chromedriver.exe')"
   ]
  },
  {
   "cell_type": "code",
   "execution_count": 91,
   "id": "741c521f",
   "metadata": {},
   "outputs": [],
   "source": [
    "url='http://www.naukri.com/'\n",
    "driver.get(url)"
   ]
  },
  {
   "cell_type": "code",
   "execution_count": 92,
   "id": "763e9636",
   "metadata": {},
   "outputs": [
    {
     "data": {
      "text/plain": [
       "<selenium.webdriver.remote.webelement.WebElement (session=\"c889aba064f7349e3c9af6f1fc2b3fd3\", element=\"0771317b-ee30-4c21-82cb-159293f1f9e3\")>"
      ]
     },
     "execution_count": 92,
     "metadata": {},
     "output_type": "execute_result"
    }
   ],
   "source": [
    "#finding the web element using the search bar using class id\n",
    "search_job = driver.find_element_by_class_name(\"suggestor-input\")\n",
    "search_job"
   ]
  },
  {
   "cell_type": "code",
   "execution_count": 93,
   "id": "94898958",
   "metadata": {},
   "outputs": [],
   "source": [
    "#writing data scientist on the skill/designation/companies bar\n",
    "search_job.send_keys(\"Data Scientist\")"
   ]
  },
  {
   "cell_type": "code",
   "execution_count": 94,
   "id": "78ea42fd",
   "metadata": {},
   "outputs": [
    {
     "data": {
      "text/plain": [
       "<selenium.webdriver.remote.webelement.WebElement (session=\"c889aba064f7349e3c9af6f1fc2b3fd3\", element=\"866c9d8d-4e24-4b10-92ce-3674b1c50042\")>"
      ]
     },
     "execution_count": 94,
     "metadata": {},
     "output_type": "execute_result"
    }
   ],
   "source": [
    "#finding the web element for search location path using absolute xpath\n",
    "search_location = driver.find_element_by_xpath('/html/body/div/div[2]/div[3]/div/div/div[3]/div/div/div/input')\n",
    "search_location"
   ]
  },
  {
   "cell_type": "code",
   "execution_count": 95,
   "id": "00fa0044",
   "metadata": {},
   "outputs": [],
   "source": [
    "#entering bangalore in the location field\n",
    "search_location.send_keys(\"Bangalore\")"
   ]
  },
  {
   "cell_type": "code",
   "execution_count": 96,
   "id": "964f8e03",
   "metadata": {},
   "outputs": [
    {
     "data": {
      "text/plain": [
       "<selenium.webdriver.remote.webelement.WebElement (session=\"c889aba064f7349e3c9af6f1fc2b3fd3\", element=\"451ae3f1-5c3a-47e5-adf0-6a6d7253fcb7\")>"
      ]
     },
     "execution_count": 96,
     "metadata": {},
     "output_type": "execute_result"
    }
   ],
   "source": [
    "#clicking the search button\n",
    "search_button = driver.find_element_by_class_name('qsbSubmit')\n",
    "search_button"
   ]
  },
  {
   "cell_type": "code",
   "execution_count": 97,
   "id": "c81be6d4",
   "metadata": {},
   "outputs": [],
   "source": [
    "search_button.click()"
   ]
  },
  {
   "cell_type": "code",
   "execution_count": 98,
   "id": "d89d3eb7",
   "metadata": {},
   "outputs": [
    {
     "data": {
      "text/plain": [
       "20"
      ]
     },
     "execution_count": 98,
     "metadata": {},
     "output_type": "execute_result"
    }
   ],
   "source": [
    "#extracting titles\n",
    "title_tags = driver.find_elements_by_xpath('//a[@class=\"title fw500 ellipsis\"]')\n",
    "len(title_tags)"
   ]
  },
  {
   "cell_type": "code",
   "execution_count": 99,
   "id": "f1bc5a2d",
   "metadata": {},
   "outputs": [
    {
     "data": {
      "text/plain": [
       "10"
      ]
     },
     "execution_count": 99,
     "metadata": {},
     "output_type": "execute_result"
    }
   ],
   "source": [
    "#extracting the text from the title tags\n",
    "job_titles =[]\n",
    "\n",
    "for i in title_tags[:10]:\n",
    "    job_titles.append(i.text)\n",
    "len(job_titles)"
   ]
  },
  {
   "cell_type": "code",
   "execution_count": 100,
   "id": "a1c14c85",
   "metadata": {},
   "outputs": [
    {
     "data": {
      "text/plain": [
       "['Global Tax Automation & Operations - Data Scientist Senior Analyst',\n",
       " 'Senior Data Scientist I',\n",
       " 'Data Scientist / Analyst',\n",
       " 'Data Scientist: Artificial Intelligence',\n",
       " 'Data Scientist I',\n",
       " 'Data Scientist / ML Engineer',\n",
       " 'Sr Data Scientist',\n",
       " 'Data Scientist /Senior Data Scientist',\n",
       " 'Senior Data Scientist',\n",
       " 'Senior Data Scientist']"
      ]
     },
     "execution_count": 100,
     "metadata": {},
     "output_type": "execute_result"
    }
   ],
   "source": [
    "job_titles"
   ]
  },
  {
   "cell_type": "code",
   "execution_count": 101,
   "id": "24c2db07",
   "metadata": {},
   "outputs": [
    {
     "data": {
      "text/plain": [
       "20"
      ]
     },
     "execution_count": 101,
     "metadata": {},
     "output_type": "execute_result"
    }
   ],
   "source": [
    "#extracting the location data\n",
    "\n",
    "location_tags = driver.find_elements_by_xpath('//li[@class=\"fleft grey-text br2 placeHolderLi location\"]')\n",
    "len(location_tags)"
   ]
  },
  {
   "cell_type": "code",
   "execution_count": 102,
   "id": "f63f7315",
   "metadata": {},
   "outputs": [
    {
     "data": {
      "text/plain": [
       "10"
      ]
     },
     "execution_count": 102,
     "metadata": {},
     "output_type": "execute_result"
    }
   ],
   "source": [
    "#extracting the text \n",
    "\n",
    "location =[]\n",
    "\n",
    "for i in location_tags[:10]:\n",
    "    location.append(i.text)\n",
    "len(location)"
   ]
  },
  {
   "cell_type": "code",
   "execution_count": 103,
   "id": "9bcf152e",
   "metadata": {},
   "outputs": [
    {
     "data": {
      "text/plain": [
       "['Bangalore/Bengaluru',\n",
       " 'Bangalore/Bengaluru',\n",
       " 'Hyderabad/Secunderabad, Bangalore/Bengaluru, Delhi / NCR',\n",
       " 'Bangalore/Bengaluru',\n",
       " 'Bangalore/Bengaluru',\n",
       " 'Noida, Kota, Mumbai, Chandigarh, Lucknow, Agra, Gurgaon/Gurugram, Jaipur, Bangalore/Bengaluru',\n",
       " 'Bangalore/Bengaluru\\n(WFH during Covid)',\n",
       " 'Chennai, Bangalore/Bengaluru\\n(WFH during Covid)',\n",
       " 'Bangalore/Bengaluru',\n",
       " 'Gurgaon/Gurugram, Bangalore/Bengaluru']"
      ]
     },
     "execution_count": 103,
     "metadata": {},
     "output_type": "execute_result"
    }
   ],
   "source": [
    "location"
   ]
  },
  {
   "cell_type": "code",
   "execution_count": 105,
   "id": "588815be",
   "metadata": {},
   "outputs": [
    {
     "data": {
      "text/plain": [
       "20"
      ]
     },
     "execution_count": 105,
     "metadata": {},
     "output_type": "execute_result"
    }
   ],
   "source": [
    "#extracting company names\n",
    "company_tags = driver.find_elements_by_xpath('//a[@class=\"subTitle ellipsis fleft\"]')\n",
    "len(company_tags)"
   ]
  },
  {
   "cell_type": "code",
   "execution_count": 106,
   "id": "c221a51b",
   "metadata": {},
   "outputs": [
    {
     "data": {
      "text/plain": [
       "10"
      ]
     },
     "execution_count": 106,
     "metadata": {},
     "output_type": "execute_result"
    }
   ],
   "source": [
    "#extracting text from compaany tags\n",
    "\n",
    "company_names =[]\n",
    "\n",
    "for i in company_tags[:10]:\n",
    "    company_names.append(i.text)\n",
    "len(company_names)"
   ]
  },
  {
   "cell_type": "code",
   "execution_count": 107,
   "id": "de207952",
   "metadata": {},
   "outputs": [
    {
     "data": {
      "text/plain": [
       "['Dell',\n",
       " 'Delhivery',\n",
       " 'Talentify',\n",
       " 'IBM',\n",
       " 'Delhivery',\n",
       " 'AVE-Promagne',\n",
       " 'Fragma data systems pvt ltd',\n",
       " 'Dun & Bradstreet',\n",
       " 'Gsn Games India',\n",
       " 'GREAT LAKES E-LEARNING SERVICES PRIVATE LIMITED']"
      ]
     },
     "execution_count": 107,
     "metadata": {},
     "output_type": "execute_result"
    }
   ],
   "source": [
    "company_names"
   ]
  },
  {
   "cell_type": "code",
   "execution_count": 108,
   "id": "79966462",
   "metadata": {},
   "outputs": [
    {
     "data": {
      "text/plain": [
       "(10, 10, 10)"
      ]
     },
     "execution_count": 108,
     "metadata": {},
     "output_type": "execute_result"
    }
   ],
   "source": [
    "len(job_titles), len(location), len(company_names)"
   ]
  },
  {
   "cell_type": "code",
   "execution_count": 109,
   "id": "7ac0b601",
   "metadata": {},
   "outputs": [
    {
     "data": {
      "text/html": [
       "<div>\n",
       "<style scoped>\n",
       "    .dataframe tbody tr th:only-of-type {\n",
       "        vertical-align: middle;\n",
       "    }\n",
       "\n",
       "    .dataframe tbody tr th {\n",
       "        vertical-align: top;\n",
       "    }\n",
       "\n",
       "    .dataframe thead th {\n",
       "        text-align: right;\n",
       "    }\n",
       "</style>\n",
       "<table border=\"1\" class=\"dataframe\">\n",
       "  <thead>\n",
       "    <tr style=\"text-align: right;\">\n",
       "      <th></th>\n",
       "      <th>Job Title</th>\n",
       "      <th>Job Location</th>\n",
       "      <th>Company Name</th>\n",
       "    </tr>\n",
       "  </thead>\n",
       "  <tbody>\n",
       "    <tr>\n",
       "      <th>0</th>\n",
       "      <td>Global Tax Automation &amp; Operations - Data Scie...</td>\n",
       "      <td>Bangalore/Bengaluru</td>\n",
       "      <td>Dell</td>\n",
       "    </tr>\n",
       "    <tr>\n",
       "      <th>1</th>\n",
       "      <td>Senior Data Scientist I</td>\n",
       "      <td>Bangalore/Bengaluru</td>\n",
       "      <td>Delhivery</td>\n",
       "    </tr>\n",
       "    <tr>\n",
       "      <th>2</th>\n",
       "      <td>Data Scientist / Analyst</td>\n",
       "      <td>Hyderabad/Secunderabad, Bangalore/Bengaluru, D...</td>\n",
       "      <td>Talentify</td>\n",
       "    </tr>\n",
       "    <tr>\n",
       "      <th>3</th>\n",
       "      <td>Data Scientist: Artificial Intelligence</td>\n",
       "      <td>Bangalore/Bengaluru</td>\n",
       "      <td>IBM</td>\n",
       "    </tr>\n",
       "    <tr>\n",
       "      <th>4</th>\n",
       "      <td>Data Scientist I</td>\n",
       "      <td>Bangalore/Bengaluru</td>\n",
       "      <td>Delhivery</td>\n",
       "    </tr>\n",
       "    <tr>\n",
       "      <th>5</th>\n",
       "      <td>Data Scientist / ML Engineer</td>\n",
       "      <td>Noida, Kota, Mumbai, Chandigarh, Lucknow, Agra...</td>\n",
       "      <td>AVE-Promagne</td>\n",
       "    </tr>\n",
       "    <tr>\n",
       "      <th>6</th>\n",
       "      <td>Sr Data Scientist</td>\n",
       "      <td>Bangalore/Bengaluru\\n(WFH during Covid)</td>\n",
       "      <td>Fragma data systems pvt ltd</td>\n",
       "    </tr>\n",
       "    <tr>\n",
       "      <th>7</th>\n",
       "      <td>Data Scientist /Senior Data Scientist</td>\n",
       "      <td>Chennai, Bangalore/Bengaluru\\n(WFH during Covid)</td>\n",
       "      <td>Dun &amp; Bradstreet</td>\n",
       "    </tr>\n",
       "    <tr>\n",
       "      <th>8</th>\n",
       "      <td>Senior Data Scientist</td>\n",
       "      <td>Bangalore/Bengaluru</td>\n",
       "      <td>Gsn Games India</td>\n",
       "    </tr>\n",
       "    <tr>\n",
       "      <th>9</th>\n",
       "      <td>Senior Data Scientist</td>\n",
       "      <td>Gurgaon/Gurugram, Bangalore/Bengaluru</td>\n",
       "      <td>GREAT LAKES E-LEARNING SERVICES PRIVATE LIMITED</td>\n",
       "    </tr>\n",
       "  </tbody>\n",
       "</table>\n",
       "</div>"
      ],
      "text/plain": [
       "                                           Job Title  \\\n",
       "0  Global Tax Automation & Operations - Data Scie...   \n",
       "1                            Senior Data Scientist I   \n",
       "2                           Data Scientist / Analyst   \n",
       "3            Data Scientist: Artificial Intelligence   \n",
       "4                                   Data Scientist I   \n",
       "5                       Data Scientist / ML Engineer   \n",
       "6                                  Sr Data Scientist   \n",
       "7              Data Scientist /Senior Data Scientist   \n",
       "8                              Senior Data Scientist   \n",
       "9                              Senior Data Scientist   \n",
       "\n",
       "                                        Job Location  \\\n",
       "0                                Bangalore/Bengaluru   \n",
       "1                                Bangalore/Bengaluru   \n",
       "2  Hyderabad/Secunderabad, Bangalore/Bengaluru, D...   \n",
       "3                                Bangalore/Bengaluru   \n",
       "4                                Bangalore/Bengaluru   \n",
       "5  Noida, Kota, Mumbai, Chandigarh, Lucknow, Agra...   \n",
       "6            Bangalore/Bengaluru\\n(WFH during Covid)   \n",
       "7   Chennai, Bangalore/Bengaluru\\n(WFH during Covid)   \n",
       "8                                Bangalore/Bengaluru   \n",
       "9              Gurgaon/Gurugram, Bangalore/Bengaluru   \n",
       "\n",
       "                                      Company Name  \n",
       "0                                             Dell  \n",
       "1                                        Delhivery  \n",
       "2                                        Talentify  \n",
       "3                                              IBM  \n",
       "4                                        Delhivery  \n",
       "5                                     AVE-Promagne  \n",
       "6                      Fragma data systems pvt ltd  \n",
       "7                                 Dun & Bradstreet  \n",
       "8                                  Gsn Games India  \n",
       "9  GREAT LAKES E-LEARNING SERVICES PRIVATE LIMITED  "
      ]
     },
     "execution_count": 109,
     "metadata": {},
     "output_type": "execute_result"
    }
   ],
   "source": [
    "jobs=pd.DataFrame()\n",
    "jobs['Job Title'] = job_titles\n",
    "jobs['Job Location']= location\n",
    "jobs['Company Name'] = company_names\n",
    "jobs"
   ]
  },
  {
   "cell_type": "code",
   "execution_count": null,
   "id": "f9520573",
   "metadata": {},
   "outputs": [],
   "source": []
  },
  {
   "cell_type": "code",
   "execution_count": 110,
   "id": "67a839e8",
   "metadata": {},
   "outputs": [],
   "source": [
    "### Question 3###\n",
    "\n",
    "#connecting to webdriver\n",
    "driver=webdriver.Chrome(r'C:\\Users\\GOD\\Desktop\\Flip ROBO\\chromedriver.exe')"
   ]
  },
  {
   "cell_type": "code",
   "execution_count": 111,
   "id": "c42a73cb",
   "metadata": {},
   "outputs": [],
   "source": [
    "url='http://www.naukri.com/'\n",
    "driver.get(url)"
   ]
  },
  {
   "cell_type": "code",
   "execution_count": 112,
   "id": "5c10f79a",
   "metadata": {},
   "outputs": [
    {
     "data": {
      "text/plain": [
       "<selenium.webdriver.remote.webelement.WebElement (session=\"9fc29eb653c3c792e0f69e3f0f93a9fe\", element=\"b4072f07-bc9c-49e8-b688-32f3f782ec06\")>"
      ]
     },
     "execution_count": 112,
     "metadata": {},
     "output_type": "execute_result"
    }
   ],
   "source": [
    "#finding the web element using the search bar using class id\n",
    "search_job = driver.find_element_by_class_name(\"suggestor-input\")\n",
    "search_job"
   ]
  },
  {
   "cell_type": "code",
   "execution_count": 113,
   "id": "28469b28",
   "metadata": {},
   "outputs": [],
   "source": [
    "#writing data scientist on the skill/designation/companies bar\n",
    "search_job.send_keys(\"Data Scientist\")"
   ]
  },
  {
   "cell_type": "code",
   "execution_count": 114,
   "id": "7bda2aca",
   "metadata": {},
   "outputs": [
    {
     "data": {
      "text/plain": [
       "<selenium.webdriver.remote.webelement.WebElement (session=\"9fc29eb653c3c792e0f69e3f0f93a9fe\", element=\"c99e58c5-042e-438e-9f99-6fd0055cbd09\")>"
      ]
     },
     "execution_count": 114,
     "metadata": {},
     "output_type": "execute_result"
    }
   ],
   "source": [
    "#finding the web element for search location path using absolute xpath\n",
    "search_location = driver.find_element_by_xpath('/html/body/div/div[2]/div[3]/div/div/div[3]/div/div/div/input')\n",
    "search_location"
   ]
  },
  {
   "cell_type": "code",
   "execution_count": 115,
   "id": "088a1ef7",
   "metadata": {},
   "outputs": [
    {
     "data": {
      "text/plain": [
       "<selenium.webdriver.remote.webelement.WebElement (session=\"9fc29eb653c3c792e0f69e3f0f93a9fe\", element=\"06365267-fbb0-4193-8569-88116279eb74\")>"
      ]
     },
     "execution_count": 115,
     "metadata": {},
     "output_type": "execute_result"
    }
   ],
   "source": [
    "#clicking the search button\n",
    "search_button = driver.find_element_by_class_name('qsbSubmit')\n",
    "search_button"
   ]
  },
  {
   "cell_type": "code",
   "execution_count": 116,
   "id": "2c7d5ce6",
   "metadata": {},
   "outputs": [],
   "source": [
    "search_button.click()"
   ]
  },
  {
   "cell_type": "code",
   "execution_count": 117,
   "id": "96730115",
   "metadata": {},
   "outputs": [],
   "source": [
    "#clicking fliters by using absolute xpath \n",
    "\n",
    "#filtering location \"delhi/NCR\"\n",
    "\n",
    "location_check = driver.find_element_by_xpath('/html/body/div[1]/div[3]/div[2]/section[1]/div[2]/div[3]/div[2]/div[3]/label/p/span[1]')\n"
   ]
  },
  {
   "cell_type": "code",
   "execution_count": 118,
   "id": "70969b46",
   "metadata": {},
   "outputs": [],
   "source": [
    "location_check.click()"
   ]
  },
  {
   "cell_type": "code",
   "execution_count": 119,
   "id": "1a9feaaa",
   "metadata": {},
   "outputs": [],
   "source": [
    "#filtering salary \"3-6 lakhs\"\n",
    "\n",
    "salary_check = driver.find_element_by_xpath('/html/body/div[1]/div[3]/div[2]/section[1]/div[2]/div[4]/div[2]/div[2]/label/p/span[1]')\n"
   ]
  },
  {
   "cell_type": "code",
   "execution_count": 120,
   "id": "dbe7772f",
   "metadata": {},
   "outputs": [],
   "source": [
    "salary_check.click()"
   ]
  },
  {
   "cell_type": "code",
   "execution_count": 121,
   "id": "aa6ab5d5",
   "metadata": {},
   "outputs": [
    {
     "data": {
      "text/plain": [
       "20"
      ]
     },
     "execution_count": 121,
     "metadata": {},
     "output_type": "execute_result"
    }
   ],
   "source": [
    "#extracting titles\n",
    "title_tags = driver.find_elements_by_xpath('//a[@class=\"title fw500 ellipsis\"]')\n",
    "len(title_tags)"
   ]
  },
  {
   "cell_type": "code",
   "execution_count": 122,
   "id": "3676f7b9",
   "metadata": {},
   "outputs": [
    {
     "data": {
      "text/plain": [
       "10"
      ]
     },
     "execution_count": 122,
     "metadata": {},
     "output_type": "execute_result"
    }
   ],
   "source": [
    "#extracting the text from the title tags\n",
    "job_titles =[]\n",
    "\n",
    "for i in title_tags[:10]:\n",
    "    job_titles.append(i.text)\n",
    "len(job_titles)"
   ]
  },
  {
   "cell_type": "code",
   "execution_count": 123,
   "id": "502bf7b8",
   "metadata": {},
   "outputs": [
    {
     "data": {
      "text/plain": [
       "['Opening For Data Scientist',\n",
       " 'Data Scientist II',\n",
       " 'Data Scientist',\n",
       " 'Junior Data Scientist - Goods & Service Tax Network, Delhi',\n",
       " 'Associate Data Scientist - Java/ Scala/ Apache Server',\n",
       " 'Data Scientist',\n",
       " 'Data Scientist',\n",
       " 'Data Scientist',\n",
       " 'Data Scientist / Senior DS/ Team Lead',\n",
       " 'Data Scientist (ML AI Engineer) / InfoObjects Inc.']"
      ]
     },
     "execution_count": 123,
     "metadata": {},
     "output_type": "execute_result"
    }
   ],
   "source": [
    "job_titles"
   ]
  },
  {
   "cell_type": "code",
   "execution_count": 124,
   "id": "f2c8b66d",
   "metadata": {},
   "outputs": [
    {
     "data": {
      "text/plain": [
       "20"
      ]
     },
     "execution_count": 124,
     "metadata": {},
     "output_type": "execute_result"
    }
   ],
   "source": [
    "#extracting the location data\n",
    "\n",
    "location_tags = driver.find_elements_by_xpath('//li[@class=\"fleft grey-text br2 placeHolderLi location\"]')\n",
    "len(location_tags)"
   ]
  },
  {
   "cell_type": "code",
   "execution_count": 125,
   "id": "0bc23b1d",
   "metadata": {},
   "outputs": [
    {
     "data": {
      "text/plain": [
       "10"
      ]
     },
     "execution_count": 125,
     "metadata": {},
     "output_type": "execute_result"
    }
   ],
   "source": [
    "#extracting the text \n",
    "\n",
    "location =[]\n",
    "\n",
    "for i in location_tags[:10]:\n",
    "    location.append(i.text)\n",
    "len(location)"
   ]
  },
  {
   "cell_type": "code",
   "execution_count": 126,
   "id": "1917377d",
   "metadata": {},
   "outputs": [
    {
     "data": {
      "text/plain": [
       "['Gurgaon/Gurugram',\n",
       " 'Delhi / NCR',\n",
       " 'Noida',\n",
       " 'Delhi / NCR',\n",
       " 'Noida',\n",
       " 'New Delhi, Delhi / NCR, Mumbai (All Areas)',\n",
       " 'Gurgaon/Gurugram\\n(WFH during Covid)',\n",
       " 'New Delhi',\n",
       " 'Mumbai, Gurgaon/Gurugram(Cyber City +1)',\n",
       " 'Indore, Jaipur, Delhi / NCR\\n(WFH during Covid)']"
      ]
     },
     "execution_count": 126,
     "metadata": {},
     "output_type": "execute_result"
    }
   ],
   "source": [
    "location"
   ]
  },
  {
   "cell_type": "code",
   "execution_count": 127,
   "id": "4d785a39",
   "metadata": {},
   "outputs": [
    {
     "data": {
      "text/plain": [
       "20"
      ]
     },
     "execution_count": 127,
     "metadata": {},
     "output_type": "execute_result"
    }
   ],
   "source": [
    "#extracting company names\n",
    "company_tags = driver.find_elements_by_xpath('//a[@class=\"subTitle ellipsis fleft\"]')\n",
    "len(company_tags)"
   ]
  },
  {
   "cell_type": "code",
   "execution_count": 128,
   "id": "fa1bc8b2",
   "metadata": {},
   "outputs": [
    {
     "data": {
      "text/plain": [
       "10"
      ]
     },
     "execution_count": 128,
     "metadata": {},
     "output_type": "execute_result"
    }
   ],
   "source": [
    "#extracting text from compaany tags\n",
    "\n",
    "company_names =[]\n",
    "\n",
    "for i in company_tags[:10]:\n",
    "    company_names.append(i.text)\n",
    "len(company_names)"
   ]
  },
  {
   "cell_type": "code",
   "execution_count": 129,
   "id": "45093cbc",
   "metadata": {},
   "outputs": [
    {
     "data": {
      "text/plain": [
       "['Care Health Insurance',\n",
       " 'Chegg',\n",
       " 'Stefanini',\n",
       " 'NISG (National Institute for Smart Government)',\n",
       " 'Smart work Consultants',\n",
       " 'Cloudstrats Technologies Private Limited',\n",
       " 'Zekardo Automotive Solutions',\n",
       " 'Team Computers Pvt Ltd',\n",
       " 'NebulARC Technologies Private Limited',\n",
       " 'INFOOBJECTS SOFTWARE ( INDIA) PRIVATE LIMITED']"
      ]
     },
     "execution_count": 129,
     "metadata": {},
     "output_type": "execute_result"
    }
   ],
   "source": [
    "company_names"
   ]
  },
  {
   "cell_type": "code",
   "execution_count": 130,
   "id": "4dd9c4c0",
   "metadata": {},
   "outputs": [
    {
     "data": {
      "text/plain": [
       "20"
      ]
     },
     "execution_count": 130,
     "metadata": {},
     "output_type": "execute_result"
    }
   ],
   "source": [
    "#Extracting experience\n",
    "\n",
    "exp_tags= driver.find_elements_by_xpath('//span[contains(@title,\"Yrs\")]')\n",
    "len(exp_tags)"
   ]
  },
  {
   "cell_type": "code",
   "execution_count": 131,
   "id": "28f2b381",
   "metadata": {},
   "outputs": [
    {
     "data": {
      "text/plain": [
       "10"
      ]
     },
     "execution_count": 131,
     "metadata": {},
     "output_type": "execute_result"
    }
   ],
   "source": [
    "#extracting text from experience tags\n",
    "\n",
    "experience =[]\n",
    "\n",
    "for i in exp_tags [:10]:\n",
    "    experience.append(i.text)\n",
    "len(experience)"
   ]
  },
  {
   "cell_type": "code",
   "execution_count": 132,
   "id": "3f2643d3",
   "metadata": {},
   "outputs": [
    {
     "data": {
      "text/plain": [
       "['1-5 Yrs',\n",
       " '2-6 Yrs',\n",
       " '3-8 Yrs',\n",
       " '3-8 Yrs',\n",
       " '1-4 Yrs',\n",
       " '3-5 Yrs',\n",
       " '5-8 Yrs',\n",
       " '2-6 Yrs',\n",
       " '0-4 Yrs',\n",
       " '3-7 Yrs']"
      ]
     },
     "execution_count": 132,
     "metadata": {},
     "output_type": "execute_result"
    }
   ],
   "source": [
    "experience"
   ]
  },
  {
   "cell_type": "code",
   "execution_count": 133,
   "id": "602e417c",
   "metadata": {},
   "outputs": [
    {
     "data": {
      "text/plain": [
       "(10, 10, 10, 10)"
      ]
     },
     "execution_count": 133,
     "metadata": {},
     "output_type": "execute_result"
    }
   ],
   "source": [
    "len(job_titles), len(location), len(company_names), len(experience)"
   ]
  },
  {
   "cell_type": "code",
   "execution_count": 134,
   "id": "e504dbda",
   "metadata": {},
   "outputs": [
    {
     "data": {
      "text/html": [
       "<div>\n",
       "<style scoped>\n",
       "    .dataframe tbody tr th:only-of-type {\n",
       "        vertical-align: middle;\n",
       "    }\n",
       "\n",
       "    .dataframe tbody tr th {\n",
       "        vertical-align: top;\n",
       "    }\n",
       "\n",
       "    .dataframe thead th {\n",
       "        text-align: right;\n",
       "    }\n",
       "</style>\n",
       "<table border=\"1\" class=\"dataframe\">\n",
       "  <thead>\n",
       "    <tr style=\"text-align: right;\">\n",
       "      <th></th>\n",
       "      <th>Job Title</th>\n",
       "      <th>Job Location</th>\n",
       "      <th>Company Name</th>\n",
       "      <th>Experience Required</th>\n",
       "    </tr>\n",
       "  </thead>\n",
       "  <tbody>\n",
       "    <tr>\n",
       "      <th>0</th>\n",
       "      <td>Opening For Data Scientist</td>\n",
       "      <td>Gurgaon/Gurugram</td>\n",
       "      <td>Care Health Insurance</td>\n",
       "      <td>1-5 Yrs</td>\n",
       "    </tr>\n",
       "    <tr>\n",
       "      <th>1</th>\n",
       "      <td>Data Scientist II</td>\n",
       "      <td>Delhi / NCR</td>\n",
       "      <td>Chegg</td>\n",
       "      <td>2-6 Yrs</td>\n",
       "    </tr>\n",
       "    <tr>\n",
       "      <th>2</th>\n",
       "      <td>Data Scientist</td>\n",
       "      <td>Noida</td>\n",
       "      <td>Stefanini</td>\n",
       "      <td>3-8 Yrs</td>\n",
       "    </tr>\n",
       "    <tr>\n",
       "      <th>3</th>\n",
       "      <td>Junior Data Scientist - Goods &amp; Service Tax Ne...</td>\n",
       "      <td>Delhi / NCR</td>\n",
       "      <td>NISG (National Institute for Smart Government)</td>\n",
       "      <td>3-8 Yrs</td>\n",
       "    </tr>\n",
       "    <tr>\n",
       "      <th>4</th>\n",
       "      <td>Associate Data Scientist - Java/ Scala/ Apache...</td>\n",
       "      <td>Noida</td>\n",
       "      <td>Smart work Consultants</td>\n",
       "      <td>1-4 Yrs</td>\n",
       "    </tr>\n",
       "    <tr>\n",
       "      <th>5</th>\n",
       "      <td>Data Scientist</td>\n",
       "      <td>New Delhi, Delhi / NCR, Mumbai (All Areas)</td>\n",
       "      <td>Cloudstrats Technologies Private Limited</td>\n",
       "      <td>3-5 Yrs</td>\n",
       "    </tr>\n",
       "    <tr>\n",
       "      <th>6</th>\n",
       "      <td>Data Scientist</td>\n",
       "      <td>Gurgaon/Gurugram\\n(WFH during Covid)</td>\n",
       "      <td>Zekardo Automotive Solutions</td>\n",
       "      <td>5-8 Yrs</td>\n",
       "    </tr>\n",
       "    <tr>\n",
       "      <th>7</th>\n",
       "      <td>Data Scientist</td>\n",
       "      <td>New Delhi</td>\n",
       "      <td>Team Computers Pvt Ltd</td>\n",
       "      <td>2-6 Yrs</td>\n",
       "    </tr>\n",
       "    <tr>\n",
       "      <th>8</th>\n",
       "      <td>Data Scientist / Senior DS/ Team Lead</td>\n",
       "      <td>Mumbai, Gurgaon/Gurugram(Cyber City +1)</td>\n",
       "      <td>NebulARC Technologies Private Limited</td>\n",
       "      <td>0-4 Yrs</td>\n",
       "    </tr>\n",
       "    <tr>\n",
       "      <th>9</th>\n",
       "      <td>Data Scientist (ML AI Engineer) / InfoObjects ...</td>\n",
       "      <td>Indore, Jaipur, Delhi / NCR\\n(WFH during Covid)</td>\n",
       "      <td>INFOOBJECTS SOFTWARE ( INDIA) PRIVATE LIMITED</td>\n",
       "      <td>3-7 Yrs</td>\n",
       "    </tr>\n",
       "  </tbody>\n",
       "</table>\n",
       "</div>"
      ],
      "text/plain": [
       "                                           Job Title  \\\n",
       "0                         Opening For Data Scientist   \n",
       "1                                  Data Scientist II   \n",
       "2                                     Data Scientist   \n",
       "3  Junior Data Scientist - Goods & Service Tax Ne...   \n",
       "4  Associate Data Scientist - Java/ Scala/ Apache...   \n",
       "5                                     Data Scientist   \n",
       "6                                     Data Scientist   \n",
       "7                                     Data Scientist   \n",
       "8              Data Scientist / Senior DS/ Team Lead   \n",
       "9  Data Scientist (ML AI Engineer) / InfoObjects ...   \n",
       "\n",
       "                                      Job Location  \\\n",
       "0                                 Gurgaon/Gurugram   \n",
       "1                                      Delhi / NCR   \n",
       "2                                            Noida   \n",
       "3                                      Delhi / NCR   \n",
       "4                                            Noida   \n",
       "5       New Delhi, Delhi / NCR, Mumbai (All Areas)   \n",
       "6             Gurgaon/Gurugram\\n(WFH during Covid)   \n",
       "7                                        New Delhi   \n",
       "8          Mumbai, Gurgaon/Gurugram(Cyber City +1)   \n",
       "9  Indore, Jaipur, Delhi / NCR\\n(WFH during Covid)   \n",
       "\n",
       "                                     Company Name Experience Required  \n",
       "0                           Care Health Insurance             1-5 Yrs  \n",
       "1                                           Chegg             2-6 Yrs  \n",
       "2                                       Stefanini             3-8 Yrs  \n",
       "3  NISG (National Institute for Smart Government)             3-8 Yrs  \n",
       "4                          Smart work Consultants             1-4 Yrs  \n",
       "5        Cloudstrats Technologies Private Limited             3-5 Yrs  \n",
       "6                    Zekardo Automotive Solutions             5-8 Yrs  \n",
       "7                          Team Computers Pvt Ltd             2-6 Yrs  \n",
       "8           NebulARC Technologies Private Limited             0-4 Yrs  \n",
       "9   INFOOBJECTS SOFTWARE ( INDIA) PRIVATE LIMITED             3-7 Yrs  "
      ]
     },
     "execution_count": 134,
     "metadata": {},
     "output_type": "execute_result"
    }
   ],
   "source": [
    "jobs=pd.DataFrame()\n",
    "jobs['Job Title'] = job_titles\n",
    "jobs['Job Location']= location\n",
    "jobs['Company Name'] = company_names\n",
    "jobs['Experience Required'] = experience\n",
    "jobs "
   ]
  },
  {
   "cell_type": "markdown",
   "id": "bf8e927b",
   "metadata": {},
   "source": [
    "### Question 4 ####"
   ]
  },
  {
   "cell_type": "code",
   "execution_count": 185,
   "id": "a031a9e3",
   "metadata": {},
   "outputs": [],
   "source": [
    "#connecting to webdriver\n",
    "driver=webdriver.Chrome(r'C:\\Users\\GOD\\Desktop\\Flip ROBO\\chromedriver.exe')"
   ]
  },
  {
   "cell_type": "code",
   "execution_count": 186,
   "id": "dfab07df",
   "metadata": {},
   "outputs": [],
   "source": [
    "url='http://www.flipkart.com/'\n",
    "driver.get(url)"
   ]
  },
  {
   "cell_type": "code",
   "execution_count": 187,
   "id": "8d09a611",
   "metadata": {},
   "outputs": [
    {
     "data": {
      "text/plain": [
       "<selenium.webdriver.remote.webelement.WebElement (session=\"049bec066b1ad8ed950a05cb1ef12cd1\", element=\"e233ca47-d1b5-484c-961b-f134c9dc05f2\")>"
      ]
     },
     "execution_count": 187,
     "metadata": {},
     "output_type": "execute_result"
    }
   ],
   "source": [
    "#finding the web element using the search bar using class id\n",
    "search_product = driver.find_element_by_class_name(\"_3704LK\")\n",
    "search_product"
   ]
  },
  {
   "cell_type": "code",
   "execution_count": 188,
   "id": "f8feec16",
   "metadata": {},
   "outputs": [],
   "source": [
    "#searching sunglasses in search bar\n",
    "search_product.send_keys(\"Sunglasses\")"
   ]
  },
  {
   "cell_type": "code",
   "execution_count": 189,
   "id": "d364222c",
   "metadata": {},
   "outputs": [
    {
     "data": {
      "text/plain": [
       "<selenium.webdriver.remote.webelement.WebElement (session=\"049bec066b1ad8ed950a05cb1ef12cd1\", element=\"b3d6207f-4c3c-48de-84de-5b35473dcef5\")>"
      ]
     },
     "execution_count": 189,
     "metadata": {},
     "output_type": "execute_result"
    }
   ],
   "source": [
    "#clicking the search button\n",
    "search_button = driver.find_element_by_class_name('L0Z3Pu')\n",
    "search_button"
   ]
  },
  {
   "cell_type": "code",
   "execution_count": 190,
   "id": "16c8622a",
   "metadata": {},
   "outputs": [],
   "source": [
    "search_button.click()"
   ]
  },
  {
   "cell_type": "code",
   "execution_count": 191,
   "id": "d5f81333",
   "metadata": {},
   "outputs": [
    {
     "data": {
      "text/plain": [
       "40"
      ]
     },
     "execution_count": 191,
     "metadata": {},
     "output_type": "execute_result"
    }
   ],
   "source": [
    "#extracting company name\n",
    "company_tags = driver.find_elements_by_xpath('//div[@class=\"_2WkVRV\"]')\n",
    "len(company_tags)"
   ]
  },
  {
   "cell_type": "code",
   "execution_count": 192,
   "id": "9be9f09e",
   "metadata": {},
   "outputs": [
    {
     "data": {
      "text/plain": [
       "40"
      ]
     },
     "execution_count": 192,
     "metadata": {},
     "output_type": "execute_result"
    }
   ],
   "source": [
    "company_name =[]\n",
    "\n",
    "for i in company_tags:\n",
    "    company_name.append(i.text)\n",
    "len(company_name)"
   ]
  },
  {
   "cell_type": "code",
   "execution_count": 193,
   "id": "baaa4671",
   "metadata": {},
   "outputs": [
    {
     "data": {
      "text/plain": [
       "['ROZZETTA CRAFT',\n",
       " 'VINCENT CHASE',\n",
       " 'Fastrack',\n",
       " 'Elligator',\n",
       " 'SUNBEE',\n",
       " 'SRPM',\n",
       " 'SHAAH COLLECTIONS',\n",
       " 'Singco India',\n",
       " 'New Specs',\n",
       " 'SHAAH COLLECTIONS',\n",
       " 'PIRASO',\n",
       " 'VILLAIN',\n",
       " 'SUNBEE',\n",
       " 'kingsunglasses',\n",
       " 'Fastrack',\n",
       " 'VINCENT CHASE',\n",
       " 'ROZZETTA CRAFT',\n",
       " 'PHENOMENAL',\n",
       " 'ROZZETTA CRAFT',\n",
       " 'ROZZETTA CRAFT',\n",
       " 'PHENOMENAL',\n",
       " 'GANSTA',\n",
       " 'GANSTA',\n",
       " 'VINCENT CHASE',\n",
       " 'PHENOMENAL',\n",
       " 'Elligator',\n",
       " 'Elligator',\n",
       " 'ROZZETTA CRAFT',\n",
       " 'Elligator',\n",
       " 'PIRASO',\n",
       " 'Fastrack',\n",
       " 'VINCENT CHASE',\n",
       " 'agera',\n",
       " 'New Specs',\n",
       " 'Lee Topper',\n",
       " 'VINCENT CHASE',\n",
       " 'kingsunglasses',\n",
       " 'Elligator',\n",
       " 'New Specs',\n",
       " 'ROZZETTA CRAFT']"
      ]
     },
     "execution_count": 193,
     "metadata": {},
     "output_type": "execute_result"
    }
   ],
   "source": [
    "company_name"
   ]
  },
  {
   "cell_type": "code",
   "execution_count": 195,
   "id": "a6d4d8c5",
   "metadata": {},
   "outputs": [
    {
     "data": {
      "text/plain": [
       "40"
      ]
     },
     "execution_count": 195,
     "metadata": {},
     "output_type": "execute_result"
    }
   ],
   "source": [
    "#extracting Description\n",
    "description_tags = driver.find_elements_by_xpath('//a[contains(@class,\"IRpwTa\")]')\n",
    "len(description_tags)"
   ]
  },
  {
   "cell_type": "code",
   "execution_count": 196,
   "id": "46435c9f",
   "metadata": {},
   "outputs": [
    {
     "data": {
      "text/plain": [
       "40"
      ]
     },
     "execution_count": 196,
     "metadata": {},
     "output_type": "execute_result"
    }
   ],
   "source": [
    "#extracting text from company tags\n",
    "\n",
    "description =[]\n",
    "\n",
    "for i in description_tags:\n",
    "    description.append(i.text)\n",
    "len(description)"
   ]
  },
  {
   "cell_type": "code",
   "execution_count": 197,
   "id": "86a42537",
   "metadata": {},
   "outputs": [
    {
     "data": {
      "text/plain": [
       "['UV Protection, Gradient Retro Square Sunglasses (62)',\n",
       " 'by Lenskart Polarized, UV Protection Wayfarer Sunglasse...',\n",
       " 'UV Protection Wayfarer Sunglasses (Free Size)',\n",
       " 'UV Protection Round Sunglasses (54)',\n",
       " 'UV Protection, Polarized Wayfarer Sunglasses (Free Size...',\n",
       " 'UV Protection Wayfarer Sunglasses (50)',\n",
       " 'UV Protection, Polarized, Mirrored Rectangular Sunglass...',\n",
       " 'Gradient, Toughened Glass Lens, UV Protection Retro Squ...',\n",
       " 'UV Protection Rectangular Sunglasses (Free Size)',\n",
       " 'UV Protection, Polarized, Mirrored Rectangular Sunglass...',\n",
       " 'UV Protection Aviator Sunglasses (54)',\n",
       " 'Others Wayfarer Sunglasses (Free Size)',\n",
       " 'UV Protection, Polarized, Mirrored Round Sunglasses (Fr...',\n",
       " 'UV Protection Round Sunglasses (54)',\n",
       " 'UV Protection Rectangular Sunglasses (Free Size)',\n",
       " 'by Lenskart UV Protection Aviator Sunglasses (Free Size...',\n",
       " 'Polarized, Night Vision, Riding Glasses Sports, Wrap-ar...',\n",
       " 'UV Protection Retro Square Sunglasses (Free Size)',\n",
       " 'UV Protection, Gradient Rectangular Sunglasses (Free Si...',\n",
       " 'UV Protection, Gradient Retro Square Sunglasses (Free S...',\n",
       " 'UV Protection Retro Square Sunglasses (53)',\n",
       " 'UV Protection Aviator Sunglasses (57)',\n",
       " 'UV Protection, Riding Glasses Wayfarer Sunglasses (53)',\n",
       " 'by Lenskart Polarized, UV Protection Wayfarer Sunglasse...',\n",
       " 'UV Protection, Mirrored Retro Square Sunglasses (53)',\n",
       " 'UV Protection Round Sunglasses (53)',\n",
       " 'UV Protection Round Sunglasses (54)',\n",
       " 'UV Protection Aviator Sunglasses (62)',\n",
       " 'UV Protection Round Sunglasses (50)',\n",
       " 'UV Protection Aviator Sunglasses (54)',\n",
       " 'Gradient, UV Protection Wayfarer Sunglasses (Free Size)',\n",
       " 'by Lenskart Polarized, UV Protection Wayfarer Sunglasse...',\n",
       " 'Gradient Aviator Sunglasses (55)',\n",
       " 'Mirrored, UV Protection, Riding Glasses, Others Round S...',\n",
       " 'UV Protection Rectangular Sunglasses (Free Size)',\n",
       " 'by Lenskart Polarized, UV Protection Wayfarer Sunglasse...',\n",
       " 'UV Protection Rectangular Sunglasses (Free Size)',\n",
       " 'UV Protection Wayfarer Sunglasses (53)',\n",
       " 'UV Protection Aviator Sunglasses (Free Size)',\n",
       " 'UV Protection, Gradient Rectangular Sunglasses (Free Si...']"
      ]
     },
     "execution_count": 197,
     "metadata": {},
     "output_type": "execute_result"
    }
   ],
   "source": [
    "description"
   ]
  },
  {
   "cell_type": "code",
   "execution_count": 199,
   "id": "4612669b",
   "metadata": {},
   "outputs": [
    {
     "data": {
      "text/plain": [
       "40"
      ]
     },
     "execution_count": 199,
     "metadata": {},
     "output_type": "execute_result"
    }
   ],
   "source": [
    "#extracting cost\n",
    "cost_tags = driver.find_elements_by_xpath('//div[@class=\"_30jeq3\"]')\n",
    "len(cost_tags)"
   ]
  },
  {
   "cell_type": "code",
   "execution_count": 200,
   "id": "7175ea92",
   "metadata": {},
   "outputs": [
    {
     "data": {
      "text/plain": [
       "40"
      ]
     },
     "execution_count": 200,
     "metadata": {},
     "output_type": "execute_result"
    }
   ],
   "source": [
    "#extracting text from cost tags\n",
    "\n",
    "price = []\n",
    "\n",
    "for i in cost_tags:\n",
    "    price.append(i.text)\n",
    "len(price)"
   ]
  },
  {
   "cell_type": "code",
   "execution_count": 201,
   "id": "4bb50f3f",
   "metadata": {},
   "outputs": [
    {
     "data": {
      "text/plain": [
       "['₹499',\n",
       " '₹799',\n",
       " '₹689',\n",
       " '₹248',\n",
       " '₹243',\n",
       " '₹188',\n",
       " '₹181',\n",
       " '₹664',\n",
       " '₹234',\n",
       " '₹165',\n",
       " '₹229',\n",
       " '₹1,099',\n",
       " '₹271',\n",
       " '₹178',\n",
       " '₹607',\n",
       " '₹999',\n",
       " '₹499',\n",
       " '₹309',\n",
       " '₹399',\n",
       " '₹349',\n",
       " '₹269',\n",
       " '₹269',\n",
       " '₹209',\n",
       " '₹799',\n",
       " '₹299',\n",
       " '₹189',\n",
       " '₹265',\n",
       " '₹649',\n",
       " '₹230',\n",
       " '₹200',\n",
       " '₹626',\n",
       " '₹1,179',\n",
       " '₹196',\n",
       " '₹259',\n",
       " '₹199',\n",
       " '₹1,533',\n",
       " '₹180',\n",
       " '₹167',\n",
       " '₹175',\n",
       " '₹348']"
      ]
     },
     "execution_count": 201,
     "metadata": {},
     "output_type": "execute_result"
    }
   ],
   "source": [
    "price"
   ]
  },
  {
   "cell_type": "code",
   "execution_count": 202,
   "id": "61ff8334",
   "metadata": {},
   "outputs": [
    {
     "data": {
      "text/plain": [
       "40"
      ]
     },
     "execution_count": 202,
     "metadata": {},
     "output_type": "execute_result"
    }
   ],
   "source": [
    "#extracting originallrate\n",
    "original_tag = driver.find_elements_by_xpath('//div[@class=\"_3I9_wc\"]')\n",
    "len(original_tag)"
   ]
  },
  {
   "cell_type": "code",
   "execution_count": 203,
   "id": "777eeee9",
   "metadata": {},
   "outputs": [
    {
     "data": {
      "text/plain": [
       "40"
      ]
     },
     "execution_count": 203,
     "metadata": {},
     "output_type": "execute_result"
    }
   ],
   "source": [
    "#extracting text from original tags\n",
    "\n",
    "original_price =[]\n",
    "\n",
    "for i in original_tag:\n",
    "    original_price.append(i.text)\n",
    "len(original_price)"
   ]
  },
  {
   "cell_type": "code",
   "execution_count": 204,
   "id": "93e4c860",
   "metadata": {},
   "outputs": [
    {
     "data": {
      "text/plain": [
       "['₹1,999',\n",
       " '₹1,999',\n",
       " '₹899',\n",
       " '₹2,495',\n",
       " '₹1,299',\n",
       " '₹1,299',\n",
       " '₹999',\n",
       " '₹2,999',\n",
       " '₹1,999',\n",
       " '₹1,699',\n",
       " '₹1,599',\n",
       " '₹1,749',\n",
       " '₹1,699',\n",
       " '₹999',\n",
       " '₹799',\n",
       " '₹1,999',\n",
       " '₹1,999',\n",
       " '₹1,999',\n",
       " '₹1,999',\n",
       " '₹1,999',\n",
       " '₹999',\n",
       " '₹1,999',\n",
       " '₹1,799',\n",
       " '₹1,999',\n",
       " '₹1,999',\n",
       " '₹1,497',\n",
       " '₹1,299',\n",
       " '₹2,555',\n",
       " '₹1,996',\n",
       " '₹1,599',\n",
       " '₹799',\n",
       " '₹1,999',\n",
       " '₹1,149',\n",
       " '₹1,399',\n",
       " '₹999',\n",
       " '₹2,500',\n",
       " '₹1,099',\n",
       " '₹1,497',\n",
       " '₹1,599',\n",
       " '₹2,256']"
      ]
     },
     "execution_count": 204,
     "metadata": {},
     "output_type": "execute_result"
    }
   ],
   "source": [
    "original_price"
   ]
  },
  {
   "cell_type": "code",
   "execution_count": 205,
   "id": "bae7a201",
   "metadata": {},
   "outputs": [
    {
     "data": {
      "text/plain": [
       "40"
      ]
     },
     "execution_count": 205,
     "metadata": {},
     "output_type": "execute_result"
    }
   ],
   "source": [
    "#extracting offer %\n",
    "offer_tags = driver.find_elements_by_xpath('//div[@class=\"_3Ay6Sb\"]')\n",
    "len(offer_tags)"
   ]
  },
  {
   "cell_type": "code",
   "execution_count": 206,
   "id": "a788586b",
   "metadata": {},
   "outputs": [
    {
     "data": {
      "text/plain": [
       "40"
      ]
     },
     "execution_count": 206,
     "metadata": {},
     "output_type": "execute_result"
    }
   ],
   "source": [
    "#extracting text from offer tags\n",
    "\n",
    "offer_percentage =[]\n",
    "\n",
    "for i in offer_tags:\n",
    "    offer_percentage.append(i.text)\n",
    "len(offer_percentage)"
   ]
  },
  {
   "cell_type": "code",
   "execution_count": 207,
   "id": "3c938e31",
   "metadata": {},
   "outputs": [
    {
     "data": {
      "text/plain": [
       "['75% off',\n",
       " '60% off',\n",
       " '23% off',\n",
       " '90% off',\n",
       " '81% off',\n",
       " '85% off',\n",
       " '81% off',\n",
       " '77% off',\n",
       " '88% off',\n",
       " '90% off',\n",
       " '85% off',\n",
       " '37% off',\n",
       " '84% off',\n",
       " '82% off',\n",
       " '24% off',\n",
       " '50% off',\n",
       " '75% off',\n",
       " '84% off',\n",
       " '80% off',\n",
       " '82% off',\n",
       " '73% off',\n",
       " '86% off',\n",
       " '88% off',\n",
       " '60% off',\n",
       " '85% off',\n",
       " '87% off',\n",
       " '79% off',\n",
       " '74% off',\n",
       " '88% off',\n",
       " '87% off',\n",
       " '21% off',\n",
       " '41% off',\n",
       " '82% off',\n",
       " '81% off',\n",
       " '80% off',\n",
       " '38% off',\n",
       " '83% off',\n",
       " '88% off',\n",
       " '89% off',\n",
       " '84% off']"
      ]
     },
     "execution_count": 207,
     "metadata": {},
     "output_type": "execute_result"
    }
   ],
   "source": [
    "offer_percentage"
   ]
  },
  {
   "cell_type": "code",
   "execution_count": 208,
   "id": "f9e89c05",
   "metadata": {},
   "outputs": [
    {
     "data": {
      "text/html": [
       "<div>\n",
       "<style scoped>\n",
       "    .dataframe tbody tr th:only-of-type {\n",
       "        vertical-align: middle;\n",
       "    }\n",
       "\n",
       "    .dataframe tbody tr th {\n",
       "        vertical-align: top;\n",
       "    }\n",
       "\n",
       "    .dataframe thead th {\n",
       "        text-align: right;\n",
       "    }\n",
       "</style>\n",
       "<table border=\"1\" class=\"dataframe\">\n",
       "  <thead>\n",
       "    <tr style=\"text-align: right;\">\n",
       "      <th></th>\n",
       "      <th>Company Name</th>\n",
       "      <th>Product Description</th>\n",
       "      <th>Price</th>\n",
       "      <th>Original Price</th>\n",
       "      <th>Offer %</th>\n",
       "    </tr>\n",
       "  </thead>\n",
       "  <tbody>\n",
       "    <tr>\n",
       "      <th>0</th>\n",
       "      <td>ROZZETTA CRAFT</td>\n",
       "      <td>UV Protection, Gradient Retro Square Sunglasse...</td>\n",
       "      <td>₹499</td>\n",
       "      <td>₹1,999</td>\n",
       "      <td>75% off</td>\n",
       "    </tr>\n",
       "    <tr>\n",
       "      <th>1</th>\n",
       "      <td>VINCENT CHASE</td>\n",
       "      <td>by Lenskart Polarized, UV Protection Wayfarer ...</td>\n",
       "      <td>₹799</td>\n",
       "      <td>₹1,999</td>\n",
       "      <td>60% off</td>\n",
       "    </tr>\n",
       "    <tr>\n",
       "      <th>2</th>\n",
       "      <td>Fastrack</td>\n",
       "      <td>UV Protection Wayfarer Sunglasses (Free Size)</td>\n",
       "      <td>₹689</td>\n",
       "      <td>₹899</td>\n",
       "      <td>23% off</td>\n",
       "    </tr>\n",
       "    <tr>\n",
       "      <th>3</th>\n",
       "      <td>Elligator</td>\n",
       "      <td>UV Protection Round Sunglasses (54)</td>\n",
       "      <td>₹248</td>\n",
       "      <td>₹2,495</td>\n",
       "      <td>90% off</td>\n",
       "    </tr>\n",
       "    <tr>\n",
       "      <th>4</th>\n",
       "      <td>SUNBEE</td>\n",
       "      <td>UV Protection, Polarized Wayfarer Sunglasses (...</td>\n",
       "      <td>₹243</td>\n",
       "      <td>₹1,299</td>\n",
       "      <td>81% off</td>\n",
       "    </tr>\n",
       "    <tr>\n",
       "      <th>5</th>\n",
       "      <td>SRPM</td>\n",
       "      <td>UV Protection Wayfarer Sunglasses (50)</td>\n",
       "      <td>₹188</td>\n",
       "      <td>₹1,299</td>\n",
       "      <td>85% off</td>\n",
       "    </tr>\n",
       "    <tr>\n",
       "      <th>6</th>\n",
       "      <td>SHAAH COLLECTIONS</td>\n",
       "      <td>UV Protection, Polarized, Mirrored Rectangular...</td>\n",
       "      <td>₹181</td>\n",
       "      <td>₹999</td>\n",
       "      <td>81% off</td>\n",
       "    </tr>\n",
       "    <tr>\n",
       "      <th>7</th>\n",
       "      <td>Singco India</td>\n",
       "      <td>Gradient, Toughened Glass Lens, UV Protection ...</td>\n",
       "      <td>₹664</td>\n",
       "      <td>₹2,999</td>\n",
       "      <td>77% off</td>\n",
       "    </tr>\n",
       "    <tr>\n",
       "      <th>8</th>\n",
       "      <td>New Specs</td>\n",
       "      <td>UV Protection Rectangular Sunglasses (Free Size)</td>\n",
       "      <td>₹234</td>\n",
       "      <td>₹1,999</td>\n",
       "      <td>88% off</td>\n",
       "    </tr>\n",
       "    <tr>\n",
       "      <th>9</th>\n",
       "      <td>SHAAH COLLECTIONS</td>\n",
       "      <td>UV Protection, Polarized, Mirrored Rectangular...</td>\n",
       "      <td>₹165</td>\n",
       "      <td>₹1,699</td>\n",
       "      <td>90% off</td>\n",
       "    </tr>\n",
       "    <tr>\n",
       "      <th>10</th>\n",
       "      <td>PIRASO</td>\n",
       "      <td>UV Protection Aviator Sunglasses (54)</td>\n",
       "      <td>₹229</td>\n",
       "      <td>₹1,599</td>\n",
       "      <td>85% off</td>\n",
       "    </tr>\n",
       "    <tr>\n",
       "      <th>11</th>\n",
       "      <td>VILLAIN</td>\n",
       "      <td>Others Wayfarer Sunglasses (Free Size)</td>\n",
       "      <td>₹1,099</td>\n",
       "      <td>₹1,749</td>\n",
       "      <td>37% off</td>\n",
       "    </tr>\n",
       "    <tr>\n",
       "      <th>12</th>\n",
       "      <td>SUNBEE</td>\n",
       "      <td>UV Protection, Polarized, Mirrored Round Sungl...</td>\n",
       "      <td>₹271</td>\n",
       "      <td>₹1,699</td>\n",
       "      <td>84% off</td>\n",
       "    </tr>\n",
       "    <tr>\n",
       "      <th>13</th>\n",
       "      <td>kingsunglasses</td>\n",
       "      <td>UV Protection Round Sunglasses (54)</td>\n",
       "      <td>₹178</td>\n",
       "      <td>₹999</td>\n",
       "      <td>82% off</td>\n",
       "    </tr>\n",
       "    <tr>\n",
       "      <th>14</th>\n",
       "      <td>Fastrack</td>\n",
       "      <td>UV Protection Rectangular Sunglasses (Free Size)</td>\n",
       "      <td>₹607</td>\n",
       "      <td>₹799</td>\n",
       "      <td>24% off</td>\n",
       "    </tr>\n",
       "    <tr>\n",
       "      <th>15</th>\n",
       "      <td>VINCENT CHASE</td>\n",
       "      <td>by Lenskart UV Protection Aviator Sunglasses (...</td>\n",
       "      <td>₹999</td>\n",
       "      <td>₹1,999</td>\n",
       "      <td>50% off</td>\n",
       "    </tr>\n",
       "    <tr>\n",
       "      <th>16</th>\n",
       "      <td>ROZZETTA CRAFT</td>\n",
       "      <td>Polarized, Night Vision, Riding Glasses Sports...</td>\n",
       "      <td>₹499</td>\n",
       "      <td>₹1,999</td>\n",
       "      <td>75% off</td>\n",
       "    </tr>\n",
       "    <tr>\n",
       "      <th>17</th>\n",
       "      <td>PHENOMENAL</td>\n",
       "      <td>UV Protection Retro Square Sunglasses (Free Size)</td>\n",
       "      <td>₹309</td>\n",
       "      <td>₹1,999</td>\n",
       "      <td>84% off</td>\n",
       "    </tr>\n",
       "    <tr>\n",
       "      <th>18</th>\n",
       "      <td>ROZZETTA CRAFT</td>\n",
       "      <td>UV Protection, Gradient Rectangular Sunglasses...</td>\n",
       "      <td>₹399</td>\n",
       "      <td>₹1,999</td>\n",
       "      <td>80% off</td>\n",
       "    </tr>\n",
       "    <tr>\n",
       "      <th>19</th>\n",
       "      <td>ROZZETTA CRAFT</td>\n",
       "      <td>UV Protection, Gradient Retro Square Sunglasse...</td>\n",
       "      <td>₹349</td>\n",
       "      <td>₹1,999</td>\n",
       "      <td>82% off</td>\n",
       "    </tr>\n",
       "    <tr>\n",
       "      <th>20</th>\n",
       "      <td>PHENOMENAL</td>\n",
       "      <td>UV Protection Retro Square Sunglasses (53)</td>\n",
       "      <td>₹269</td>\n",
       "      <td>₹999</td>\n",
       "      <td>73% off</td>\n",
       "    </tr>\n",
       "    <tr>\n",
       "      <th>21</th>\n",
       "      <td>GANSTA</td>\n",
       "      <td>UV Protection Aviator Sunglasses (57)</td>\n",
       "      <td>₹269</td>\n",
       "      <td>₹1,999</td>\n",
       "      <td>86% off</td>\n",
       "    </tr>\n",
       "    <tr>\n",
       "      <th>22</th>\n",
       "      <td>GANSTA</td>\n",
       "      <td>UV Protection, Riding Glasses Wayfarer Sunglas...</td>\n",
       "      <td>₹209</td>\n",
       "      <td>₹1,799</td>\n",
       "      <td>88% off</td>\n",
       "    </tr>\n",
       "    <tr>\n",
       "      <th>23</th>\n",
       "      <td>VINCENT CHASE</td>\n",
       "      <td>by Lenskart Polarized, UV Protection Wayfarer ...</td>\n",
       "      <td>₹799</td>\n",
       "      <td>₹1,999</td>\n",
       "      <td>60% off</td>\n",
       "    </tr>\n",
       "    <tr>\n",
       "      <th>24</th>\n",
       "      <td>PHENOMENAL</td>\n",
       "      <td>UV Protection, Mirrored Retro Square Sunglasse...</td>\n",
       "      <td>₹299</td>\n",
       "      <td>₹1,999</td>\n",
       "      <td>85% off</td>\n",
       "    </tr>\n",
       "    <tr>\n",
       "      <th>25</th>\n",
       "      <td>Elligator</td>\n",
       "      <td>UV Protection Round Sunglasses (53)</td>\n",
       "      <td>₹189</td>\n",
       "      <td>₹1,497</td>\n",
       "      <td>87% off</td>\n",
       "    </tr>\n",
       "    <tr>\n",
       "      <th>26</th>\n",
       "      <td>Elligator</td>\n",
       "      <td>UV Protection Round Sunglasses (54)</td>\n",
       "      <td>₹265</td>\n",
       "      <td>₹1,299</td>\n",
       "      <td>79% off</td>\n",
       "    </tr>\n",
       "    <tr>\n",
       "      <th>27</th>\n",
       "      <td>ROZZETTA CRAFT</td>\n",
       "      <td>UV Protection Aviator Sunglasses (62)</td>\n",
       "      <td>₹649</td>\n",
       "      <td>₹2,555</td>\n",
       "      <td>74% off</td>\n",
       "    </tr>\n",
       "    <tr>\n",
       "      <th>28</th>\n",
       "      <td>Elligator</td>\n",
       "      <td>UV Protection Round Sunglasses (50)</td>\n",
       "      <td>₹230</td>\n",
       "      <td>₹1,996</td>\n",
       "      <td>88% off</td>\n",
       "    </tr>\n",
       "    <tr>\n",
       "      <th>29</th>\n",
       "      <td>PIRASO</td>\n",
       "      <td>UV Protection Aviator Sunglasses (54)</td>\n",
       "      <td>₹200</td>\n",
       "      <td>₹1,599</td>\n",
       "      <td>87% off</td>\n",
       "    </tr>\n",
       "    <tr>\n",
       "      <th>30</th>\n",
       "      <td>Fastrack</td>\n",
       "      <td>Gradient, UV Protection Wayfarer Sunglasses (F...</td>\n",
       "      <td>₹626</td>\n",
       "      <td>₹799</td>\n",
       "      <td>21% off</td>\n",
       "    </tr>\n",
       "    <tr>\n",
       "      <th>31</th>\n",
       "      <td>VINCENT CHASE</td>\n",
       "      <td>by Lenskart Polarized, UV Protection Wayfarer ...</td>\n",
       "      <td>₹1,179</td>\n",
       "      <td>₹1,999</td>\n",
       "      <td>41% off</td>\n",
       "    </tr>\n",
       "    <tr>\n",
       "      <th>32</th>\n",
       "      <td>agera</td>\n",
       "      <td>Gradient Aviator Sunglasses (55)</td>\n",
       "      <td>₹196</td>\n",
       "      <td>₹1,149</td>\n",
       "      <td>82% off</td>\n",
       "    </tr>\n",
       "    <tr>\n",
       "      <th>33</th>\n",
       "      <td>New Specs</td>\n",
       "      <td>Mirrored, UV Protection, Riding Glasses, Other...</td>\n",
       "      <td>₹259</td>\n",
       "      <td>₹1,399</td>\n",
       "      <td>81% off</td>\n",
       "    </tr>\n",
       "    <tr>\n",
       "      <th>34</th>\n",
       "      <td>Lee Topper</td>\n",
       "      <td>UV Protection Rectangular Sunglasses (Free Size)</td>\n",
       "      <td>₹199</td>\n",
       "      <td>₹999</td>\n",
       "      <td>80% off</td>\n",
       "    </tr>\n",
       "    <tr>\n",
       "      <th>35</th>\n",
       "      <td>VINCENT CHASE</td>\n",
       "      <td>by Lenskart Polarized, UV Protection Wayfarer ...</td>\n",
       "      <td>₹1,533</td>\n",
       "      <td>₹2,500</td>\n",
       "      <td>38% off</td>\n",
       "    </tr>\n",
       "    <tr>\n",
       "      <th>36</th>\n",
       "      <td>kingsunglasses</td>\n",
       "      <td>UV Protection Rectangular Sunglasses (Free Size)</td>\n",
       "      <td>₹180</td>\n",
       "      <td>₹1,099</td>\n",
       "      <td>83% off</td>\n",
       "    </tr>\n",
       "    <tr>\n",
       "      <th>37</th>\n",
       "      <td>Elligator</td>\n",
       "      <td>UV Protection Wayfarer Sunglasses (53)</td>\n",
       "      <td>₹167</td>\n",
       "      <td>₹1,497</td>\n",
       "      <td>88% off</td>\n",
       "    </tr>\n",
       "    <tr>\n",
       "      <th>38</th>\n",
       "      <td>New Specs</td>\n",
       "      <td>UV Protection Aviator Sunglasses (Free Size)</td>\n",
       "      <td>₹175</td>\n",
       "      <td>₹1,599</td>\n",
       "      <td>89% off</td>\n",
       "    </tr>\n",
       "    <tr>\n",
       "      <th>39</th>\n",
       "      <td>ROZZETTA CRAFT</td>\n",
       "      <td>UV Protection, Gradient Rectangular Sunglasses...</td>\n",
       "      <td>₹348</td>\n",
       "      <td>₹2,256</td>\n",
       "      <td>84% off</td>\n",
       "    </tr>\n",
       "  </tbody>\n",
       "</table>\n",
       "</div>"
      ],
      "text/plain": [
       "         Company Name                                Product Description  \\\n",
       "0      ROZZETTA CRAFT  UV Protection, Gradient Retro Square Sunglasse...   \n",
       "1       VINCENT CHASE  by Lenskart Polarized, UV Protection Wayfarer ...   \n",
       "2            Fastrack      UV Protection Wayfarer Sunglasses (Free Size)   \n",
       "3           Elligator                UV Protection Round Sunglasses (54)   \n",
       "4              SUNBEE  UV Protection, Polarized Wayfarer Sunglasses (...   \n",
       "5                SRPM             UV Protection Wayfarer Sunglasses (50)   \n",
       "6   SHAAH COLLECTIONS  UV Protection, Polarized, Mirrored Rectangular...   \n",
       "7        Singco India  Gradient, Toughened Glass Lens, UV Protection ...   \n",
       "8           New Specs   UV Protection Rectangular Sunglasses (Free Size)   \n",
       "9   SHAAH COLLECTIONS  UV Protection, Polarized, Mirrored Rectangular...   \n",
       "10             PIRASO              UV Protection Aviator Sunglasses (54)   \n",
       "11            VILLAIN             Others Wayfarer Sunglasses (Free Size)   \n",
       "12             SUNBEE  UV Protection, Polarized, Mirrored Round Sungl...   \n",
       "13     kingsunglasses                UV Protection Round Sunglasses (54)   \n",
       "14           Fastrack   UV Protection Rectangular Sunglasses (Free Size)   \n",
       "15      VINCENT CHASE  by Lenskart UV Protection Aviator Sunglasses (...   \n",
       "16     ROZZETTA CRAFT  Polarized, Night Vision, Riding Glasses Sports...   \n",
       "17         PHENOMENAL  UV Protection Retro Square Sunglasses (Free Size)   \n",
       "18     ROZZETTA CRAFT  UV Protection, Gradient Rectangular Sunglasses...   \n",
       "19     ROZZETTA CRAFT  UV Protection, Gradient Retro Square Sunglasse...   \n",
       "20         PHENOMENAL         UV Protection Retro Square Sunglasses (53)   \n",
       "21             GANSTA              UV Protection Aviator Sunglasses (57)   \n",
       "22             GANSTA  UV Protection, Riding Glasses Wayfarer Sunglas...   \n",
       "23      VINCENT CHASE  by Lenskart Polarized, UV Protection Wayfarer ...   \n",
       "24         PHENOMENAL  UV Protection, Mirrored Retro Square Sunglasse...   \n",
       "25          Elligator                UV Protection Round Sunglasses (53)   \n",
       "26          Elligator                UV Protection Round Sunglasses (54)   \n",
       "27     ROZZETTA CRAFT              UV Protection Aviator Sunglasses (62)   \n",
       "28          Elligator                UV Protection Round Sunglasses (50)   \n",
       "29             PIRASO              UV Protection Aviator Sunglasses (54)   \n",
       "30           Fastrack  Gradient, UV Protection Wayfarer Sunglasses (F...   \n",
       "31      VINCENT CHASE  by Lenskart Polarized, UV Protection Wayfarer ...   \n",
       "32              agera                   Gradient Aviator Sunglasses (55)   \n",
       "33          New Specs  Mirrored, UV Protection, Riding Glasses, Other...   \n",
       "34         Lee Topper   UV Protection Rectangular Sunglasses (Free Size)   \n",
       "35      VINCENT CHASE  by Lenskart Polarized, UV Protection Wayfarer ...   \n",
       "36     kingsunglasses   UV Protection Rectangular Sunglasses (Free Size)   \n",
       "37          Elligator             UV Protection Wayfarer Sunglasses (53)   \n",
       "38          New Specs       UV Protection Aviator Sunglasses (Free Size)   \n",
       "39     ROZZETTA CRAFT  UV Protection, Gradient Rectangular Sunglasses...   \n",
       "\n",
       "     Price Original Price  Offer %  \n",
       "0     ₹499         ₹1,999  75% off  \n",
       "1     ₹799         ₹1,999  60% off  \n",
       "2     ₹689           ₹899  23% off  \n",
       "3     ₹248         ₹2,495  90% off  \n",
       "4     ₹243         ₹1,299  81% off  \n",
       "5     ₹188         ₹1,299  85% off  \n",
       "6     ₹181           ₹999  81% off  \n",
       "7     ₹664         ₹2,999  77% off  \n",
       "8     ₹234         ₹1,999  88% off  \n",
       "9     ₹165         ₹1,699  90% off  \n",
       "10    ₹229         ₹1,599  85% off  \n",
       "11  ₹1,099         ₹1,749  37% off  \n",
       "12    ₹271         ₹1,699  84% off  \n",
       "13    ₹178           ₹999  82% off  \n",
       "14    ₹607           ₹799  24% off  \n",
       "15    ₹999         ₹1,999  50% off  \n",
       "16    ₹499         ₹1,999  75% off  \n",
       "17    ₹309         ₹1,999  84% off  \n",
       "18    ₹399         ₹1,999  80% off  \n",
       "19    ₹349         ₹1,999  82% off  \n",
       "20    ₹269           ₹999  73% off  \n",
       "21    ₹269         ₹1,999  86% off  \n",
       "22    ₹209         ₹1,799  88% off  \n",
       "23    ₹799         ₹1,999  60% off  \n",
       "24    ₹299         ₹1,999  85% off  \n",
       "25    ₹189         ₹1,497  87% off  \n",
       "26    ₹265         ₹1,299  79% off  \n",
       "27    ₹649         ₹2,555  74% off  \n",
       "28    ₹230         ₹1,996  88% off  \n",
       "29    ₹200         ₹1,599  87% off  \n",
       "30    ₹626           ₹799  21% off  \n",
       "31  ₹1,179         ₹1,999  41% off  \n",
       "32    ₹196         ₹1,149  82% off  \n",
       "33    ₹259         ₹1,399  81% off  \n",
       "34    ₹199           ₹999  80% off  \n",
       "35  ₹1,533         ₹2,500  38% off  \n",
       "36    ₹180         ₹1,099  83% off  \n",
       "37    ₹167         ₹1,497  88% off  \n",
       "38    ₹175         ₹1,599  89% off  \n",
       "39    ₹348         ₹2,256  84% off  "
      ]
     },
     "execution_count": 208,
     "metadata": {},
     "output_type": "execute_result"
    }
   ],
   "source": [
    "sunglass = pd.DataFrame()\n",
    "sunglass [\"Company Name\"] = company_name\n",
    "sunglass [\"Product Description\"] = description\n",
    "sunglass [\"Price\"] = price\n",
    "sunglass [\"Original Price\"] = original_price\n",
    "sunglass [\"Offer %\"] = offer_percentage\n",
    "sunglass"
   ]
  },
  {
   "cell_type": "code",
   "execution_count": 209,
   "id": "a84b0003",
   "metadata": {},
   "outputs": [
    {
     "data": {
      "text/plain": [
       "<selenium.webdriver.remote.webelement.WebElement (session=\"049bec066b1ad8ed950a05cb1ef12cd1\", element=\"2489065e-fa0d-4699-9cb7-7e6eb9a7a161\")>"
      ]
     },
     "execution_count": 209,
     "metadata": {},
     "output_type": "execute_result"
    }
   ],
   "source": [
    "#clicking the next page\n",
    "next_button = driver.find_element_by_class_name(\"_1LKTO3\")\n",
    "next_button"
   ]
  },
  {
   "cell_type": "code",
   "execution_count": 210,
   "id": "313c172c",
   "metadata": {},
   "outputs": [],
   "source": [
    "next_button.click()"
   ]
  },
  {
   "cell_type": "code",
   "execution_count": 219,
   "id": "e9c3e290",
   "metadata": {},
   "outputs": [
    {
     "data": {
      "text/plain": [
       "40"
      ]
     },
     "execution_count": 219,
     "metadata": {},
     "output_type": "execute_result"
    }
   ],
   "source": [
    "#extracting company name\n",
    "company_tags = driver.find_elements_by_xpath('//div[@class= \"_2WkVRV\"]')\n",
    "len(company_tags)"
   ]
  },
  {
   "cell_type": "code",
   "execution_count": 220,
   "id": "cfed21d3",
   "metadata": {},
   "outputs": [
    {
     "data": {
      "text/plain": [
       "40"
      ]
     },
     "execution_count": 220,
     "metadata": {},
     "output_type": "execute_result"
    }
   ],
   "source": [
    "company_name =[]\n",
    "\n",
    "for i in company_tags:\n",
    "    company_name.append(i.text)\n",
    "len(company_name)"
   ]
  },
  {
   "cell_type": "code",
   "execution_count": 221,
   "id": "68450488",
   "metadata": {},
   "outputs": [
    {
     "data": {
      "text/plain": [
       "['PHENOMENAL',\n",
       " 'PIRASO',\n",
       " 'SRPM',\n",
       " 'ROZZETTA CRAFT',\n",
       " 'PIRASO',\n",
       " 'Fastrack',\n",
       " 'PHENOMENAL',\n",
       " 'VINCENT CHASE',\n",
       " 'Lee Topper',\n",
       " 'Rich Club',\n",
       " 'Elligator',\n",
       " 'VINCENT CHASE',\n",
       " 'Johaena',\n",
       " 'kingsunglasses',\n",
       " 'ROYAL SON',\n",
       " 'VINCENT CHASE',\n",
       " 'DEIXELS',\n",
       " 'Singco India',\n",
       " 'ROZZETTA CRAFT',\n",
       " 'ROZZETTA CRAFT',\n",
       " 'PIRASO',\n",
       " 'Fastrack',\n",
       " 'ROYAL SON',\n",
       " 'VINCENT CHASE',\n",
       " 'NuVew',\n",
       " 'New Specs',\n",
       " 'PIRASO',\n",
       " 'VINCENT CHASE',\n",
       " 'ROYAL SON',\n",
       " 'hipe',\n",
       " 'SHAAH COLLECTIONS',\n",
       " 'ROZZETTA CRAFT',\n",
       " 'SRPM',\n",
       " 'Fastrack',\n",
       " 'PHENOMENAL',\n",
       " 'ROYAL SON',\n",
       " 'Fastrack',\n",
       " 'kingsunglasses',\n",
       " 'kingsunglasses',\n",
       " 'VILLAIN']"
      ]
     },
     "execution_count": 221,
     "metadata": {},
     "output_type": "execute_result"
    }
   ],
   "source": [
    "company_name"
   ]
  },
  {
   "cell_type": "code",
   "execution_count": 222,
   "id": "d2752f65",
   "metadata": {},
   "outputs": [
    {
     "data": {
      "text/plain": [
       "40"
      ]
     },
     "execution_count": 222,
     "metadata": {},
     "output_type": "execute_result"
    }
   ],
   "source": [
    "#extracting Description\n",
    "description_tags = driver.find_elements_by_xpath('//a[contains(@class,\"IRpwTa\")]')\n",
    "len(description_tags)"
   ]
  },
  {
   "cell_type": "code",
   "execution_count": 223,
   "id": "d7cb18e6",
   "metadata": {},
   "outputs": [
    {
     "data": {
      "text/plain": [
       "40"
      ]
     },
     "execution_count": 223,
     "metadata": {},
     "output_type": "execute_result"
    }
   ],
   "source": [
    "#extracting text from company tags\n",
    "\n",
    "description =[]\n",
    "\n",
    "for i in description_tags:\n",
    "    description.append(i.text)\n",
    "len(description)"
   ]
  },
  {
   "cell_type": "code",
   "execution_count": 224,
   "id": "0cf53931",
   "metadata": {},
   "outputs": [
    {
     "data": {
      "text/plain": [
       "['UV Protection Clubmaster Sunglasses (Free Size)',\n",
       " 'UV Protection Aviator Sunglasses (Free Size)',\n",
       " 'UV Protection Wayfarer Sunglasses (53)',\n",
       " 'UV Protection, Gradient Retro Square Sunglasses (62)',\n",
       " 'UV Protection Wayfarer Sunglasses (32)',\n",
       " 'UV Protection Wayfarer Sunglasses (55)',\n",
       " 'UV Protection, Mirrored Retro Square Sunglasses (53)',\n",
       " 'by Lenskart Polarized, UV Protection Wayfarer Sunglasse...',\n",
       " 'Riding Glasses, Night Vision Wrap-around Sunglasses (Fr...',\n",
       " 'UV Protection Round Sunglasses (48)',\n",
       " 'UV Protection Retro Square, Round Sunglasses (54)',\n",
       " 'by Lenskart Polarized, UV Protection Aviator Sunglasses...',\n",
       " 'Riding Glasses, UV Protection Oval Sunglasses (52)',\n",
       " 'UV Protection, Others Round, Aviator Sunglasses (54)',\n",
       " 'Mirrored Aviator Sunglasses (55)',\n",
       " 'by Lenskart UV Protection Aviator Sunglasses (Free Size...',\n",
       " 'UV Protection Aviator, Wayfarer Sunglasses (Free Size)',\n",
       " 'UV Protection, Riding Glasses, Others Aviator, Wayfarer...',\n",
       " 'UV Protection Retro Square Sunglasses (Free Size)',\n",
       " 'UV Protection, Gradient Retro Square Sunglasses (Free S...',\n",
       " 'UV Protection Aviator Sunglasses (58)',\n",
       " 'UV Protection Wayfarer Sunglasses (Free Size)',\n",
       " 'UV Protection, Gradient Butterfly Sunglasses (57)',\n",
       " 'by Lenskart Polarized, UV Protection Wayfarer Sunglasse...',\n",
       " 'UV Protection, Mirrored Sports Sunglasses (62)',\n",
       " 'UV Protection Round Sunglasses (Free Size)',\n",
       " 'UV Protection Butterfly Sunglasses (65)',\n",
       " 'by Lenskart Polarized, UV Protection Wayfarer Sunglasse...',\n",
       " 'UV Protection Retro Square Sunglasses (58)',\n",
       " 'Mirrored, UV Protection, Gradient Round Sunglasses (55)',\n",
       " 'UV Protection Round Sunglasses (Free Size)',\n",
       " 'Polarized, Night Vision, Riding Glasses Sports, Wrap-ar...',\n",
       " 'Night Vision, UV Protection Round Sunglasses (54)',\n",
       " 'Polarized Retro Square Sunglasses (Free Size)',\n",
       " 'UV Protection, Mirrored Clubmaster Sunglasses (Free Siz...',\n",
       " 'UV Protection, Gradient Butterfly Sunglasses (60)',\n",
       " 'UV Protection Wayfarer Sunglasses (Free Size)',\n",
       " 'UV Protection Round Sunglasses (Free Size)',\n",
       " 'UV Protection, Riding Glasses, Mirrored Wayfarer Sungla...',\n",
       " 'Others Wayfarer Sunglasses (Free Size)']"
      ]
     },
     "execution_count": 224,
     "metadata": {},
     "output_type": "execute_result"
    }
   ],
   "source": [
    "description"
   ]
  },
  {
   "cell_type": "code",
   "execution_count": 226,
   "id": "857b9e48",
   "metadata": {},
   "outputs": [
    {
     "data": {
      "text/plain": [
       "40"
      ]
     },
     "execution_count": 226,
     "metadata": {},
     "output_type": "execute_result"
    }
   ],
   "source": [
    "#extracting cost\n",
    "cost_tags = driver.find_elements_by_xpath('//div[@class=\"_30jeq3\"]')\n",
    "len(cost_tags)"
   ]
  },
  {
   "cell_type": "code",
   "execution_count": 227,
   "id": "958e77c1",
   "metadata": {},
   "outputs": [
    {
     "data": {
      "text/plain": [
       "40"
      ]
     },
     "execution_count": 227,
     "metadata": {},
     "output_type": "execute_result"
    }
   ],
   "source": [
    "#extracting text from cost tags\n",
    "\n",
    "price =[]\n",
    "\n",
    "for i in cost_tags:\n",
    "    price.append(i.text)\n",
    "len(price)"
   ]
  },
  {
   "cell_type": "code",
   "execution_count": 228,
   "id": "5a6fddcb",
   "metadata": {},
   "outputs": [
    {
     "data": {
      "text/plain": [
       "['₹289',\n",
       " '₹349',\n",
       " '₹207',\n",
       " '₹499',\n",
       " '₹225',\n",
       " '₹718',\n",
       " '₹299',\n",
       " '₹799',\n",
       " '₹276',\n",
       " '₹220',\n",
       " '₹291',\n",
       " '₹999',\n",
       " '₹156',\n",
       " '₹174',\n",
       " '₹359',\n",
       " '₹999',\n",
       " '₹202',\n",
       " '₹207',\n",
       " '₹499',\n",
       " '₹349',\n",
       " '₹299',\n",
       " '₹607',\n",
       " '₹664',\n",
       " '₹799',\n",
       " '₹327',\n",
       " '₹232',\n",
       " '₹349',\n",
       " '₹1,179',\n",
       " '₹449',\n",
       " '₹189',\n",
       " '₹267',\n",
       " '₹499',\n",
       " '₹199',\n",
       " '₹607',\n",
       " '₹289',\n",
       " '₹664',\n",
       " '₹692',\n",
       " '₹274',\n",
       " '₹177',\n",
       " '₹522']"
      ]
     },
     "execution_count": 228,
     "metadata": {},
     "output_type": "execute_result"
    }
   ],
   "source": [
    "price"
   ]
  },
  {
   "cell_type": "code",
   "execution_count": 229,
   "id": "9d7f58ce",
   "metadata": {},
   "outputs": [
    {
     "data": {
      "text/plain": [
       "40"
      ]
     },
     "execution_count": 229,
     "metadata": {},
     "output_type": "execute_result"
    }
   ],
   "source": [
    "#extracting originallrate\n",
    "original_tag = driver.find_elements_by_xpath('//div[@class=\"_3I9_wc\"]')\n",
    "len(original_tag)"
   ]
  },
  {
   "cell_type": "code",
   "execution_count": 230,
   "id": "528e9bc4",
   "metadata": {},
   "outputs": [
    {
     "data": {
      "text/plain": [
       "40"
      ]
     },
     "execution_count": 230,
     "metadata": {},
     "output_type": "execute_result"
    }
   ],
   "source": [
    "#extracting text from original tags\n",
    "\n",
    "original_price =[]\n",
    "\n",
    "for i in original_tag:\n",
    "    original_price.append(i.text)\n",
    "len(original_price)"
   ]
  },
  {
   "cell_type": "code",
   "execution_count": 231,
   "id": "e5d11e0a",
   "metadata": {},
   "outputs": [
    {
     "data": {
      "text/plain": [
       "['₹1,998',\n",
       " '₹1,599',\n",
       " '₹998',\n",
       " '₹1,999',\n",
       " '₹1,599',\n",
       " '₹799',\n",
       " '₹1,999',\n",
       " '₹1,999',\n",
       " '₹2,499',\n",
       " '₹799',\n",
       " '₹1,999',\n",
       " '₹2,500',\n",
       " '₹1,288',\n",
       " '₹999',\n",
       " '₹1,499',\n",
       " '₹1,999',\n",
       " '₹1,199',\n",
       " '₹699',\n",
       " '₹2,225',\n",
       " '₹1,999',\n",
       " '₹2,599',\n",
       " '₹799',\n",
       " '₹1,999',\n",
       " '₹1,999',\n",
       " '₹1,245',\n",
       " '₹1,299',\n",
       " '₹2,599',\n",
       " '₹1,999',\n",
       " '₹1,499',\n",
       " '₹1,466',\n",
       " '₹1,699',\n",
       " '₹1,999',\n",
       " '₹999',\n",
       " '₹799',\n",
       " '₹1,998',\n",
       " '₹1,999',\n",
       " '₹899',\n",
       " '₹1,599',\n",
       " '₹1,199',\n",
       " '₹999']"
      ]
     },
     "execution_count": 231,
     "metadata": {},
     "output_type": "execute_result"
    }
   ],
   "source": [
    "original_price"
   ]
  },
  {
   "cell_type": "code",
   "execution_count": 232,
   "id": "23ad2907",
   "metadata": {},
   "outputs": [
    {
     "data": {
      "text/plain": [
       "40"
      ]
     },
     "execution_count": 232,
     "metadata": {},
     "output_type": "execute_result"
    }
   ],
   "source": [
    "#extracting offer %\n",
    "offer_tags = driver.find_elements_by_xpath('//div[@class=\"_3Ay6Sb\"]')\n",
    "len(offer_tags)"
   ]
  },
  {
   "cell_type": "code",
   "execution_count": 233,
   "id": "039f786e",
   "metadata": {},
   "outputs": [
    {
     "data": {
      "text/plain": [
       "40"
      ]
     },
     "execution_count": 233,
     "metadata": {},
     "output_type": "execute_result"
    }
   ],
   "source": [
    "#extracting text from offer tags\n",
    "\n",
    "offer_percentage =[]\n",
    "\n",
    "for i in offer_tags:\n",
    "    offer_percentage.append(i.text)\n",
    "len(offer_percentage)"
   ]
  },
  {
   "cell_type": "code",
   "execution_count": 234,
   "id": "cbbaec99",
   "metadata": {},
   "outputs": [
    {
     "data": {
      "text/plain": [
       "['85% off',\n",
       " '78% off',\n",
       " '79% off',\n",
       " '75% off',\n",
       " '85% off',\n",
       " '10% off',\n",
       " '85% off',\n",
       " '60% off',\n",
       " '88% off',\n",
       " '72% off',\n",
       " '85% off',\n",
       " '60% off',\n",
       " '87% off',\n",
       " '82% off',\n",
       " '76% off',\n",
       " '50% off',\n",
       " '83% off',\n",
       " '70% off',\n",
       " '77% off',\n",
       " '82% off',\n",
       " '88% off',\n",
       " '24% off',\n",
       " '66% off',\n",
       " '60% off',\n",
       " '73% off',\n",
       " '82% off',\n",
       " '86% off',\n",
       " '41% off',\n",
       " '70% off',\n",
       " '87% off',\n",
       " '84% off',\n",
       " '75% off',\n",
       " '80% off',\n",
       " '24% off',\n",
       " '85% off',\n",
       " '66% off',\n",
       " '23% off',\n",
       " '82% off',\n",
       " '85% off',\n",
       " '47% off']"
      ]
     },
     "execution_count": 234,
     "metadata": {},
     "output_type": "execute_result"
    }
   ],
   "source": [
    "offer_percentage"
   ]
  },
  {
   "cell_type": "code",
   "execution_count": 235,
   "id": "2af6dfe9",
   "metadata": {},
   "outputs": [
    {
     "data": {
      "text/html": [
       "<div>\n",
       "<style scoped>\n",
       "    .dataframe tbody tr th:only-of-type {\n",
       "        vertical-align: middle;\n",
       "    }\n",
       "\n",
       "    .dataframe tbody tr th {\n",
       "        vertical-align: top;\n",
       "    }\n",
       "\n",
       "    .dataframe thead th {\n",
       "        text-align: right;\n",
       "    }\n",
       "</style>\n",
       "<table border=\"1\" class=\"dataframe\">\n",
       "  <thead>\n",
       "    <tr style=\"text-align: right;\">\n",
       "      <th></th>\n",
       "      <th>Company Name</th>\n",
       "      <th>Product Description</th>\n",
       "      <th>Price</th>\n",
       "      <th>Original Price</th>\n",
       "      <th>Offer %</th>\n",
       "    </tr>\n",
       "  </thead>\n",
       "  <tbody>\n",
       "    <tr>\n",
       "      <th>0</th>\n",
       "      <td>PHENOMENAL</td>\n",
       "      <td>UV Protection Clubmaster Sunglasses (Free Size)</td>\n",
       "      <td>₹289</td>\n",
       "      <td>₹1,998</td>\n",
       "      <td>85% off</td>\n",
       "    </tr>\n",
       "    <tr>\n",
       "      <th>1</th>\n",
       "      <td>PIRASO</td>\n",
       "      <td>UV Protection Aviator Sunglasses (Free Size)</td>\n",
       "      <td>₹349</td>\n",
       "      <td>₹1,599</td>\n",
       "      <td>78% off</td>\n",
       "    </tr>\n",
       "    <tr>\n",
       "      <th>2</th>\n",
       "      <td>SRPM</td>\n",
       "      <td>UV Protection Wayfarer Sunglasses (53)</td>\n",
       "      <td>₹207</td>\n",
       "      <td>₹998</td>\n",
       "      <td>79% off</td>\n",
       "    </tr>\n",
       "    <tr>\n",
       "      <th>3</th>\n",
       "      <td>ROZZETTA CRAFT</td>\n",
       "      <td>UV Protection, Gradient Retro Square Sunglasse...</td>\n",
       "      <td>₹499</td>\n",
       "      <td>₹1,999</td>\n",
       "      <td>75% off</td>\n",
       "    </tr>\n",
       "    <tr>\n",
       "      <th>4</th>\n",
       "      <td>PIRASO</td>\n",
       "      <td>UV Protection Wayfarer Sunglasses (32)</td>\n",
       "      <td>₹225</td>\n",
       "      <td>₹1,599</td>\n",
       "      <td>85% off</td>\n",
       "    </tr>\n",
       "    <tr>\n",
       "      <th>5</th>\n",
       "      <td>Fastrack</td>\n",
       "      <td>UV Protection Wayfarer Sunglasses (55)</td>\n",
       "      <td>₹718</td>\n",
       "      <td>₹799</td>\n",
       "      <td>10% off</td>\n",
       "    </tr>\n",
       "    <tr>\n",
       "      <th>6</th>\n",
       "      <td>PHENOMENAL</td>\n",
       "      <td>UV Protection, Mirrored Retro Square Sunglasse...</td>\n",
       "      <td>₹299</td>\n",
       "      <td>₹1,999</td>\n",
       "      <td>85% off</td>\n",
       "    </tr>\n",
       "    <tr>\n",
       "      <th>7</th>\n",
       "      <td>VINCENT CHASE</td>\n",
       "      <td>by Lenskart Polarized, UV Protection Wayfarer ...</td>\n",
       "      <td>₹799</td>\n",
       "      <td>₹1,999</td>\n",
       "      <td>60% off</td>\n",
       "    </tr>\n",
       "    <tr>\n",
       "      <th>8</th>\n",
       "      <td>Lee Topper</td>\n",
       "      <td>Riding Glasses, Night Vision Wrap-around Sungl...</td>\n",
       "      <td>₹276</td>\n",
       "      <td>₹2,499</td>\n",
       "      <td>88% off</td>\n",
       "    </tr>\n",
       "    <tr>\n",
       "      <th>9</th>\n",
       "      <td>Rich Club</td>\n",
       "      <td>UV Protection Round Sunglasses (48)</td>\n",
       "      <td>₹220</td>\n",
       "      <td>₹799</td>\n",
       "      <td>72% off</td>\n",
       "    </tr>\n",
       "    <tr>\n",
       "      <th>10</th>\n",
       "      <td>Elligator</td>\n",
       "      <td>UV Protection Retro Square, Round Sunglasses (54)</td>\n",
       "      <td>₹291</td>\n",
       "      <td>₹1,999</td>\n",
       "      <td>85% off</td>\n",
       "    </tr>\n",
       "    <tr>\n",
       "      <th>11</th>\n",
       "      <td>VINCENT CHASE</td>\n",
       "      <td>by Lenskart Polarized, UV Protection Aviator S...</td>\n",
       "      <td>₹999</td>\n",
       "      <td>₹2,500</td>\n",
       "      <td>60% off</td>\n",
       "    </tr>\n",
       "    <tr>\n",
       "      <th>12</th>\n",
       "      <td>Johaena</td>\n",
       "      <td>Riding Glasses, UV Protection Oval Sunglasses ...</td>\n",
       "      <td>₹156</td>\n",
       "      <td>₹1,288</td>\n",
       "      <td>87% off</td>\n",
       "    </tr>\n",
       "    <tr>\n",
       "      <th>13</th>\n",
       "      <td>kingsunglasses</td>\n",
       "      <td>UV Protection, Others Round, Aviator Sunglasse...</td>\n",
       "      <td>₹174</td>\n",
       "      <td>₹999</td>\n",
       "      <td>82% off</td>\n",
       "    </tr>\n",
       "    <tr>\n",
       "      <th>14</th>\n",
       "      <td>ROYAL SON</td>\n",
       "      <td>Mirrored Aviator Sunglasses (55)</td>\n",
       "      <td>₹359</td>\n",
       "      <td>₹1,499</td>\n",
       "      <td>76% off</td>\n",
       "    </tr>\n",
       "    <tr>\n",
       "      <th>15</th>\n",
       "      <td>VINCENT CHASE</td>\n",
       "      <td>by Lenskart UV Protection Aviator Sunglasses (...</td>\n",
       "      <td>₹999</td>\n",
       "      <td>₹1,999</td>\n",
       "      <td>50% off</td>\n",
       "    </tr>\n",
       "    <tr>\n",
       "      <th>16</th>\n",
       "      <td>DEIXELS</td>\n",
       "      <td>UV Protection Aviator, Wayfarer Sunglasses (Fr...</td>\n",
       "      <td>₹202</td>\n",
       "      <td>₹1,199</td>\n",
       "      <td>83% off</td>\n",
       "    </tr>\n",
       "    <tr>\n",
       "      <th>17</th>\n",
       "      <td>Singco India</td>\n",
       "      <td>UV Protection, Riding Glasses, Others Aviator,...</td>\n",
       "      <td>₹207</td>\n",
       "      <td>₹699</td>\n",
       "      <td>70% off</td>\n",
       "    </tr>\n",
       "    <tr>\n",
       "      <th>18</th>\n",
       "      <td>ROZZETTA CRAFT</td>\n",
       "      <td>UV Protection Retro Square Sunglasses (Free Size)</td>\n",
       "      <td>₹499</td>\n",
       "      <td>₹2,225</td>\n",
       "      <td>77% off</td>\n",
       "    </tr>\n",
       "    <tr>\n",
       "      <th>19</th>\n",
       "      <td>ROZZETTA CRAFT</td>\n",
       "      <td>UV Protection, Gradient Retro Square Sunglasse...</td>\n",
       "      <td>₹349</td>\n",
       "      <td>₹1,999</td>\n",
       "      <td>82% off</td>\n",
       "    </tr>\n",
       "    <tr>\n",
       "      <th>20</th>\n",
       "      <td>PIRASO</td>\n",
       "      <td>UV Protection Aviator Sunglasses (58)</td>\n",
       "      <td>₹299</td>\n",
       "      <td>₹2,599</td>\n",
       "      <td>88% off</td>\n",
       "    </tr>\n",
       "    <tr>\n",
       "      <th>21</th>\n",
       "      <td>Fastrack</td>\n",
       "      <td>UV Protection Wayfarer Sunglasses (Free Size)</td>\n",
       "      <td>₹607</td>\n",
       "      <td>₹799</td>\n",
       "      <td>24% off</td>\n",
       "    </tr>\n",
       "    <tr>\n",
       "      <th>22</th>\n",
       "      <td>ROYAL SON</td>\n",
       "      <td>UV Protection, Gradient Butterfly Sunglasses (57)</td>\n",
       "      <td>₹664</td>\n",
       "      <td>₹1,999</td>\n",
       "      <td>66% off</td>\n",
       "    </tr>\n",
       "    <tr>\n",
       "      <th>23</th>\n",
       "      <td>VINCENT CHASE</td>\n",
       "      <td>by Lenskart Polarized, UV Protection Wayfarer ...</td>\n",
       "      <td>₹799</td>\n",
       "      <td>₹1,999</td>\n",
       "      <td>60% off</td>\n",
       "    </tr>\n",
       "    <tr>\n",
       "      <th>24</th>\n",
       "      <td>NuVew</td>\n",
       "      <td>UV Protection, Mirrored Sports Sunglasses (62)</td>\n",
       "      <td>₹327</td>\n",
       "      <td>₹1,245</td>\n",
       "      <td>73% off</td>\n",
       "    </tr>\n",
       "    <tr>\n",
       "      <th>25</th>\n",
       "      <td>New Specs</td>\n",
       "      <td>UV Protection Round Sunglasses (Free Size)</td>\n",
       "      <td>₹232</td>\n",
       "      <td>₹1,299</td>\n",
       "      <td>82% off</td>\n",
       "    </tr>\n",
       "    <tr>\n",
       "      <th>26</th>\n",
       "      <td>PIRASO</td>\n",
       "      <td>UV Protection Butterfly Sunglasses (65)</td>\n",
       "      <td>₹349</td>\n",
       "      <td>₹2,599</td>\n",
       "      <td>86% off</td>\n",
       "    </tr>\n",
       "    <tr>\n",
       "      <th>27</th>\n",
       "      <td>VINCENT CHASE</td>\n",
       "      <td>by Lenskart Polarized, UV Protection Wayfarer ...</td>\n",
       "      <td>₹1,179</td>\n",
       "      <td>₹1,999</td>\n",
       "      <td>41% off</td>\n",
       "    </tr>\n",
       "    <tr>\n",
       "      <th>28</th>\n",
       "      <td>ROYAL SON</td>\n",
       "      <td>UV Protection Retro Square Sunglasses (58)</td>\n",
       "      <td>₹449</td>\n",
       "      <td>₹1,499</td>\n",
       "      <td>70% off</td>\n",
       "    </tr>\n",
       "    <tr>\n",
       "      <th>29</th>\n",
       "      <td>hipe</td>\n",
       "      <td>Mirrored, UV Protection, Gradient Round Sungla...</td>\n",
       "      <td>₹189</td>\n",
       "      <td>₹1,466</td>\n",
       "      <td>87% off</td>\n",
       "    </tr>\n",
       "    <tr>\n",
       "      <th>30</th>\n",
       "      <td>SHAAH COLLECTIONS</td>\n",
       "      <td>UV Protection Round Sunglasses (Free Size)</td>\n",
       "      <td>₹267</td>\n",
       "      <td>₹1,699</td>\n",
       "      <td>84% off</td>\n",
       "    </tr>\n",
       "    <tr>\n",
       "      <th>31</th>\n",
       "      <td>ROZZETTA CRAFT</td>\n",
       "      <td>Polarized, Night Vision, Riding Glasses Sports...</td>\n",
       "      <td>₹499</td>\n",
       "      <td>₹1,999</td>\n",
       "      <td>75% off</td>\n",
       "    </tr>\n",
       "    <tr>\n",
       "      <th>32</th>\n",
       "      <td>SRPM</td>\n",
       "      <td>Night Vision, UV Protection Round Sunglasses (54)</td>\n",
       "      <td>₹199</td>\n",
       "      <td>₹999</td>\n",
       "      <td>80% off</td>\n",
       "    </tr>\n",
       "    <tr>\n",
       "      <th>33</th>\n",
       "      <td>Fastrack</td>\n",
       "      <td>Polarized Retro Square Sunglasses (Free Size)</td>\n",
       "      <td>₹607</td>\n",
       "      <td>₹799</td>\n",
       "      <td>24% off</td>\n",
       "    </tr>\n",
       "    <tr>\n",
       "      <th>34</th>\n",
       "      <td>PHENOMENAL</td>\n",
       "      <td>UV Protection, Mirrored Clubmaster Sunglasses ...</td>\n",
       "      <td>₹289</td>\n",
       "      <td>₹1,998</td>\n",
       "      <td>85% off</td>\n",
       "    </tr>\n",
       "    <tr>\n",
       "      <th>35</th>\n",
       "      <td>ROYAL SON</td>\n",
       "      <td>UV Protection, Gradient Butterfly Sunglasses (60)</td>\n",
       "      <td>₹664</td>\n",
       "      <td>₹1,999</td>\n",
       "      <td>66% off</td>\n",
       "    </tr>\n",
       "    <tr>\n",
       "      <th>36</th>\n",
       "      <td>Fastrack</td>\n",
       "      <td>UV Protection Wayfarer Sunglasses (Free Size)</td>\n",
       "      <td>₹692</td>\n",
       "      <td>₹899</td>\n",
       "      <td>23% off</td>\n",
       "    </tr>\n",
       "    <tr>\n",
       "      <th>37</th>\n",
       "      <td>kingsunglasses</td>\n",
       "      <td>UV Protection Round Sunglasses (Free Size)</td>\n",
       "      <td>₹274</td>\n",
       "      <td>₹1,599</td>\n",
       "      <td>82% off</td>\n",
       "    </tr>\n",
       "    <tr>\n",
       "      <th>38</th>\n",
       "      <td>kingsunglasses</td>\n",
       "      <td>UV Protection, Riding Glasses, Mirrored Wayfar...</td>\n",
       "      <td>₹177</td>\n",
       "      <td>₹1,199</td>\n",
       "      <td>85% off</td>\n",
       "    </tr>\n",
       "    <tr>\n",
       "      <th>39</th>\n",
       "      <td>VILLAIN</td>\n",
       "      <td>Others Wayfarer Sunglasses (Free Size)</td>\n",
       "      <td>₹522</td>\n",
       "      <td>₹999</td>\n",
       "      <td>47% off</td>\n",
       "    </tr>\n",
       "  </tbody>\n",
       "</table>\n",
       "</div>"
      ],
      "text/plain": [
       "         Company Name                                Product Description  \\\n",
       "0          PHENOMENAL    UV Protection Clubmaster Sunglasses (Free Size)   \n",
       "1              PIRASO       UV Protection Aviator Sunglasses (Free Size)   \n",
       "2                SRPM             UV Protection Wayfarer Sunglasses (53)   \n",
       "3      ROZZETTA CRAFT  UV Protection, Gradient Retro Square Sunglasse...   \n",
       "4              PIRASO             UV Protection Wayfarer Sunglasses (32)   \n",
       "5            Fastrack             UV Protection Wayfarer Sunglasses (55)   \n",
       "6          PHENOMENAL  UV Protection, Mirrored Retro Square Sunglasse...   \n",
       "7       VINCENT CHASE  by Lenskart Polarized, UV Protection Wayfarer ...   \n",
       "8          Lee Topper  Riding Glasses, Night Vision Wrap-around Sungl...   \n",
       "9           Rich Club                UV Protection Round Sunglasses (48)   \n",
       "10          Elligator  UV Protection Retro Square, Round Sunglasses (54)   \n",
       "11      VINCENT CHASE  by Lenskart Polarized, UV Protection Aviator S...   \n",
       "12            Johaena  Riding Glasses, UV Protection Oval Sunglasses ...   \n",
       "13     kingsunglasses  UV Protection, Others Round, Aviator Sunglasse...   \n",
       "14          ROYAL SON                   Mirrored Aviator Sunglasses (55)   \n",
       "15      VINCENT CHASE  by Lenskart UV Protection Aviator Sunglasses (...   \n",
       "16            DEIXELS  UV Protection Aviator, Wayfarer Sunglasses (Fr...   \n",
       "17       Singco India  UV Protection, Riding Glasses, Others Aviator,...   \n",
       "18     ROZZETTA CRAFT  UV Protection Retro Square Sunglasses (Free Size)   \n",
       "19     ROZZETTA CRAFT  UV Protection, Gradient Retro Square Sunglasse...   \n",
       "20             PIRASO              UV Protection Aviator Sunglasses (58)   \n",
       "21           Fastrack      UV Protection Wayfarer Sunglasses (Free Size)   \n",
       "22          ROYAL SON  UV Protection, Gradient Butterfly Sunglasses (57)   \n",
       "23      VINCENT CHASE  by Lenskart Polarized, UV Protection Wayfarer ...   \n",
       "24              NuVew     UV Protection, Mirrored Sports Sunglasses (62)   \n",
       "25          New Specs         UV Protection Round Sunglasses (Free Size)   \n",
       "26             PIRASO            UV Protection Butterfly Sunglasses (65)   \n",
       "27      VINCENT CHASE  by Lenskart Polarized, UV Protection Wayfarer ...   \n",
       "28          ROYAL SON         UV Protection Retro Square Sunglasses (58)   \n",
       "29               hipe  Mirrored, UV Protection, Gradient Round Sungla...   \n",
       "30  SHAAH COLLECTIONS         UV Protection Round Sunglasses (Free Size)   \n",
       "31     ROZZETTA CRAFT  Polarized, Night Vision, Riding Glasses Sports...   \n",
       "32               SRPM  Night Vision, UV Protection Round Sunglasses (54)   \n",
       "33           Fastrack      Polarized Retro Square Sunglasses (Free Size)   \n",
       "34         PHENOMENAL  UV Protection, Mirrored Clubmaster Sunglasses ...   \n",
       "35          ROYAL SON  UV Protection, Gradient Butterfly Sunglasses (60)   \n",
       "36           Fastrack      UV Protection Wayfarer Sunglasses (Free Size)   \n",
       "37     kingsunglasses         UV Protection Round Sunglasses (Free Size)   \n",
       "38     kingsunglasses  UV Protection, Riding Glasses, Mirrored Wayfar...   \n",
       "39            VILLAIN             Others Wayfarer Sunglasses (Free Size)   \n",
       "\n",
       "     Price Original Price  Offer %  \n",
       "0     ₹289         ₹1,998  85% off  \n",
       "1     ₹349         ₹1,599  78% off  \n",
       "2     ₹207           ₹998  79% off  \n",
       "3     ₹499         ₹1,999  75% off  \n",
       "4     ₹225         ₹1,599  85% off  \n",
       "5     ₹718           ₹799  10% off  \n",
       "6     ₹299         ₹1,999  85% off  \n",
       "7     ₹799         ₹1,999  60% off  \n",
       "8     ₹276         ₹2,499  88% off  \n",
       "9     ₹220           ₹799  72% off  \n",
       "10    ₹291         ₹1,999  85% off  \n",
       "11    ₹999         ₹2,500  60% off  \n",
       "12    ₹156         ₹1,288  87% off  \n",
       "13    ₹174           ₹999  82% off  \n",
       "14    ₹359         ₹1,499  76% off  \n",
       "15    ₹999         ₹1,999  50% off  \n",
       "16    ₹202         ₹1,199  83% off  \n",
       "17    ₹207           ₹699  70% off  \n",
       "18    ₹499         ₹2,225  77% off  \n",
       "19    ₹349         ₹1,999  82% off  \n",
       "20    ₹299         ₹2,599  88% off  \n",
       "21    ₹607           ₹799  24% off  \n",
       "22    ₹664         ₹1,999  66% off  \n",
       "23    ₹799         ₹1,999  60% off  \n",
       "24    ₹327         ₹1,245  73% off  \n",
       "25    ₹232         ₹1,299  82% off  \n",
       "26    ₹349         ₹2,599  86% off  \n",
       "27  ₹1,179         ₹1,999  41% off  \n",
       "28    ₹449         ₹1,499  70% off  \n",
       "29    ₹189         ₹1,466  87% off  \n",
       "30    ₹267         ₹1,699  84% off  \n",
       "31    ₹499         ₹1,999  75% off  \n",
       "32    ₹199           ₹999  80% off  \n",
       "33    ₹607           ₹799  24% off  \n",
       "34    ₹289         ₹1,998  85% off  \n",
       "35    ₹664         ₹1,999  66% off  \n",
       "36    ₹692           ₹899  23% off  \n",
       "37    ₹274         ₹1,599  82% off  \n",
       "38    ₹177         ₹1,199  85% off  \n",
       "39    ₹522           ₹999  47% off  "
      ]
     },
     "execution_count": 235,
     "metadata": {},
     "output_type": "execute_result"
    }
   ],
   "source": [
    "sunglass = pd.DataFrame()\n",
    "sunglass [\"Company Name\"] = company_name\n",
    "sunglass [\"Product Description\"] = description\n",
    "sunglass [\"Price\"] = price\n",
    "sunglass [\"Original Price\"] = original_price\n",
    "sunglass [\"Offer %\"] = offer_percentage\n",
    "sunglass"
   ]
  },
  {
   "cell_type": "code",
   "execution_count": 236,
   "id": "5618aded",
   "metadata": {},
   "outputs": [
    {
     "data": {
      "text/plain": [
       "<selenium.webdriver.remote.webelement.WebElement (session=\"049bec066b1ad8ed950a05cb1ef12cd1\", element=\"fc358d56-378c-4282-bbe2-f5fd40afe40d\")>"
      ]
     },
     "execution_count": 236,
     "metadata": {},
     "output_type": "execute_result"
    }
   ],
   "source": [
    "#clicking the next page\n",
    "next_button = driver.find_element_by_class_name(\"_1LKTO3\")\n",
    "next_button"
   ]
  },
  {
   "cell_type": "code",
   "execution_count": 237,
   "id": "494341b8",
   "metadata": {},
   "outputs": [],
   "source": [
    "next_button.click()"
   ]
  },
  {
   "cell_type": "code",
   "execution_count": 238,
   "id": "3c0d5b1a",
   "metadata": {},
   "outputs": [
    {
     "data": {
      "text/plain": [
       "40"
      ]
     },
     "execution_count": 238,
     "metadata": {},
     "output_type": "execute_result"
    }
   ],
   "source": [
    "#extracting company name\n",
    "company_tags = driver.find_elements_by_xpath('//div[@class=\"_2WkVRV\"]')\n",
    "len(company_tags)"
   ]
  },
  {
   "cell_type": "code",
   "execution_count": 240,
   "id": "18a8d824",
   "metadata": {},
   "outputs": [
    {
     "data": {
      "text/plain": [
       "20"
      ]
     },
     "execution_count": 240,
     "metadata": {},
     "output_type": "execute_result"
    }
   ],
   "source": [
    "company_name =[]\n",
    "\n",
    "for i in company_tags [:20]:\n",
    "    company_name.append(i.text)\n",
    "len(company_name)"
   ]
  },
  {
   "cell_type": "code",
   "execution_count": 241,
   "id": "653fba67",
   "metadata": {},
   "outputs": [
    {
     "data": {
      "text/plain": [
       "['ROZZETTA CRAFT',\n",
       " 'VINCENT CHASE',\n",
       " 'Fastrack',\n",
       " 'Elligator',\n",
       " 'SUNBEE',\n",
       " 'SRPM',\n",
       " 'SHAAH COLLECTIONS',\n",
       " 'Singco India',\n",
       " 'New Specs',\n",
       " 'SHAAH COLLECTIONS',\n",
       " 'PIRASO',\n",
       " 'Singco India',\n",
       " 'SUNBEE',\n",
       " 'kingsunglasses',\n",
       " 'Fastrack',\n",
       " 'VINCENT CHASE',\n",
       " 'ROZZETTA CRAFT',\n",
       " 'PHENOMENAL',\n",
       " 'ROZZETTA CRAFT',\n",
       " 'VINCENT CHASE']"
      ]
     },
     "execution_count": 241,
     "metadata": {},
     "output_type": "execute_result"
    }
   ],
   "source": [
    "company_name"
   ]
  },
  {
   "cell_type": "code",
   "execution_count": 242,
   "id": "6eca1243",
   "metadata": {},
   "outputs": [
    {
     "data": {
      "text/plain": [
       "40"
      ]
     },
     "execution_count": 242,
     "metadata": {},
     "output_type": "execute_result"
    }
   ],
   "source": [
    "#extracting Description\n",
    "description_tags = driver.find_elements_by_xpath('//a[contains(@class,\"IRpwTa\")]')\n",
    "len(description_tags)"
   ]
  },
  {
   "cell_type": "code",
   "execution_count": 243,
   "id": "0f7d83a6",
   "metadata": {},
   "outputs": [
    {
     "data": {
      "text/plain": [
       "20"
      ]
     },
     "execution_count": 243,
     "metadata": {},
     "output_type": "execute_result"
    }
   ],
   "source": [
    "#extracting text from company tags\n",
    "\n",
    "description =[]\n",
    "\n",
    "for i in description_tags[:20]:\n",
    "    description.append(i.text)\n",
    "len(description)"
   ]
  },
  {
   "cell_type": "code",
   "execution_count": 244,
   "id": "9b7f1788",
   "metadata": {},
   "outputs": [
    {
     "data": {
      "text/plain": [
       "['UV Protection, Gradient Retro Square Sunglasses (62)',\n",
       " 'by Lenskart Polarized, UV Protection Wayfarer Sunglasse...',\n",
       " 'UV Protection Wayfarer Sunglasses (Free Size)',\n",
       " 'UV Protection Round Sunglasses (54)',\n",
       " 'UV Protection, Polarized Wayfarer Sunglasses (Free Size...',\n",
       " 'UV Protection Wayfarer Sunglasses (50)',\n",
       " 'UV Protection, Polarized, Mirrored Rectangular Sunglass...',\n",
       " 'Gradient, Toughened Glass Lens, UV Protection Retro Squ...',\n",
       " 'UV Protection Rectangular Sunglasses (Free Size)',\n",
       " 'UV Protection, Polarized, Mirrored Rectangular Sunglass...',\n",
       " 'UV Protection Aviator Sunglasses (54)',\n",
       " 'UV Protection, Riding Glasses, Others Aviator, Wayfarer...',\n",
       " 'UV Protection, Polarized, Mirrored Round Sunglasses (Fr...',\n",
       " 'UV Protection Round Sunglasses (54)',\n",
       " 'UV Protection Rectangular Sunglasses (Free Size)',\n",
       " 'by Lenskart Polarized, UV Protection Aviator Sunglasses...',\n",
       " 'Polarized, Night Vision, Riding Glasses Sports, Wrap-ar...',\n",
       " 'UV Protection Retro Square Sunglasses (Free Size)',\n",
       " 'UV Protection, Gradient Rectangular Sunglasses (Free Si...',\n",
       " 'by Lenskart UV Protection Aviator Sunglasses (Free Size...']"
      ]
     },
     "execution_count": 244,
     "metadata": {},
     "output_type": "execute_result"
    }
   ],
   "source": [
    "description"
   ]
  },
  {
   "cell_type": "code",
   "execution_count": 245,
   "id": "486db35d",
   "metadata": {},
   "outputs": [
    {
     "data": {
      "text/plain": [
       "40"
      ]
     },
     "execution_count": 245,
     "metadata": {},
     "output_type": "execute_result"
    }
   ],
   "source": [
    "#extracting cost\n",
    "cost_tags = driver.find_elements_by_xpath('//div[@class=\"_30jeq3\"]')\n",
    "len(cost_tags)"
   ]
  },
  {
   "cell_type": "code",
   "execution_count": 246,
   "id": "35050a98",
   "metadata": {},
   "outputs": [
    {
     "data": {
      "text/plain": [
       "20"
      ]
     },
     "execution_count": 246,
     "metadata": {},
     "output_type": "execute_result"
    }
   ],
   "source": [
    "#extracting text from cost tags\n",
    "\n",
    "price =[]\n",
    "\n",
    "for i in cost_tags[:20]:\n",
    "    price.append(i.text)\n",
    "len(price)"
   ]
  },
  {
   "cell_type": "code",
   "execution_count": 247,
   "id": "0888d616",
   "metadata": {},
   "outputs": [
    {
     "data": {
      "text/plain": [
       "['₹499',\n",
       " '₹799',\n",
       " '₹689',\n",
       " '₹248',\n",
       " '₹243',\n",
       " '₹188',\n",
       " '₹181',\n",
       " '₹664',\n",
       " '₹234',\n",
       " '₹165',\n",
       " '₹229',\n",
       " '₹207',\n",
       " '₹271',\n",
       " '₹178',\n",
       " '₹607',\n",
       " '₹999',\n",
       " '₹499',\n",
       " '₹309',\n",
       " '₹399',\n",
       " '₹999']"
      ]
     },
     "execution_count": 247,
     "metadata": {},
     "output_type": "execute_result"
    }
   ],
   "source": [
    "price"
   ]
  },
  {
   "cell_type": "code",
   "execution_count": 248,
   "id": "b71ecbde",
   "metadata": {},
   "outputs": [
    {
     "data": {
      "text/plain": [
       "40"
      ]
     },
     "execution_count": 248,
     "metadata": {},
     "output_type": "execute_result"
    }
   ],
   "source": [
    "#extracting originallrate\n",
    "original_tag = driver.find_elements_by_xpath('//div[@class=\"_3I9_wc\"]')\n",
    "len(original_tag)"
   ]
  },
  {
   "cell_type": "code",
   "execution_count": 249,
   "id": "4a6e6bc1",
   "metadata": {},
   "outputs": [
    {
     "data": {
      "text/plain": [
       "20"
      ]
     },
     "execution_count": 249,
     "metadata": {},
     "output_type": "execute_result"
    }
   ],
   "source": [
    "#extracting text from original tags\n",
    "\n",
    "original_price =[]\n",
    "\n",
    "for i in original_tag[:20]:\n",
    "    original_price.append(i.text)\n",
    "len(original_price)"
   ]
  },
  {
   "cell_type": "code",
   "execution_count": 250,
   "id": "fcda48d6",
   "metadata": {},
   "outputs": [
    {
     "data": {
      "text/plain": [
       "['₹1,999',\n",
       " '₹1,999',\n",
       " '₹899',\n",
       " '₹2,495',\n",
       " '₹1,299',\n",
       " '₹1,299',\n",
       " '₹999',\n",
       " '₹2,999',\n",
       " '₹1,999',\n",
       " '₹1,699',\n",
       " '₹1,599',\n",
       " '₹699',\n",
       " '₹1,699',\n",
       " '₹999',\n",
       " '₹799',\n",
       " '₹2,500',\n",
       " '₹1,999',\n",
       " '₹1,999',\n",
       " '₹1,999',\n",
       " '₹1,999']"
      ]
     },
     "execution_count": 250,
     "metadata": {},
     "output_type": "execute_result"
    }
   ],
   "source": [
    "original_price"
   ]
  },
  {
   "cell_type": "code",
   "execution_count": 251,
   "id": "0a6d993f",
   "metadata": {},
   "outputs": [
    {
     "data": {
      "text/plain": [
       "40"
      ]
     },
     "execution_count": 251,
     "metadata": {},
     "output_type": "execute_result"
    }
   ],
   "source": [
    "#extracting offer %\n",
    "offer_tags = driver.find_elements_by_xpath('//div[@class=\"_3Ay6Sb\"]')\n",
    "len(offer_tags)"
   ]
  },
  {
   "cell_type": "code",
   "execution_count": 252,
   "id": "a58faaca",
   "metadata": {},
   "outputs": [
    {
     "data": {
      "text/plain": [
       "20"
      ]
     },
     "execution_count": 252,
     "metadata": {},
     "output_type": "execute_result"
    }
   ],
   "source": [
    "#extracting text from offer tags\n",
    "\n",
    "offer_percentage =[]\n",
    "\n",
    "for i in offer_tags[:20]:\n",
    "    offer_percentage.append(i.text)\n",
    "len(offer_percentage)"
   ]
  },
  {
   "cell_type": "code",
   "execution_count": 253,
   "id": "8936a25a",
   "metadata": {},
   "outputs": [
    {
     "data": {
      "text/plain": [
       "['75% off',\n",
       " '60% off',\n",
       " '23% off',\n",
       " '90% off',\n",
       " '81% off',\n",
       " '85% off',\n",
       " '81% off',\n",
       " '77% off',\n",
       " '88% off',\n",
       " '90% off',\n",
       " '85% off',\n",
       " '70% off',\n",
       " '84% off',\n",
       " '82% off',\n",
       " '24% off',\n",
       " '60% off',\n",
       " '75% off',\n",
       " '84% off',\n",
       " '80% off',\n",
       " '50% off']"
      ]
     },
     "execution_count": 253,
     "metadata": {},
     "output_type": "execute_result"
    }
   ],
   "source": [
    "offer_percentage"
   ]
  },
  {
   "cell_type": "code",
   "execution_count": 254,
   "id": "68c2856b",
   "metadata": {},
   "outputs": [
    {
     "data": {
      "text/html": [
       "<div>\n",
       "<style scoped>\n",
       "    .dataframe tbody tr th:only-of-type {\n",
       "        vertical-align: middle;\n",
       "    }\n",
       "\n",
       "    .dataframe tbody tr th {\n",
       "        vertical-align: top;\n",
       "    }\n",
       "\n",
       "    .dataframe thead th {\n",
       "        text-align: right;\n",
       "    }\n",
       "</style>\n",
       "<table border=\"1\" class=\"dataframe\">\n",
       "  <thead>\n",
       "    <tr style=\"text-align: right;\">\n",
       "      <th></th>\n",
       "      <th>Company Name</th>\n",
       "      <th>Product Description</th>\n",
       "      <th>Price</th>\n",
       "      <th>Original Price</th>\n",
       "      <th>Offer %</th>\n",
       "    </tr>\n",
       "  </thead>\n",
       "  <tbody>\n",
       "    <tr>\n",
       "      <th>0</th>\n",
       "      <td>ROZZETTA CRAFT</td>\n",
       "      <td>UV Protection, Gradient Retro Square Sunglasse...</td>\n",
       "      <td>₹499</td>\n",
       "      <td>₹1,999</td>\n",
       "      <td>75% off</td>\n",
       "    </tr>\n",
       "    <tr>\n",
       "      <th>1</th>\n",
       "      <td>VINCENT CHASE</td>\n",
       "      <td>by Lenskart Polarized, UV Protection Wayfarer ...</td>\n",
       "      <td>₹799</td>\n",
       "      <td>₹1,999</td>\n",
       "      <td>60% off</td>\n",
       "    </tr>\n",
       "    <tr>\n",
       "      <th>2</th>\n",
       "      <td>Fastrack</td>\n",
       "      <td>UV Protection Wayfarer Sunglasses (Free Size)</td>\n",
       "      <td>₹689</td>\n",
       "      <td>₹899</td>\n",
       "      <td>23% off</td>\n",
       "    </tr>\n",
       "    <tr>\n",
       "      <th>3</th>\n",
       "      <td>Elligator</td>\n",
       "      <td>UV Protection Round Sunglasses (54)</td>\n",
       "      <td>₹248</td>\n",
       "      <td>₹2,495</td>\n",
       "      <td>90% off</td>\n",
       "    </tr>\n",
       "    <tr>\n",
       "      <th>4</th>\n",
       "      <td>SUNBEE</td>\n",
       "      <td>UV Protection, Polarized Wayfarer Sunglasses (...</td>\n",
       "      <td>₹243</td>\n",
       "      <td>₹1,299</td>\n",
       "      <td>81% off</td>\n",
       "    </tr>\n",
       "    <tr>\n",
       "      <th>5</th>\n",
       "      <td>SRPM</td>\n",
       "      <td>UV Protection Wayfarer Sunglasses (50)</td>\n",
       "      <td>₹188</td>\n",
       "      <td>₹1,299</td>\n",
       "      <td>85% off</td>\n",
       "    </tr>\n",
       "    <tr>\n",
       "      <th>6</th>\n",
       "      <td>SHAAH COLLECTIONS</td>\n",
       "      <td>UV Protection, Polarized, Mirrored Rectangular...</td>\n",
       "      <td>₹181</td>\n",
       "      <td>₹999</td>\n",
       "      <td>81% off</td>\n",
       "    </tr>\n",
       "    <tr>\n",
       "      <th>7</th>\n",
       "      <td>Singco India</td>\n",
       "      <td>Gradient, Toughened Glass Lens, UV Protection ...</td>\n",
       "      <td>₹664</td>\n",
       "      <td>₹2,999</td>\n",
       "      <td>77% off</td>\n",
       "    </tr>\n",
       "    <tr>\n",
       "      <th>8</th>\n",
       "      <td>New Specs</td>\n",
       "      <td>UV Protection Rectangular Sunglasses (Free Size)</td>\n",
       "      <td>₹234</td>\n",
       "      <td>₹1,999</td>\n",
       "      <td>88% off</td>\n",
       "    </tr>\n",
       "    <tr>\n",
       "      <th>9</th>\n",
       "      <td>SHAAH COLLECTIONS</td>\n",
       "      <td>UV Protection, Polarized, Mirrored Rectangular...</td>\n",
       "      <td>₹165</td>\n",
       "      <td>₹1,699</td>\n",
       "      <td>90% off</td>\n",
       "    </tr>\n",
       "    <tr>\n",
       "      <th>10</th>\n",
       "      <td>PIRASO</td>\n",
       "      <td>UV Protection Aviator Sunglasses (54)</td>\n",
       "      <td>₹229</td>\n",
       "      <td>₹1,599</td>\n",
       "      <td>85% off</td>\n",
       "    </tr>\n",
       "    <tr>\n",
       "      <th>11</th>\n",
       "      <td>Singco India</td>\n",
       "      <td>UV Protection, Riding Glasses, Others Aviator,...</td>\n",
       "      <td>₹207</td>\n",
       "      <td>₹699</td>\n",
       "      <td>70% off</td>\n",
       "    </tr>\n",
       "    <tr>\n",
       "      <th>12</th>\n",
       "      <td>SUNBEE</td>\n",
       "      <td>UV Protection, Polarized, Mirrored Round Sungl...</td>\n",
       "      <td>₹271</td>\n",
       "      <td>₹1,699</td>\n",
       "      <td>84% off</td>\n",
       "    </tr>\n",
       "    <tr>\n",
       "      <th>13</th>\n",
       "      <td>kingsunglasses</td>\n",
       "      <td>UV Protection Round Sunglasses (54)</td>\n",
       "      <td>₹178</td>\n",
       "      <td>₹999</td>\n",
       "      <td>82% off</td>\n",
       "    </tr>\n",
       "    <tr>\n",
       "      <th>14</th>\n",
       "      <td>Fastrack</td>\n",
       "      <td>UV Protection Rectangular Sunglasses (Free Size)</td>\n",
       "      <td>₹607</td>\n",
       "      <td>₹799</td>\n",
       "      <td>24% off</td>\n",
       "    </tr>\n",
       "    <tr>\n",
       "      <th>15</th>\n",
       "      <td>VINCENT CHASE</td>\n",
       "      <td>by Lenskart Polarized, UV Protection Aviator S...</td>\n",
       "      <td>₹999</td>\n",
       "      <td>₹2,500</td>\n",
       "      <td>60% off</td>\n",
       "    </tr>\n",
       "    <tr>\n",
       "      <th>16</th>\n",
       "      <td>ROZZETTA CRAFT</td>\n",
       "      <td>Polarized, Night Vision, Riding Glasses Sports...</td>\n",
       "      <td>₹499</td>\n",
       "      <td>₹1,999</td>\n",
       "      <td>75% off</td>\n",
       "    </tr>\n",
       "    <tr>\n",
       "      <th>17</th>\n",
       "      <td>PHENOMENAL</td>\n",
       "      <td>UV Protection Retro Square Sunglasses (Free Size)</td>\n",
       "      <td>₹309</td>\n",
       "      <td>₹1,999</td>\n",
       "      <td>84% off</td>\n",
       "    </tr>\n",
       "    <tr>\n",
       "      <th>18</th>\n",
       "      <td>ROZZETTA CRAFT</td>\n",
       "      <td>UV Protection, Gradient Rectangular Sunglasses...</td>\n",
       "      <td>₹399</td>\n",
       "      <td>₹1,999</td>\n",
       "      <td>80% off</td>\n",
       "    </tr>\n",
       "    <tr>\n",
       "      <th>19</th>\n",
       "      <td>VINCENT CHASE</td>\n",
       "      <td>by Lenskart UV Protection Aviator Sunglasses (...</td>\n",
       "      <td>₹999</td>\n",
       "      <td>₹1,999</td>\n",
       "      <td>50% off</td>\n",
       "    </tr>\n",
       "  </tbody>\n",
       "</table>\n",
       "</div>"
      ],
      "text/plain": [
       "         Company Name                                Product Description  \\\n",
       "0      ROZZETTA CRAFT  UV Protection, Gradient Retro Square Sunglasse...   \n",
       "1       VINCENT CHASE  by Lenskart Polarized, UV Protection Wayfarer ...   \n",
       "2            Fastrack      UV Protection Wayfarer Sunglasses (Free Size)   \n",
       "3           Elligator                UV Protection Round Sunglasses (54)   \n",
       "4              SUNBEE  UV Protection, Polarized Wayfarer Sunglasses (...   \n",
       "5                SRPM             UV Protection Wayfarer Sunglasses (50)   \n",
       "6   SHAAH COLLECTIONS  UV Protection, Polarized, Mirrored Rectangular...   \n",
       "7        Singco India  Gradient, Toughened Glass Lens, UV Protection ...   \n",
       "8           New Specs   UV Protection Rectangular Sunglasses (Free Size)   \n",
       "9   SHAAH COLLECTIONS  UV Protection, Polarized, Mirrored Rectangular...   \n",
       "10             PIRASO              UV Protection Aviator Sunglasses (54)   \n",
       "11       Singco India  UV Protection, Riding Glasses, Others Aviator,...   \n",
       "12             SUNBEE  UV Protection, Polarized, Mirrored Round Sungl...   \n",
       "13     kingsunglasses                UV Protection Round Sunglasses (54)   \n",
       "14           Fastrack   UV Protection Rectangular Sunglasses (Free Size)   \n",
       "15      VINCENT CHASE  by Lenskart Polarized, UV Protection Aviator S...   \n",
       "16     ROZZETTA CRAFT  Polarized, Night Vision, Riding Glasses Sports...   \n",
       "17         PHENOMENAL  UV Protection Retro Square Sunglasses (Free Size)   \n",
       "18     ROZZETTA CRAFT  UV Protection, Gradient Rectangular Sunglasses...   \n",
       "19      VINCENT CHASE  by Lenskart UV Protection Aviator Sunglasses (...   \n",
       "\n",
       "   Price Original Price  Offer %  \n",
       "0   ₹499         ₹1,999  75% off  \n",
       "1   ₹799         ₹1,999  60% off  \n",
       "2   ₹689           ₹899  23% off  \n",
       "3   ₹248         ₹2,495  90% off  \n",
       "4   ₹243         ₹1,299  81% off  \n",
       "5   ₹188         ₹1,299  85% off  \n",
       "6   ₹181           ₹999  81% off  \n",
       "7   ₹664         ₹2,999  77% off  \n",
       "8   ₹234         ₹1,999  88% off  \n",
       "9   ₹165         ₹1,699  90% off  \n",
       "10  ₹229         ₹1,599  85% off  \n",
       "11  ₹207           ₹699  70% off  \n",
       "12  ₹271         ₹1,699  84% off  \n",
       "13  ₹178           ₹999  82% off  \n",
       "14  ₹607           ₹799  24% off  \n",
       "15  ₹999         ₹2,500  60% off  \n",
       "16  ₹499         ₹1,999  75% off  \n",
       "17  ₹309         ₹1,999  84% off  \n",
       "18  ₹399         ₹1,999  80% off  \n",
       "19  ₹999         ₹1,999  50% off  "
      ]
     },
     "execution_count": 254,
     "metadata": {},
     "output_type": "execute_result"
    }
   ],
   "source": [
    "sunglass = pd.DataFrame()\n",
    "sunglass [\"Company Name\"] = company_name\n",
    "sunglass [\"Product Description\"] = description\n",
    "sunglass [\"Price\"] = price\n",
    "sunglass [\"Original Price\"] = original_price\n",
    "sunglass [\"Offer %\"] = offer_percentage\n",
    "sunglass"
   ]
  },
  {
   "cell_type": "code",
   "execution_count": null,
   "id": "06ed87c1",
   "metadata": {},
   "outputs": [],
   "source": []
  },
  {
   "cell_type": "code",
   "execution_count": 99,
   "id": "98d83ce7",
   "metadata": {},
   "outputs": [],
   "source": [
    "## question 5 ##\n",
    "\n",
    "#connecting to webdriver\n",
    "driver=webdriver.Chrome(r'C:\\Users\\GOD\\Desktop\\Flip ROBO\\chromedriver.exe')"
   ]
  },
  {
   "cell_type": "code",
   "execution_count": 100,
   "id": "250a1cb0",
   "metadata": {},
   "outputs": [],
   "source": [
    "url='https://www.flipkart.com/apple-iphone-11-black-64-gb-includes-earpods-power-adapter/product-reviews/itm0f37c2240b217?pid=MOBFKCTSVZAXUHGR&lid=LSTMOBFKCTSVZAXUHGREPBFGI&marketplace'\n",
    "driver.get(url)"
   ]
  },
  {
   "cell_type": "code",
   "execution_count": 101,
   "id": "e0a46eaa",
   "metadata": {},
   "outputs": [
    {
     "data": {
      "text/plain": [
       "10"
      ]
     },
     "execution_count": 101,
     "metadata": {},
     "output_type": "execute_result"
    }
   ],
   "source": [
    "#extracting rating\n",
    "rating_tags = driver.find_elements_by_xpath('//div[@class=\"_3LWZlK _1BLPMq\"]')\n",
    "len(rating_tags)"
   ]
  },
  {
   "cell_type": "code",
   "execution_count": 102,
   "id": "b8d7b259",
   "metadata": {},
   "outputs": [
    {
     "data": {
      "text/plain": [
       "10"
      ]
     },
     "execution_count": 102,
     "metadata": {},
     "output_type": "execute_result"
    }
   ],
   "source": [
    "#extracting text from rating\n",
    "rating =[]\n",
    "\n",
    "for i in rating_tags:\n",
    "    rating.append(i.text)\n",
    "len(rating)"
   ]
  },
  {
   "cell_type": "code",
   "execution_count": 103,
   "id": "d47a8bb0",
   "metadata": {},
   "outputs": [
    {
     "data": {
      "text/plain": [
       "['5', '5', '5', '5', '5', '5', '5', '5', '4', '5']"
      ]
     },
     "execution_count": 103,
     "metadata": {},
     "output_type": "execute_result"
    }
   ],
   "source": [
    "rating"
   ]
  },
  {
   "cell_type": "code",
   "execution_count": 104,
   "id": "6d344c20",
   "metadata": {},
   "outputs": [
    {
     "data": {
      "text/plain": [
       "10"
      ]
     },
     "execution_count": 104,
     "metadata": {},
     "output_type": "execute_result"
    }
   ],
   "source": [
    "#extracting review\n",
    "review_summary = driver.find_elements_by_xpath('//p[@class=\"_2-N8zT\"]')\n",
    "len(review_summary)"
   ]
  },
  {
   "cell_type": "code",
   "execution_count": 105,
   "id": "787572dc",
   "metadata": {},
   "outputs": [
    {
     "data": {
      "text/plain": [
       "10"
      ]
     },
     "execution_count": 105,
     "metadata": {},
     "output_type": "execute_result"
    }
   ],
   "source": [
    "#extracting text from review summary \n",
    "review_sum = []\n",
    "\n",
    "for i in review_summary:\n",
    "    review_sum.append(i.text)\n",
    "len(review_sum)"
   ]
  },
  {
   "cell_type": "code",
   "execution_count": 106,
   "id": "8aff9ab0",
   "metadata": {},
   "outputs": [
    {
     "data": {
      "text/plain": [
       "['Brilliant',\n",
       " 'Simply awesome',\n",
       " 'Best in the market!',\n",
       " 'Perfect product!',\n",
       " 'Fabulous!',\n",
       " 'Worth every penny',\n",
       " 'Great product',\n",
       " 'Highly recommended',\n",
       " 'Good choice',\n",
       " 'Worth every penny']"
      ]
     },
     "execution_count": 106,
     "metadata": {},
     "output_type": "execute_result"
    }
   ],
   "source": [
    "review_sum"
   ]
  },
  {
   "cell_type": "code",
   "execution_count": 107,
   "id": "011a40b2",
   "metadata": {},
   "outputs": [
    {
     "data": {
      "text/plain": [
       "10"
      ]
     },
     "execution_count": 107,
     "metadata": {},
     "output_type": "execute_result"
    }
   ],
   "source": [
    "#extracting full review\n",
    "\n",
    "full_review = driver.find_elements_by_xpath('//div[@class=\"t-ZTKy\"]')\n",
    "len(full_review)"
   ]
  },
  {
   "cell_type": "code",
   "execution_count": 108,
   "id": "21b0ed9b",
   "metadata": {},
   "outputs": [
    {
     "data": {
      "text/plain": [
       "10"
      ]
     },
     "execution_count": 108,
     "metadata": {},
     "output_type": "execute_result"
    }
   ],
   "source": [
    "#extracting text from review summary \n",
    "\n",
    "full_rev=[]\n",
    "\n",
    "for i in full_review:\n",
    "    full_rev.append(i.text)\n",
    "len(full_rev)"
   ]
  },
  {
   "cell_type": "code",
   "execution_count": 109,
   "id": "918f67eb",
   "metadata": {},
   "outputs": [
    {
     "data": {
      "text/plain": [
       "['The Best Phone for the Money\\n\\nThe iPhone 11 offers superb cameras, a more durable design and excellent battery life for an affordable price.\\n\\nCompelling ultra-wide camera\\nNew Night mode is excellent\\nLong battery life',\n",
       " 'Really satisfied with the Product I received... It’s totally genuine and the packaging was also really good so if ur planning to buy just go for it.',\n",
       " 'Great iPhone very snappy experience as apple kind. Upgraded from iPhone 7.\\nPros\\n-Camera top class\\n- Battery top performed\\n-Chipset no need to say as apple kind\\n-Security as you expect from apple\\n- Display super bright industry leading colour\\naccuracy and super responsive\\n-Build quality as expect from apple sturdy\\npremium durable beautiful stylish.\\n-Os most stable os in smartphone industry\\n\\nCons\\n-No 5G\\n-Display is not based on OLED technology\\n-Charger headphones and 1 apple stic...\\nREAD MORE',\n",
       " 'Amazing phone with great cameras and better battery which gives you the best performance. I just love the camera .',\n",
       " 'This is my first iOS phone. I am very happy with this product. Very much satisfied with this. I love this phone.',\n",
       " 'Previously I was using one plus 3t it was a great phone\\nAnd then I decided to upgrade I am stuck between Samsung s10 plus or iPhone 11\\nI have seen the specs and everything were good except the display it’s somewhere between 720-1080 and it’s not even an amoled it’s an LCD display\\nBut I decided to go with iPhone because I have never used an IOS device I have Been an android user from the past 9 years I ordered IPhone 11 (128gb) product red\\nMy experience after using 3 weeks\\n1. The delivery ...\\nREAD MORE',\n",
       " 'Amazing Powerful and Durable Gadget.\\n\\nI’m am very happy with the camera picture quality, Amazing face id unlocked in dark room, Strong battery with perfect screen size as you can carry easily in pocket. This is my third iPhone.\\n\\nI shifted from android Samsung Note series to iPhone because of the strong build quality and peace of mind for next 3-4 years.\\n\\nDon’t think to much just go for it and I suggest you to go for minimum 128gb variant or more 256gb.\\n\\nI’ve attached my puppy pics and no fi...\\nREAD MORE',\n",
       " 'What a camera .....just awesome ..you can feel this iPhone just awesome . Good for gaming also ...try pubg in hd it’s just wow',\n",
       " 'So far it’s been an AMAZING experience coming back to iOS after nearly a decade but it’s not as versatile as android though phone is sturdy dropped it accidentally a couple of times and nothing happened fortunately camera is awesome',\n",
       " 'i11 is worthy to buy, too much happy with the product. Thank u flipkart I received the item on time..loved it..']"
      ]
     },
     "execution_count": 109,
     "metadata": {},
     "output_type": "execute_result"
    }
   ],
   "source": [
    "full_rev"
   ]
  },
  {
   "cell_type": "code",
   "execution_count": 110,
   "id": "7ef911e3",
   "metadata": {},
   "outputs": [
    {
     "data": {
      "text/html": [
       "<div>\n",
       "<style scoped>\n",
       "    .dataframe tbody tr th:only-of-type {\n",
       "        vertical-align: middle;\n",
       "    }\n",
       "\n",
       "    .dataframe tbody tr th {\n",
       "        vertical-align: top;\n",
       "    }\n",
       "\n",
       "    .dataframe thead th {\n",
       "        text-align: right;\n",
       "    }\n",
       "</style>\n",
       "<table border=\"1\" class=\"dataframe\">\n",
       "  <thead>\n",
       "    <tr style=\"text-align: right;\">\n",
       "      <th></th>\n",
       "      <th>Rating</th>\n",
       "      <th>Review Summary</th>\n",
       "      <th>Full Review</th>\n",
       "    </tr>\n",
       "  </thead>\n",
       "  <tbody>\n",
       "    <tr>\n",
       "      <th>0</th>\n",
       "      <td>5</td>\n",
       "      <td>Brilliant</td>\n",
       "      <td>The Best Phone for the Money\\n\\nThe iPhone 11 ...</td>\n",
       "    </tr>\n",
       "    <tr>\n",
       "      <th>1</th>\n",
       "      <td>5</td>\n",
       "      <td>Simply awesome</td>\n",
       "      <td>Really satisfied with the Product I received.....</td>\n",
       "    </tr>\n",
       "    <tr>\n",
       "      <th>2</th>\n",
       "      <td>5</td>\n",
       "      <td>Best in the market!</td>\n",
       "      <td>Great iPhone very snappy experience as apple k...</td>\n",
       "    </tr>\n",
       "    <tr>\n",
       "      <th>3</th>\n",
       "      <td>5</td>\n",
       "      <td>Perfect product!</td>\n",
       "      <td>Amazing phone with great cameras and better ba...</td>\n",
       "    </tr>\n",
       "    <tr>\n",
       "      <th>4</th>\n",
       "      <td>5</td>\n",
       "      <td>Fabulous!</td>\n",
       "      <td>This is my first iOS phone. I am very happy wi...</td>\n",
       "    </tr>\n",
       "    <tr>\n",
       "      <th>5</th>\n",
       "      <td>5</td>\n",
       "      <td>Worth every penny</td>\n",
       "      <td>Previously I was using one plus 3t it was a gr...</td>\n",
       "    </tr>\n",
       "    <tr>\n",
       "      <th>6</th>\n",
       "      <td>5</td>\n",
       "      <td>Great product</td>\n",
       "      <td>Amazing Powerful and Durable Gadget.\\n\\nI’m am...</td>\n",
       "    </tr>\n",
       "    <tr>\n",
       "      <th>7</th>\n",
       "      <td>5</td>\n",
       "      <td>Highly recommended</td>\n",
       "      <td>What a camera .....just awesome ..you can feel...</td>\n",
       "    </tr>\n",
       "    <tr>\n",
       "      <th>8</th>\n",
       "      <td>4</td>\n",
       "      <td>Good choice</td>\n",
       "      <td>So far it’s been an AMAZING experience coming ...</td>\n",
       "    </tr>\n",
       "    <tr>\n",
       "      <th>9</th>\n",
       "      <td>5</td>\n",
       "      <td>Worth every penny</td>\n",
       "      <td>i11 is worthy to buy, too much happy with the ...</td>\n",
       "    </tr>\n",
       "  </tbody>\n",
       "</table>\n",
       "</div>"
      ],
      "text/plain": [
       "  Rating       Review Summary  \\\n",
       "0      5            Brilliant   \n",
       "1      5       Simply awesome   \n",
       "2      5  Best in the market!   \n",
       "3      5     Perfect product!   \n",
       "4      5            Fabulous!   \n",
       "5      5    Worth every penny   \n",
       "6      5        Great product   \n",
       "7      5   Highly recommended   \n",
       "8      4          Good choice   \n",
       "9      5    Worth every penny   \n",
       "\n",
       "                                         Full Review  \n",
       "0  The Best Phone for the Money\\n\\nThe iPhone 11 ...  \n",
       "1  Really satisfied with the Product I received.....  \n",
       "2  Great iPhone very snappy experience as apple k...  \n",
       "3  Amazing phone with great cameras and better ba...  \n",
       "4  This is my first iOS phone. I am very happy wi...  \n",
       "5  Previously I was using one plus 3t it was a gr...  \n",
       "6  Amazing Powerful and Durable Gadget.\\n\\nI’m am...  \n",
       "7  What a camera .....just awesome ..you can feel...  \n",
       "8  So far it’s been an AMAZING experience coming ...  \n",
       "9  i11 is worthy to buy, too much happy with the ...  "
      ]
     },
     "execution_count": 110,
     "metadata": {},
     "output_type": "execute_result"
    }
   ],
   "source": [
    "iphone11 = pd.DataFrame()\n",
    "iphone11 [\"Rating\"] = rating\n",
    "iphone11 [\"Review Summary\"] = review_sum\n",
    "iphone11 [\"Full Review\"] = full_rev\n",
    "iphone11"
   ]
  },
  {
   "cell_type": "code",
   "execution_count": 112,
   "id": "9acc8d1c",
   "metadata": {},
   "outputs": [
    {
     "data": {
      "text/plain": [
       "<selenium.webdriver.remote.webelement.WebElement (session=\"638da2e83716747e74d369cfd63ffb94\", element=\"ce2f7981-1bcf-4bac-9720-f49b5d6221a7\")>"
      ]
     },
     "execution_count": 112,
     "metadata": {},
     "output_type": "execute_result"
    }
   ],
   "source": [
    "#clicking the next page\n",
    "next_button = driver.find_element_by_xpath('/html/body/div/div/div[3]/div/div/div[2]/div[13]/div/div/nav/a[11]')\n",
    "next_button"
   ]
  },
  {
   "cell_type": "code",
   "execution_count": 113,
   "id": "3250668f",
   "metadata": {},
   "outputs": [],
   "source": [
    "next_button.click()"
   ]
  },
  {
   "cell_type": "code",
   "execution_count": 114,
   "id": "43cebace",
   "metadata": {},
   "outputs": [
    {
     "data": {
      "text/plain": [
       "['5', '5', '5', '5', '5', '5', '5', '5', '5', '4']"
      ]
     },
     "execution_count": 114,
     "metadata": {},
     "output_type": "execute_result"
    }
   ],
   "source": [
    "rating_tags = driver.find_elements_by_xpath('//div[@class=\"_3LWZlK _1BLPMq\"]')\n",
    "rating =[]\n",
    "for i in rating_tags:\n",
    "    rating.append(i.text)\n",
    "rating"
   ]
  },
  {
   "cell_type": "code",
   "execution_count": 115,
   "id": "7b35e893",
   "metadata": {},
   "outputs": [
    {
     "data": {
      "text/plain": [
       "['Highly recommended',\n",
       " 'Perfect product!',\n",
       " 'Perfect product!',\n",
       " 'Highly recommended',\n",
       " 'Perfect product!',\n",
       " 'Worth every penny',\n",
       " 'Classy product',\n",
       " 'Worth every penny',\n",
       " 'Worth every penny',\n",
       " 'Nice product']"
      ]
     },
     "execution_count": 115,
     "metadata": {},
     "output_type": "execute_result"
    }
   ],
   "source": [
    "review_summary = driver.find_elements_by_xpath('//p[@class=\"_2-N8zT\"]')\n",
    "review_sum = []\n",
    "for i in review_summary:\n",
    "    review_sum.append(i.text)\n",
    "review_sum"
   ]
  },
  {
   "cell_type": "code",
   "execution_count": 116,
   "id": "69947dce",
   "metadata": {},
   "outputs": [
    {
     "data": {
      "text/plain": [
       "['iphone 11 is a very good phone to buy only if you can compromise for the display. The display on this is device is pretty good but you can get other options with better displays in this price segment.\\nIf you can survive with an HD+ LCD panel with thicker bezels and a notch up top then this is a very good phone for you.\\nCameras are awesome, battery backup excellent, great performance and a decent premium look. Good job Apple !',\n",
       " 'It’s a must buy who is looking for an upgrade from previous generation of iPhones. If you are using XR then still you can hold on for sometime and upgrade to 2020 model else this phone is a must buy . Camera quality is amazing and wide angle is something to count upon. Performance wise it’s amazing and feels premium while holding in hand. So a big YES for this device. Go for 128 GB variant as the 4K videos will occupy lots of space and the storage can get over very quickly. Try to buy it with...\\nREAD MORE',\n",
       " 'Value for money❤️❤️\\nIts awesome mobile phone in the world ...\\nDisplay was very good and bright ..\\nTrust me freinds you r never regret after Buying..\\nJust go for it....\\nI love this phone and i switch to iphone x to 11',\n",
       " \"It's my first time to use iOS phone and I am loving my upgradation 😍😍 I love the color, I love the assebility of the phone....I need to learn more about its functionality, but as far as I have seen, it's quite easy and it has a lot of functions to work on, specially if you are a content writer or a blogger you get a lot of content creation platforms and they are really amazing.\\n\\nThis phone not only for good quality photography but a lot of other task too.😍💯\",\n",
       " \"Iphone is just awesome.. battery backup is very very nice.. continuously for 10 hours we can use it.camera is just awesome.. display is just fab.i love it alot..i had to wait 15 days for it as i pre ordered it..overalll it's worth the price..these all images are clicked by my iPhone..and i love it.\",\n",
       " 'Best budget Iphone till date ❤️ go for it guys without second thought. Let me explain you guys about Camera, Display, battery, and performance.\\n\\nCamera: at this price range there is no comparison of camera, you’ll love the picture quality as well as video quality. I am a Vlogger I wanted an iPhone with 4k video by front camera and I got this phone and I am more than happy 😃\\n\\nBattery: I use this phone roughly as I am active social media person and I have a youtube channel. so the battery ba...\\nREAD MORE',\n",
       " 'Totally in love with this ❤ the camera quality is amazing just love it 😘😘😘 itsss dammnnnnnn amazing... Must buy iPhone 11 this is my best experience ever ☀👌👌🧡🧡🧡🧡🧡 thanku apple ❤',\n",
       " 'Smooth like butter, camera like fantabulous, sound is crystal clear & its red color is damn attractive, i am just loving it. Must buy if you love photography.\\n\\nLucky to get it in sale, thank you Flipkart.',\n",
       " 'It’s been almost a month since I have been using this phone. I upgraded from an iPhone 8. The main issue with my 8 was battery and this phone is just awesome when it comes to battery. It lasts a day and a half for me with my regular use , internet connected always with 4g\\nCan’t move forward without saying this. Battery of this phone is a life saver when I am traveling or at work when I don’t get the option to charge\\nCamera is superb. Front cam selfies and back cam photos are just awesome.\\n...\\nREAD MORE',\n",
       " 'Awesome Phone. Slightly high price but worth. Better than iPhone XR.\\nCamera is superb and wide angle camera is very clear.\\n12MP selfie camera is also very good.\\nA13 Chip gives a very good and smooth performance.']"
      ]
     },
     "execution_count": 116,
     "metadata": {},
     "output_type": "execute_result"
    }
   ],
   "source": [
    "full_review = driver.find_elements_by_xpath('//div[@class=\"t-ZTKy\"]')\n",
    "full_rev=[]\n",
    "\n",
    "for i in full_review:\n",
    "    full_rev.append(i.text)\n",
    "\n",
    "full_rev"
   ]
  },
  {
   "cell_type": "code",
   "execution_count": 117,
   "id": "04a628bf",
   "metadata": {},
   "outputs": [
    {
     "data": {
      "text/html": [
       "<div>\n",
       "<style scoped>\n",
       "    .dataframe tbody tr th:only-of-type {\n",
       "        vertical-align: middle;\n",
       "    }\n",
       "\n",
       "    .dataframe tbody tr th {\n",
       "        vertical-align: top;\n",
       "    }\n",
       "\n",
       "    .dataframe thead th {\n",
       "        text-align: right;\n",
       "    }\n",
       "</style>\n",
       "<table border=\"1\" class=\"dataframe\">\n",
       "  <thead>\n",
       "    <tr style=\"text-align: right;\">\n",
       "      <th></th>\n",
       "      <th>Rating</th>\n",
       "      <th>Review Summary</th>\n",
       "      <th>Full Review</th>\n",
       "    </tr>\n",
       "  </thead>\n",
       "  <tbody>\n",
       "    <tr>\n",
       "      <th>0</th>\n",
       "      <td>5</td>\n",
       "      <td>Highly recommended</td>\n",
       "      <td>iphone 11 is a very good phone to buy only if ...</td>\n",
       "    </tr>\n",
       "    <tr>\n",
       "      <th>1</th>\n",
       "      <td>5</td>\n",
       "      <td>Perfect product!</td>\n",
       "      <td>It’s a must buy who is looking for an upgrade ...</td>\n",
       "    </tr>\n",
       "    <tr>\n",
       "      <th>2</th>\n",
       "      <td>5</td>\n",
       "      <td>Perfect product!</td>\n",
       "      <td>Value for money❤️❤️\\nIts awesome mobile phone ...</td>\n",
       "    </tr>\n",
       "    <tr>\n",
       "      <th>3</th>\n",
       "      <td>5</td>\n",
       "      <td>Highly recommended</td>\n",
       "      <td>It's my first time to use iOS phone and I am l...</td>\n",
       "    </tr>\n",
       "    <tr>\n",
       "      <th>4</th>\n",
       "      <td>5</td>\n",
       "      <td>Perfect product!</td>\n",
       "      <td>Iphone is just awesome.. battery backup is ver...</td>\n",
       "    </tr>\n",
       "    <tr>\n",
       "      <th>5</th>\n",
       "      <td>5</td>\n",
       "      <td>Worth every penny</td>\n",
       "      <td>Best budget Iphone till date ❤️ go for it guys...</td>\n",
       "    </tr>\n",
       "    <tr>\n",
       "      <th>6</th>\n",
       "      <td>5</td>\n",
       "      <td>Classy product</td>\n",
       "      <td>Totally in love with this ❤ the camera quality...</td>\n",
       "    </tr>\n",
       "    <tr>\n",
       "      <th>7</th>\n",
       "      <td>5</td>\n",
       "      <td>Worth every penny</td>\n",
       "      <td>Smooth like butter, camera like fantabulous, s...</td>\n",
       "    </tr>\n",
       "    <tr>\n",
       "      <th>8</th>\n",
       "      <td>5</td>\n",
       "      <td>Worth every penny</td>\n",
       "      <td>It’s been almost a month since I have been usi...</td>\n",
       "    </tr>\n",
       "    <tr>\n",
       "      <th>9</th>\n",
       "      <td>4</td>\n",
       "      <td>Nice product</td>\n",
       "      <td>Awesome Phone. Slightly high price but worth. ...</td>\n",
       "    </tr>\n",
       "  </tbody>\n",
       "</table>\n",
       "</div>"
      ],
      "text/plain": [
       "  Rating      Review Summary  \\\n",
       "0      5  Highly recommended   \n",
       "1      5    Perfect product!   \n",
       "2      5    Perfect product!   \n",
       "3      5  Highly recommended   \n",
       "4      5    Perfect product!   \n",
       "5      5   Worth every penny   \n",
       "6      5      Classy product   \n",
       "7      5   Worth every penny   \n",
       "8      5   Worth every penny   \n",
       "9      4        Nice product   \n",
       "\n",
       "                                         Full Review  \n",
       "0  iphone 11 is a very good phone to buy only if ...  \n",
       "1  It’s a must buy who is looking for an upgrade ...  \n",
       "2  Value for money❤️❤️\\nIts awesome mobile phone ...  \n",
       "3  It's my first time to use iOS phone and I am l...  \n",
       "4  Iphone is just awesome.. battery backup is ver...  \n",
       "5  Best budget Iphone till date ❤️ go for it guys...  \n",
       "6  Totally in love with this ❤ the camera quality...  \n",
       "7  Smooth like butter, camera like fantabulous, s...  \n",
       "8  It’s been almost a month since I have been usi...  \n",
       "9  Awesome Phone. Slightly high price but worth. ...  "
      ]
     },
     "execution_count": 117,
     "metadata": {},
     "output_type": "execute_result"
    }
   ],
   "source": [
    "iphone11 = pd.DataFrame()\n",
    "iphone11 [\"Rating\"] = rating\n",
    "iphone11 [\"Review Summary\"] = review_sum\n",
    "iphone11 [\"Full Review\"] = full_rev\n",
    "iphone11"
   ]
  },
  {
   "cell_type": "code",
   "execution_count": null,
   "id": "8285eae6",
   "metadata": {},
   "outputs": [],
   "source": []
  },
  {
   "cell_type": "code",
   "execution_count": 112,
   "id": "a3e6ecaf",
   "metadata": {},
   "outputs": [],
   "source": [
    "#### Question 6 ####\n",
    "\n",
    "\n",
    "#connecting to webdriver\n",
    "driver=webdriver.Chrome(r'C:\\Users\\GOD\\Desktop\\Flip ROBO\\chromedriver.exe')"
   ]
  },
  {
   "cell_type": "code",
   "execution_count": 113,
   "id": "eb291a59",
   "metadata": {},
   "outputs": [],
   "source": [
    "url='http://www.flipkart.com/'\n",
    "driver.get(url)"
   ]
  },
  {
   "cell_type": "code",
   "execution_count": 114,
   "id": "ed9c2f5a",
   "metadata": {},
   "outputs": [
    {
     "data": {
      "text/plain": [
       "<selenium.webdriver.remote.webelement.WebElement (session=\"8980415ab509d49b738dcc29326954d5\", element=\"12c9cd28-5866-4fe1-9538-468d8f5cab69\")>"
      ]
     },
     "execution_count": 114,
     "metadata": {},
     "output_type": "execute_result"
    }
   ],
   "source": [
    "#finding the web element using the search bar using class id\n",
    "search_product = driver.find_element_by_class_name(\"_3704LK\")\n",
    "search_product"
   ]
  },
  {
   "cell_type": "code",
   "execution_count": 115,
   "id": "56dd0a56",
   "metadata": {},
   "outputs": [],
   "source": [
    "search_product.send_keys(\"sneakers\")"
   ]
  },
  {
   "cell_type": "code",
   "execution_count": 116,
   "id": "23e2798e",
   "metadata": {},
   "outputs": [],
   "source": [
    "#clicking the search button\n",
    "search_button = driver.find_element_by_class_name('L0Z3Pu')\n",
    "search_button.click()"
   ]
  },
  {
   "cell_type": "code",
   "execution_count": 117,
   "id": "a3dc608e",
   "metadata": {},
   "outputs": [
    {
     "data": {
      "text/plain": [
       "40"
      ]
     },
     "execution_count": 117,
     "metadata": {},
     "output_type": "execute_result"
    }
   ],
   "source": [
    "#extracting company name\n",
    "company_tags = driver.find_elements_by_xpath('//div[@class=\"_2WkVRV\"]')\n",
    "len(company_tags)"
   ]
  },
  {
   "cell_type": "code",
   "execution_count": 120,
   "id": "0841c27c",
   "metadata": {},
   "outputs": [
    {
     "data": {
      "text/plain": [
       "['luxury fashion',\n",
       " 'HRX by Hrithik Roshan',\n",
       " 'Elevarse',\n",
       " 'BRUTON',\n",
       " 'World Wear Footwear',\n",
       " 'BRUTON',\n",
       " 'Chevit',\n",
       " 'Shuzer68',\n",
       " 'Labbin',\n",
       " 'URBANBOX',\n",
       " 'Trendmode',\n",
       " 'RapidBox',\n",
       " 'World Wear Footwear',\n",
       " 'SCATCHITE',\n",
       " 'D-SNEAKERZ',\n",
       " 'Numenzo',\n",
       " 'PUMA',\n",
       " 'Shoes Bank',\n",
       " 'CLYMB',\n",
       " 'India hub',\n",
       " 'RapidBox',\n",
       " 'luxury fashion',\n",
       " 'DUNKASTON',\n",
       " 'HRX by Hrithik Roshan',\n",
       " 'Numenzo',\n",
       " 'BRUTON',\n",
       " 'ASTEROID',\n",
       " 'CALCADOS',\n",
       " 'BRUTON',\n",
       " 'World Wear Footwear',\n",
       " 'Rzisbo',\n",
       " 'T-ROCK',\n",
       " 'BRUTON',\n",
       " 'Chevit',\n",
       " 'aadi',\n",
       " 'aadi',\n",
       " 'RapidBox',\n",
       " 'Robbie jones',\n",
       " 'PUMA',\n",
       " 'Extoes']"
      ]
     },
     "execution_count": 120,
     "metadata": {},
     "output_type": "execute_result"
    }
   ],
   "source": [
    "#extracting text from company names\n",
    "\n",
    "company_name = []\n",
    "\n",
    "for i in company_tags:\n",
    "    company_name.append(i.text)\n",
    "company_name"
   ]
  },
  {
   "cell_type": "code",
   "execution_count": 125,
   "id": "cb3563c4",
   "metadata": {},
   "outputs": [
    {
     "data": {
      "text/plain": [
       "40"
      ]
     },
     "execution_count": 125,
     "metadata": {},
     "output_type": "execute_result"
    }
   ],
   "source": [
    "#Extracting product description\n",
    "\n",
    "prod_des = driver.find_elements_by_xpath('//a[contains(@title,\"Sneakers\")]')\n",
    "len(prod_des)"
   ]
  },
  {
   "cell_type": "code",
   "execution_count": 126,
   "id": "a2dae244",
   "metadata": {},
   "outputs": [
    {
     "data": {
      "text/plain": [
       "40"
      ]
     },
     "execution_count": 126,
     "metadata": {},
     "output_type": "execute_result"
    }
   ],
   "source": [
    "#extracting text from product description\n",
    "\n",
    "description =[]\n",
    "\n",
    "for i in prod_des:\n",
    "    description.append(i.text)\n",
    "len(description)"
   ]
  },
  {
   "cell_type": "code",
   "execution_count": 127,
   "id": "3d5d63ad",
   "metadata": {},
   "outputs": [
    {
     "data": {
      "text/plain": [
       "['Luxuryfashion casual sneaker shoes Sneakers For Men',\n",
       " 'Men White Printed Sneakers Sneakers For Men',\n",
       " 'Sneakers For Men',\n",
       " 'Modern Trendy Sneakers Shoes Sneakers For Men',\n",
       " '5011-Latest Collection Stylish Casual Loafer Sneakers S...',\n",
       " 'Combo Pack Of 4 Casual Shoes Loafer Shoes Sneakers For ...',\n",
       " 'Super Stylish & Trendy Combo Pack of 02 Pairs Sneakers ...',\n",
       " 'Sneakers For Men',\n",
       " 'Sneakers For Men',\n",
       " 'Sneakers Sneakers For Men',\n",
       " 'Sneakers For Men',\n",
       " 'Sneakers For Men',\n",
       " 'Sneakers For Men',\n",
       " 'Sneakers Sneakers For Men',\n",
       " \"Casual , Partywear Sneakers Shoes For Men's And Boys Wh...\",\n",
       " 'Sneakers For Men',\n",
       " 'Smash v2 L White- Black Sneakers For Men',\n",
       " \"White Sneaker For Men's/Boy's Sneakers For Men\",\n",
       " \"Perfect Sports Shoes for Men's Running ,Cycling & Trekk...\",\n",
       " 'Sneakers For Men',\n",
       " 'Sneakers For Men',\n",
       " 'Luxury Fashionable casual shoes Sneakers For Men',\n",
       " 'Sneakers For Men',\n",
       " 'Sneakers For Men',\n",
       " '411 Casual Sneakers For Men',\n",
       " 'Combo Pack Of 2 Latest Stylish Casual Shoes for Men Lac...',\n",
       " \"Original Luxury Branded Fashionable Men's Casual Walkin...\",\n",
       " 'Sneakers For Men',\n",
       " 'Lightweight Pack Of 1 Trendy Sneakers Sneakers Sneakers...',\n",
       " 'Men 5014 Latest Collection Stylish Casual Sports Loafer...',\n",
       " 'Sneakers For Men',\n",
       " 'Stylish Casual Party Wear Sneakers Sneakers For Men',\n",
       " 'Lattest Sneakers Shoe Sneakers For Men',\n",
       " 'Perfect & Affordable Combo Pack of 02 Pairs Sneakers Ou...',\n",
       " 'Sneakers For Men',\n",
       " 'Sneakers For Men',\n",
       " 'Sneakers For Men',\n",
       " 'Sneakers For Men',\n",
       " 'Puma Smash v2 L Sneakers For Men',\n",
       " 'Combo Pack Of 3 Sneakers For Men']"
      ]
     },
     "execution_count": 127,
     "metadata": {},
     "output_type": "execute_result"
    }
   ],
   "source": [
    "description"
   ]
  },
  {
   "cell_type": "code",
   "execution_count": 129,
   "id": "86ca6134",
   "metadata": {},
   "outputs": [
    {
     "data": {
      "text/plain": [
       "40"
      ]
     },
     "execution_count": 129,
     "metadata": {},
     "output_type": "execute_result"
    }
   ],
   "source": [
    "#extracting cost from the price tags\n",
    "\n",
    "price_tag=driver.find_elements_by_xpath('//div[@class=\"_30jeq3\"]')\n",
    "len(price_tag)"
   ]
  },
  {
   "cell_type": "code",
   "execution_count": 130,
   "id": "dd32949c",
   "metadata": {},
   "outputs": [
    {
     "data": {
      "text/plain": [
       "['₹499',\n",
       " '₹2,499',\n",
       " '₹349',\n",
       " '₹259',\n",
       " '₹199',\n",
       " '₹499',\n",
       " '₹649',\n",
       " '₹397',\n",
       " '₹499',\n",
       " '₹220',\n",
       " '₹359',\n",
       " '₹640',\n",
       " '₹249',\n",
       " '₹398',\n",
       " '₹299',\n",
       " '₹479',\n",
       " '₹1,799',\n",
       " '₹345',\n",
       " '₹249',\n",
       " '₹426',\n",
       " '₹680',\n",
       " '₹407',\n",
       " '₹399',\n",
       " '₹2,199',\n",
       " '₹499',\n",
       " '₹499',\n",
       " '₹499',\n",
       " '₹668',\n",
       " '₹189',\n",
       " '₹259',\n",
       " '₹549',\n",
       " '₹499',\n",
       " '₹259',\n",
       " '₹489',\n",
       " '₹379',\n",
       " '₹399',\n",
       " '₹690',\n",
       " '₹499',\n",
       " '₹1,994',\n",
       " '₹798']"
      ]
     },
     "execution_count": 130,
     "metadata": {},
     "output_type": "execute_result"
    }
   ],
   "source": [
    "#extracting text from the price tags\n",
    "\n",
    "price =[]\n",
    "\n",
    "for i in price_tag:\n",
    "    price.append(i.text)\n",
    "price"
   ]
  },
  {
   "cell_type": "code",
   "execution_count": 131,
   "id": "7bc23509",
   "metadata": {},
   "outputs": [
    {
     "data": {
      "text/html": [
       "<div>\n",
       "<style scoped>\n",
       "    .dataframe tbody tr th:only-of-type {\n",
       "        vertical-align: middle;\n",
       "    }\n",
       "\n",
       "    .dataframe tbody tr th {\n",
       "        vertical-align: top;\n",
       "    }\n",
       "\n",
       "    .dataframe thead th {\n",
       "        text-align: right;\n",
       "    }\n",
       "</style>\n",
       "<table border=\"1\" class=\"dataframe\">\n",
       "  <thead>\n",
       "    <tr style=\"text-align: right;\">\n",
       "      <th></th>\n",
       "      <th>Company Name</th>\n",
       "      <th>Description</th>\n",
       "      <th>Price</th>\n",
       "    </tr>\n",
       "  </thead>\n",
       "  <tbody>\n",
       "    <tr>\n",
       "      <th>0</th>\n",
       "      <td>luxury fashion</td>\n",
       "      <td>Luxuryfashion casual sneaker shoes Sneakers Fo...</td>\n",
       "      <td>₹499</td>\n",
       "    </tr>\n",
       "    <tr>\n",
       "      <th>1</th>\n",
       "      <td>HRX by Hrithik Roshan</td>\n",
       "      <td>Men White Printed Sneakers Sneakers For Men</td>\n",
       "      <td>₹2,499</td>\n",
       "    </tr>\n",
       "    <tr>\n",
       "      <th>2</th>\n",
       "      <td>Elevarse</td>\n",
       "      <td>Sneakers For Men</td>\n",
       "      <td>₹349</td>\n",
       "    </tr>\n",
       "    <tr>\n",
       "      <th>3</th>\n",
       "      <td>BRUTON</td>\n",
       "      <td>Modern Trendy Sneakers Shoes Sneakers For Men</td>\n",
       "      <td>₹259</td>\n",
       "    </tr>\n",
       "    <tr>\n",
       "      <th>4</th>\n",
       "      <td>World Wear Footwear</td>\n",
       "      <td>5011-Latest Collection Stylish Casual Loafer S...</td>\n",
       "      <td>₹199</td>\n",
       "    </tr>\n",
       "    <tr>\n",
       "      <th>5</th>\n",
       "      <td>BRUTON</td>\n",
       "      <td>Combo Pack Of 4 Casual Shoes Loafer Shoes Snea...</td>\n",
       "      <td>₹499</td>\n",
       "    </tr>\n",
       "    <tr>\n",
       "      <th>6</th>\n",
       "      <td>Chevit</td>\n",
       "      <td>Super Stylish &amp; Trendy Combo Pack of 02 Pairs ...</td>\n",
       "      <td>₹649</td>\n",
       "    </tr>\n",
       "    <tr>\n",
       "      <th>7</th>\n",
       "      <td>Shuzer68</td>\n",
       "      <td>Sneakers For Men</td>\n",
       "      <td>₹397</td>\n",
       "    </tr>\n",
       "    <tr>\n",
       "      <th>8</th>\n",
       "      <td>Labbin</td>\n",
       "      <td>Sneakers For Men</td>\n",
       "      <td>₹499</td>\n",
       "    </tr>\n",
       "    <tr>\n",
       "      <th>9</th>\n",
       "      <td>URBANBOX</td>\n",
       "      <td>Sneakers Sneakers For Men</td>\n",
       "      <td>₹220</td>\n",
       "    </tr>\n",
       "    <tr>\n",
       "      <th>10</th>\n",
       "      <td>Trendmode</td>\n",
       "      <td>Sneakers For Men</td>\n",
       "      <td>₹359</td>\n",
       "    </tr>\n",
       "    <tr>\n",
       "      <th>11</th>\n",
       "      <td>RapidBox</td>\n",
       "      <td>Sneakers For Men</td>\n",
       "      <td>₹640</td>\n",
       "    </tr>\n",
       "    <tr>\n",
       "      <th>12</th>\n",
       "      <td>World Wear Footwear</td>\n",
       "      <td>Sneakers For Men</td>\n",
       "      <td>₹249</td>\n",
       "    </tr>\n",
       "    <tr>\n",
       "      <th>13</th>\n",
       "      <td>SCATCHITE</td>\n",
       "      <td>Sneakers Sneakers For Men</td>\n",
       "      <td>₹398</td>\n",
       "    </tr>\n",
       "    <tr>\n",
       "      <th>14</th>\n",
       "      <td>D-SNEAKERZ</td>\n",
       "      <td>Casual , Partywear Sneakers Shoes For Men's An...</td>\n",
       "      <td>₹299</td>\n",
       "    </tr>\n",
       "    <tr>\n",
       "      <th>15</th>\n",
       "      <td>Numenzo</td>\n",
       "      <td>Sneakers For Men</td>\n",
       "      <td>₹479</td>\n",
       "    </tr>\n",
       "    <tr>\n",
       "      <th>16</th>\n",
       "      <td>PUMA</td>\n",
       "      <td>Smash v2 L White- Black Sneakers For Men</td>\n",
       "      <td>₹1,799</td>\n",
       "    </tr>\n",
       "    <tr>\n",
       "      <th>17</th>\n",
       "      <td>Shoes Bank</td>\n",
       "      <td>White Sneaker For Men's/Boy's Sneakers For Men</td>\n",
       "      <td>₹345</td>\n",
       "    </tr>\n",
       "    <tr>\n",
       "      <th>18</th>\n",
       "      <td>CLYMB</td>\n",
       "      <td>Perfect Sports Shoes for Men's Running ,Cyclin...</td>\n",
       "      <td>₹249</td>\n",
       "    </tr>\n",
       "    <tr>\n",
       "      <th>19</th>\n",
       "      <td>India hub</td>\n",
       "      <td>Sneakers For Men</td>\n",
       "      <td>₹426</td>\n",
       "    </tr>\n",
       "    <tr>\n",
       "      <th>20</th>\n",
       "      <td>RapidBox</td>\n",
       "      <td>Sneakers For Men</td>\n",
       "      <td>₹680</td>\n",
       "    </tr>\n",
       "    <tr>\n",
       "      <th>21</th>\n",
       "      <td>luxury fashion</td>\n",
       "      <td>Luxury Fashionable casual shoes Sneakers For Men</td>\n",
       "      <td>₹407</td>\n",
       "    </tr>\n",
       "    <tr>\n",
       "      <th>22</th>\n",
       "      <td>DUNKASTON</td>\n",
       "      <td>Sneakers For Men</td>\n",
       "      <td>₹399</td>\n",
       "    </tr>\n",
       "    <tr>\n",
       "      <th>23</th>\n",
       "      <td>HRX by Hrithik Roshan</td>\n",
       "      <td>Sneakers For Men</td>\n",
       "      <td>₹2,199</td>\n",
       "    </tr>\n",
       "    <tr>\n",
       "      <th>24</th>\n",
       "      <td>Numenzo</td>\n",
       "      <td>411 Casual Sneakers For Men</td>\n",
       "      <td>₹499</td>\n",
       "    </tr>\n",
       "    <tr>\n",
       "      <th>25</th>\n",
       "      <td>BRUTON</td>\n",
       "      <td>Combo Pack Of 2 Latest Stylish Casual Shoes fo...</td>\n",
       "      <td>₹499</td>\n",
       "    </tr>\n",
       "    <tr>\n",
       "      <th>26</th>\n",
       "      <td>ASTEROID</td>\n",
       "      <td>Original Luxury Branded Fashionable Men's Casu...</td>\n",
       "      <td>₹499</td>\n",
       "    </tr>\n",
       "    <tr>\n",
       "      <th>27</th>\n",
       "      <td>CALCADOS</td>\n",
       "      <td>Sneakers For Men</td>\n",
       "      <td>₹668</td>\n",
       "    </tr>\n",
       "    <tr>\n",
       "      <th>28</th>\n",
       "      <td>BRUTON</td>\n",
       "      <td>Lightweight Pack Of 1 Trendy Sneakers Sneakers...</td>\n",
       "      <td>₹189</td>\n",
       "    </tr>\n",
       "    <tr>\n",
       "      <th>29</th>\n",
       "      <td>World Wear Footwear</td>\n",
       "      <td>Men 5014 Latest Collection Stylish Casual Spor...</td>\n",
       "      <td>₹259</td>\n",
       "    </tr>\n",
       "    <tr>\n",
       "      <th>30</th>\n",
       "      <td>Rzisbo</td>\n",
       "      <td>Sneakers For Men</td>\n",
       "      <td>₹549</td>\n",
       "    </tr>\n",
       "    <tr>\n",
       "      <th>31</th>\n",
       "      <td>T-ROCK</td>\n",
       "      <td>Stylish Casual Party Wear Sneakers Sneakers Fo...</td>\n",
       "      <td>₹499</td>\n",
       "    </tr>\n",
       "    <tr>\n",
       "      <th>32</th>\n",
       "      <td>BRUTON</td>\n",
       "      <td>Lattest Sneakers Shoe Sneakers For Men</td>\n",
       "      <td>₹259</td>\n",
       "    </tr>\n",
       "    <tr>\n",
       "      <th>33</th>\n",
       "      <td>Chevit</td>\n",
       "      <td>Perfect &amp; Affordable Combo Pack of 02 Pairs Sn...</td>\n",
       "      <td>₹489</td>\n",
       "    </tr>\n",
       "    <tr>\n",
       "      <th>34</th>\n",
       "      <td>aadi</td>\n",
       "      <td>Sneakers For Men</td>\n",
       "      <td>₹379</td>\n",
       "    </tr>\n",
       "    <tr>\n",
       "      <th>35</th>\n",
       "      <td>aadi</td>\n",
       "      <td>Sneakers For Men</td>\n",
       "      <td>₹399</td>\n",
       "    </tr>\n",
       "    <tr>\n",
       "      <th>36</th>\n",
       "      <td>RapidBox</td>\n",
       "      <td>Sneakers For Men</td>\n",
       "      <td>₹690</td>\n",
       "    </tr>\n",
       "    <tr>\n",
       "      <th>37</th>\n",
       "      <td>Robbie jones</td>\n",
       "      <td>Sneakers For Men</td>\n",
       "      <td>₹499</td>\n",
       "    </tr>\n",
       "    <tr>\n",
       "      <th>38</th>\n",
       "      <td>PUMA</td>\n",
       "      <td>Puma Smash v2 L Sneakers For Men</td>\n",
       "      <td>₹1,994</td>\n",
       "    </tr>\n",
       "    <tr>\n",
       "      <th>39</th>\n",
       "      <td>Extoes</td>\n",
       "      <td>Combo Pack Of 3 Sneakers For Men</td>\n",
       "      <td>₹798</td>\n",
       "    </tr>\n",
       "  </tbody>\n",
       "</table>\n",
       "</div>"
      ],
      "text/plain": [
       "             Company Name                                        Description  \\\n",
       "0          luxury fashion  Luxuryfashion casual sneaker shoes Sneakers Fo...   \n",
       "1   HRX by Hrithik Roshan        Men White Printed Sneakers Sneakers For Men   \n",
       "2                Elevarse                                   Sneakers For Men   \n",
       "3                  BRUTON      Modern Trendy Sneakers Shoes Sneakers For Men   \n",
       "4     World Wear Footwear  5011-Latest Collection Stylish Casual Loafer S...   \n",
       "5                  BRUTON  Combo Pack Of 4 Casual Shoes Loafer Shoes Snea...   \n",
       "6                  Chevit  Super Stylish & Trendy Combo Pack of 02 Pairs ...   \n",
       "7                Shuzer68                                   Sneakers For Men   \n",
       "8                  Labbin                                   Sneakers For Men   \n",
       "9                URBANBOX                          Sneakers Sneakers For Men   \n",
       "10              Trendmode                                   Sneakers For Men   \n",
       "11               RapidBox                                   Sneakers For Men   \n",
       "12    World Wear Footwear                                   Sneakers For Men   \n",
       "13              SCATCHITE                          Sneakers Sneakers For Men   \n",
       "14             D-SNEAKERZ  Casual , Partywear Sneakers Shoes For Men's An...   \n",
       "15                Numenzo                                   Sneakers For Men   \n",
       "16                   PUMA           Smash v2 L White- Black Sneakers For Men   \n",
       "17             Shoes Bank     White Sneaker For Men's/Boy's Sneakers For Men   \n",
       "18                  CLYMB  Perfect Sports Shoes for Men's Running ,Cyclin...   \n",
       "19              India hub                                   Sneakers For Men   \n",
       "20               RapidBox                                   Sneakers For Men   \n",
       "21         luxury fashion   Luxury Fashionable casual shoes Sneakers For Men   \n",
       "22              DUNKASTON                                   Sneakers For Men   \n",
       "23  HRX by Hrithik Roshan                                   Sneakers For Men   \n",
       "24                Numenzo                        411 Casual Sneakers For Men   \n",
       "25                 BRUTON  Combo Pack Of 2 Latest Stylish Casual Shoes fo...   \n",
       "26               ASTEROID  Original Luxury Branded Fashionable Men's Casu...   \n",
       "27               CALCADOS                                   Sneakers For Men   \n",
       "28                 BRUTON  Lightweight Pack Of 1 Trendy Sneakers Sneakers...   \n",
       "29    World Wear Footwear  Men 5014 Latest Collection Stylish Casual Spor...   \n",
       "30                 Rzisbo                                   Sneakers For Men   \n",
       "31                 T-ROCK  Stylish Casual Party Wear Sneakers Sneakers Fo...   \n",
       "32                 BRUTON             Lattest Sneakers Shoe Sneakers For Men   \n",
       "33                 Chevit  Perfect & Affordable Combo Pack of 02 Pairs Sn...   \n",
       "34                   aadi                                   Sneakers For Men   \n",
       "35                   aadi                                   Sneakers For Men   \n",
       "36               RapidBox                                   Sneakers For Men   \n",
       "37           Robbie jones                                   Sneakers For Men   \n",
       "38                   PUMA                   Puma Smash v2 L Sneakers For Men   \n",
       "39                 Extoes                   Combo Pack Of 3 Sneakers For Men   \n",
       "\n",
       "     Price  \n",
       "0     ₹499  \n",
       "1   ₹2,499  \n",
       "2     ₹349  \n",
       "3     ₹259  \n",
       "4     ₹199  \n",
       "5     ₹499  \n",
       "6     ₹649  \n",
       "7     ₹397  \n",
       "8     ₹499  \n",
       "9     ₹220  \n",
       "10    ₹359  \n",
       "11    ₹640  \n",
       "12    ₹249  \n",
       "13    ₹398  \n",
       "14    ₹299  \n",
       "15    ₹479  \n",
       "16  ₹1,799  \n",
       "17    ₹345  \n",
       "18    ₹249  \n",
       "19    ₹426  \n",
       "20    ₹680  \n",
       "21    ₹407  \n",
       "22    ₹399  \n",
       "23  ₹2,199  \n",
       "24    ₹499  \n",
       "25    ₹499  \n",
       "26    ₹499  \n",
       "27    ₹668  \n",
       "28    ₹189  \n",
       "29    ₹259  \n",
       "30    ₹549  \n",
       "31    ₹499  \n",
       "32    ₹259  \n",
       "33    ₹489  \n",
       "34    ₹379  \n",
       "35    ₹399  \n",
       "36    ₹690  \n",
       "37    ₹499  \n",
       "38  ₹1,994  \n",
       "39    ₹798  "
      ]
     },
     "execution_count": 131,
     "metadata": {},
     "output_type": "execute_result"
    }
   ],
   "source": [
    "sneakers = pd.DataFrame()\n",
    "sneakers [\"Brand\"] = company_name\n",
    "sneakers [\"Description\"] = description\n",
    "sneakers [\"Price\"] = price\n",
    "sneakers"
   ]
  },
  {
   "cell_type": "code",
   "execution_count": 141,
   "id": "f8144947",
   "metadata": {},
   "outputs": [],
   "source": [
    "#clicking the next page\n",
    "next_button = driver.find_element_by_xpath('/html/body/div[1]/div/div[3]/div[1]/div[2]/div[12]/div/div/nav/a[11]/span')\n",
    "next_button"
   ]
  },
  {
   "cell_type": "code",
   "execution_count": 142,
   "id": "f3c1a952",
   "metadata": {},
   "outputs": [],
   "source": [
    "#extracting company name\n",
    "company_tags = driver.find_elements_by_xpath('//div[@class=\"_2WkVRV\"]')"
   ]
  },
  {
   "cell_type": "code",
   "execution_count": 143,
   "id": "aaa0e3ce",
   "metadata": {},
   "outputs": [
    {
     "data": {
      "text/plain": [
       "['Chevit',\n",
       " 'DRESTA',\n",
       " 'Robbie jones',\n",
       " 'World Wear Footwear',\n",
       " 'aadi',\n",
       " 'Zsyto',\n",
       " 'Xtoon',\n",
       " 'Robbie jones',\n",
       " 'Chevit',\n",
       " 'aadi',\n",
       " 'ASIAN',\n",
       " 'BIRDE',\n",
       " 'Echor',\n",
       " 'Chevit',\n",
       " 'RODDICK SHOES',\n",
       " 'Arohi',\n",
       " 'Bata',\n",
       " 'RODDICK SHOES',\n",
       " 'BRUTON',\n",
       " 'Trendmode',\n",
       " 'LE GREEM',\n",
       " 'Numenzo',\n",
       " 'RANZAG',\n",
       " 'PUMA',\n",
       " 'SPARX',\n",
       " 'D-SNEAKERZ',\n",
       " 'aadi',\n",
       " 'KNIGHT WALKERS',\n",
       " 'RapidBox',\n",
       " 'Vellinto',\n",
       " 'India hub',\n",
       " 'Kraasa',\n",
       " 'PUMA',\n",
       " 'Deals4you',\n",
       " 'Zorth',\n",
       " 'Zixer',\n",
       " 'aadi',\n",
       " 'Ktiz',\n",
       " 'Echor',\n",
       " 'BRUTON']"
      ]
     },
     "execution_count": 143,
     "metadata": {},
     "output_type": "execute_result"
    }
   ],
   "source": [
    "#extracting text from company names\n",
    "\n",
    "company_name = []\n",
    "\n",
    "for i in company_tags:\n",
    "    company_name.append(i.text)\n",
    "company_name"
   ]
  },
  {
   "cell_type": "code",
   "execution_count": 144,
   "id": "a53ac249",
   "metadata": {},
   "outputs": [],
   "source": [
    "#Extracting product description\n",
    "\n",
    "prod_des = driver.find_elements_by_xpath('//a[contains(@title,\"Sneakers\")]')"
   ]
  },
  {
   "cell_type": "code",
   "execution_count": 145,
   "id": "14dfb40f",
   "metadata": {},
   "outputs": [
    {
     "data": {
      "text/plain": [
       "['494 Perfect Sports Shoes for Running Training Hikking &...',\n",
       " \"Original Luxury Branded Fashionable Men's Casual Walkin...\",\n",
       " 'Sneakers For Men',\n",
       " 'Latest Collection-1227 Stylish Casual Sports Sneakers F...',\n",
       " 'Sneakers For Men',\n",
       " 'Sneakers For Men',\n",
       " \"white Casual shoes,Sneakers for men's Sneakers For Men\",\n",
       " 'Casual Sneakers White Shoes For Men Sneakers For Men',\n",
       " '516 Trendy Star Perfect Sneakers For Men',\n",
       " 'Sneakers For Men',\n",
       " 'Skypy-31 Walking Shoes,Training Shoes,Sneakers,Loafers,...',\n",
       " 'Stylish and Trendy New Design Lightweight,Casual shoes ...',\n",
       " \"Men's Sneakers Fashion Lightweight Running Shoes Tennis...\",\n",
       " \"Men's Combo Pack of 02 Shoes for Men Casual Sneakers Ou...\",\n",
       " 'Fashion Outdoor Canvas Casual Light Weight Lace-up Even...',\n",
       " 'Sneakers For Men',\n",
       " 'Canvas Sneaker Sneakers For Men',\n",
       " 'Fashion Outdoor Canvas Casual Light Weight Lace-up Even...',\n",
       " 'CUBIC_1 Sneakers For Men',\n",
       " 'Sneakers For Men',\n",
       " 'Comfortable & Ultra Light Weight Sneaker Sneakers For M...',\n",
       " 'White Sneaker For Men Sneakers For Men',\n",
       " 'Running Shoes Stylish Comfortable Shoes For Men Sneaker...',\n",
       " 'Puma Rebound LayUp SL Sneakers For Men',\n",
       " 'SM-439 Sneakers For Men',\n",
       " \"Casual , Partywear Sneakers Shoes For Men's And Boys Wh...\",\n",
       " 'Sneakers For Men',\n",
       " 'Sneakers For Men',\n",
       " 'Sneakers For Men',\n",
       " 'Casual Sneakrs For Men Sneakers For Men',\n",
       " 'Luxury Fashionable casual sneaker shoes Sneakers For Me...',\n",
       " 'Casuals, Canvas, Partywear Sneakers For Men',\n",
       " 'Ontario Sneakers For Men',\n",
       " 'Sneakers For Men',\n",
       " 'New Fashion Outdoor Trendy Lightweight Casual,Canvas St...',\n",
       " 'Exclusive dancing shoe for boy�s, Funky dancing sneaker...',\n",
       " 'Sneakers For Men',\n",
       " 'Sneakers For Men',\n",
       " \"Men's Sneakers Walking Shoes - Lightweight Classic Whit...\",\n",
       " 'CUBIC_1 Sneakers For Men']"
      ]
     },
     "execution_count": 145,
     "metadata": {},
     "output_type": "execute_result"
    }
   ],
   "source": [
    "#extracting text from product description\n",
    "\n",
    "description =[]\n",
    "\n",
    "for i in prod_des:\n",
    "    description.append(i.text)\n",
    "description"
   ]
  },
  {
   "cell_type": "code",
   "execution_count": 146,
   "id": "0b901c32",
   "metadata": {},
   "outputs": [],
   "source": [
    "#extracting cost from the price tags\n",
    "\n",
    "price_tag=driver.find_elements_by_xpath('//div[@class=\"_30jeq3\"]')"
   ]
  },
  {
   "cell_type": "code",
   "execution_count": 147,
   "id": "f534a276",
   "metadata": {},
   "outputs": [
    {
     "data": {
      "text/plain": [
       "['₹299',\n",
       " '₹448',\n",
       " '₹499',\n",
       " '₹259',\n",
       " '₹449',\n",
       " '₹328',\n",
       " '₹499',\n",
       " '₹499',\n",
       " '₹259',\n",
       " '₹474',\n",
       " '₹549',\n",
       " '₹399',\n",
       " '₹499',\n",
       " '₹498',\n",
       " '₹428',\n",
       " '₹435',\n",
       " '₹499',\n",
       " '₹433',\n",
       " '₹296',\n",
       " '₹249',\n",
       " '₹449',\n",
       " '₹429',\n",
       " '₹385',\n",
       " '₹2,289',\n",
       " '₹849',\n",
       " '₹384',\n",
       " '₹498',\n",
       " '₹599',\n",
       " '₹680',\n",
       " '₹711',\n",
       " '₹404',\n",
       " '₹499',\n",
       " '₹1,224',\n",
       " '₹449',\n",
       " '₹435',\n",
       " '₹599',\n",
       " '₹379',\n",
       " '₹448',\n",
       " '₹569',\n",
       " '₹296']"
      ]
     },
     "execution_count": 147,
     "metadata": {},
     "output_type": "execute_result"
    }
   ],
   "source": [
    "#extracting text from the price tags\n",
    "\n",
    "price =[]\n",
    "\n",
    "for i in price_tag:\n",
    "    price.append(i.text)\n",
    "price"
   ]
  },
  {
   "cell_type": "code",
   "execution_count": 264,
   "id": "fa323fc7",
   "metadata": {},
   "outputs": [
    {
     "data": {
      "text/html": [
       "<div>\n",
       "<style scoped>\n",
       "    .dataframe tbody tr th:only-of-type {\n",
       "        vertical-align: middle;\n",
       "    }\n",
       "\n",
       "    .dataframe tbody tr th {\n",
       "        vertical-align: top;\n",
       "    }\n",
       "\n",
       "    .dataframe thead th {\n",
       "        text-align: right;\n",
       "    }\n",
       "</style>\n",
       "<table border=\"1\" class=\"dataframe\">\n",
       "  <thead>\n",
       "    <tr style=\"text-align: right;\">\n",
       "      <th></th>\n",
       "      <th>Brand</th>\n",
       "      <th>Description</th>\n",
       "      <th>Price</th>\n",
       "    </tr>\n",
       "  </thead>\n",
       "  <tbody>\n",
       "    <tr>\n",
       "      <th>0</th>\n",
       "      <td>ROZZETTA CRAFT</td>\n",
       "      <td>UV Protection, Gradient Retro Square Sunglasse...</td>\n",
       "      <td>₹499</td>\n",
       "    </tr>\n",
       "    <tr>\n",
       "      <th>1</th>\n",
       "      <td>VINCENT CHASE</td>\n",
       "      <td>by Lenskart Polarized, UV Protection Wayfarer ...</td>\n",
       "      <td>₹799</td>\n",
       "    </tr>\n",
       "    <tr>\n",
       "      <th>2</th>\n",
       "      <td>Fastrack</td>\n",
       "      <td>UV Protection Wayfarer Sunglasses (Free Size)</td>\n",
       "      <td>₹689</td>\n",
       "    </tr>\n",
       "    <tr>\n",
       "      <th>3</th>\n",
       "      <td>Elligator</td>\n",
       "      <td>UV Protection Round Sunglasses (54)</td>\n",
       "      <td>₹248</td>\n",
       "    </tr>\n",
       "    <tr>\n",
       "      <th>4</th>\n",
       "      <td>SUNBEE</td>\n",
       "      <td>UV Protection, Polarized Wayfarer Sunglasses (...</td>\n",
       "      <td>₹243</td>\n",
       "    </tr>\n",
       "    <tr>\n",
       "      <th>5</th>\n",
       "      <td>SRPM</td>\n",
       "      <td>UV Protection Wayfarer Sunglasses (50)</td>\n",
       "      <td>₹188</td>\n",
       "    </tr>\n",
       "    <tr>\n",
       "      <th>6</th>\n",
       "      <td>SHAAH COLLECTIONS</td>\n",
       "      <td>UV Protection, Polarized, Mirrored Rectangular...</td>\n",
       "      <td>₹181</td>\n",
       "    </tr>\n",
       "    <tr>\n",
       "      <th>7</th>\n",
       "      <td>Singco India</td>\n",
       "      <td>Gradient, Toughened Glass Lens, UV Protection ...</td>\n",
       "      <td>₹664</td>\n",
       "    </tr>\n",
       "    <tr>\n",
       "      <th>8</th>\n",
       "      <td>New Specs</td>\n",
       "      <td>UV Protection Rectangular Sunglasses (Free Size)</td>\n",
       "      <td>₹234</td>\n",
       "    </tr>\n",
       "    <tr>\n",
       "      <th>9</th>\n",
       "      <td>SHAAH COLLECTIONS</td>\n",
       "      <td>UV Protection, Polarized, Mirrored Rectangular...</td>\n",
       "      <td>₹165</td>\n",
       "    </tr>\n",
       "    <tr>\n",
       "      <th>10</th>\n",
       "      <td>PIRASO</td>\n",
       "      <td>UV Protection Aviator Sunglasses (54)</td>\n",
       "      <td>₹229</td>\n",
       "    </tr>\n",
       "    <tr>\n",
       "      <th>11</th>\n",
       "      <td>Singco India</td>\n",
       "      <td>UV Protection, Riding Glasses, Others Aviator,...</td>\n",
       "      <td>₹207</td>\n",
       "    </tr>\n",
       "    <tr>\n",
       "      <th>12</th>\n",
       "      <td>SUNBEE</td>\n",
       "      <td>UV Protection, Polarized, Mirrored Round Sungl...</td>\n",
       "      <td>₹271</td>\n",
       "    </tr>\n",
       "    <tr>\n",
       "      <th>13</th>\n",
       "      <td>kingsunglasses</td>\n",
       "      <td>UV Protection Round Sunglasses (54)</td>\n",
       "      <td>₹178</td>\n",
       "    </tr>\n",
       "    <tr>\n",
       "      <th>14</th>\n",
       "      <td>Fastrack</td>\n",
       "      <td>UV Protection Rectangular Sunglasses (Free Size)</td>\n",
       "      <td>₹607</td>\n",
       "    </tr>\n",
       "    <tr>\n",
       "      <th>15</th>\n",
       "      <td>VINCENT CHASE</td>\n",
       "      <td>by Lenskart Polarized, UV Protection Aviator S...</td>\n",
       "      <td>₹999</td>\n",
       "    </tr>\n",
       "    <tr>\n",
       "      <th>16</th>\n",
       "      <td>ROZZETTA CRAFT</td>\n",
       "      <td>Polarized, Night Vision, Riding Glasses Sports...</td>\n",
       "      <td>₹499</td>\n",
       "    </tr>\n",
       "    <tr>\n",
       "      <th>17</th>\n",
       "      <td>PHENOMENAL</td>\n",
       "      <td>UV Protection Retro Square Sunglasses (Free Size)</td>\n",
       "      <td>₹309</td>\n",
       "    </tr>\n",
       "    <tr>\n",
       "      <th>18</th>\n",
       "      <td>ROZZETTA CRAFT</td>\n",
       "      <td>UV Protection, Gradient Rectangular Sunglasses...</td>\n",
       "      <td>₹399</td>\n",
       "    </tr>\n",
       "    <tr>\n",
       "      <th>19</th>\n",
       "      <td>VINCENT CHASE</td>\n",
       "      <td>by Lenskart UV Protection Aviator Sunglasses (...</td>\n",
       "      <td>₹999</td>\n",
       "    </tr>\n",
       "  </tbody>\n",
       "</table>\n",
       "</div>"
      ],
      "text/plain": [
       "                Brand                                        Description Price\n",
       "0      ROZZETTA CRAFT  UV Protection, Gradient Retro Square Sunglasse...  ₹499\n",
       "1       VINCENT CHASE  by Lenskart Polarized, UV Protection Wayfarer ...  ₹799\n",
       "2            Fastrack      UV Protection Wayfarer Sunglasses (Free Size)  ₹689\n",
       "3           Elligator                UV Protection Round Sunglasses (54)  ₹248\n",
       "4              SUNBEE  UV Protection, Polarized Wayfarer Sunglasses (...  ₹243\n",
       "5                SRPM             UV Protection Wayfarer Sunglasses (50)  ₹188\n",
       "6   SHAAH COLLECTIONS  UV Protection, Polarized, Mirrored Rectangular...  ₹181\n",
       "7        Singco India  Gradient, Toughened Glass Lens, UV Protection ...  ₹664\n",
       "8           New Specs   UV Protection Rectangular Sunglasses (Free Size)  ₹234\n",
       "9   SHAAH COLLECTIONS  UV Protection, Polarized, Mirrored Rectangular...  ₹165\n",
       "10             PIRASO              UV Protection Aviator Sunglasses (54)  ₹229\n",
       "11       Singco India  UV Protection, Riding Glasses, Others Aviator,...  ₹207\n",
       "12             SUNBEE  UV Protection, Polarized, Mirrored Round Sungl...  ₹271\n",
       "13     kingsunglasses                UV Protection Round Sunglasses (54)  ₹178\n",
       "14           Fastrack   UV Protection Rectangular Sunglasses (Free Size)  ₹607\n",
       "15      VINCENT CHASE  by Lenskart Polarized, UV Protection Aviator S...  ₹999\n",
       "16     ROZZETTA CRAFT  Polarized, Night Vision, Riding Glasses Sports...  ₹499\n",
       "17         PHENOMENAL  UV Protection Retro Square Sunglasses (Free Size)  ₹309\n",
       "18     ROZZETTA CRAFT  UV Protection, Gradient Rectangular Sunglasses...  ₹399\n",
       "19      VINCENT CHASE  by Lenskart UV Protection Aviator Sunglasses (...  ₹999"
      ]
     },
     "execution_count": 264,
     "metadata": {},
     "output_type": "execute_result"
    }
   ],
   "source": [
    "sneakers = pd.DataFrame()\n",
    "sneakers [\"Brand\"] = company_name\n",
    "sneakers [\"Description\"] = description\n",
    "sneakers [\"Price\"] = price\n",
    "sneakers"
   ]
  },
  {
   "cell_type": "code",
   "execution_count": 152,
   "id": "50b3ade0",
   "metadata": {},
   "outputs": [
    {
     "data": {
      "text/plain": [
       "<selenium.webdriver.remote.webelement.WebElement (session=\"8980415ab509d49b738dcc29326954d5\", element=\"20f5682f-35fb-436c-a17b-e6ceb52aa82f\")>"
      ]
     },
     "execution_count": 152,
     "metadata": {},
     "output_type": "execute_result"
    }
   ],
   "source": [
    "#clicking the next page\n",
    "next_button = driver.find_element_by_xpath('/html/body/div[1]/div/div[3]/div[1]/div[2]/div[12]/div/div/nav/a[11]/span')\n",
    "next_button"
   ]
  },
  {
   "cell_type": "code",
   "execution_count": 154,
   "id": "b64150a5",
   "metadata": {},
   "outputs": [],
   "source": [
    "next_button.click()"
   ]
  },
  {
   "cell_type": "code",
   "execution_count": 155,
   "id": "8344d22c",
   "metadata": {},
   "outputs": [],
   "source": [
    "#extracting company name\n",
    "company_tags = driver.find_elements_by_xpath('//div[@class=\"_2WkVRV\"]')"
   ]
  },
  {
   "cell_type": "code",
   "execution_count": 156,
   "id": "c87d7296",
   "metadata": {},
   "outputs": [
    {
     "data": {
      "text/plain": [
       "['BIRDE',\n",
       " 'RODDICK SHOES',\n",
       " 'URBANBOX',\n",
       " 'Magnolia',\n",
       " 'Chevit',\n",
       " 'LE GREEM',\n",
       " 'SPARX',\n",
       " 'BRUTON',\n",
       " 'SEGA',\n",
       " 'PUMA',\n",
       " 'SPARX',\n",
       " 'WHITE WALKERS',\n",
       " 'Echor',\n",
       " 'India hub',\n",
       " 'Ardeo',\n",
       " 'PUMA',\n",
       " 'Bretton',\n",
       " 'Bond Street By Red Tape',\n",
       " 'KANEGGYE',\n",
       " 'Robbie jones']"
      ]
     },
     "execution_count": 156,
     "metadata": {},
     "output_type": "execute_result"
    }
   ],
   "source": [
    "#extracting text from company names\n",
    "\n",
    "company_name = []\n",
    "\n",
    "for i in company_tags[:20]:\n",
    "    company_name.append(i.text)\n",
    "company_name"
   ]
  },
  {
   "cell_type": "code",
   "execution_count": 157,
   "id": "e91ac2b0",
   "metadata": {},
   "outputs": [],
   "source": [
    "#Extracting product description\n",
    "\n",
    "prod_des = driver.find_elements_by_xpath('//a[contains(@title,\"Sneakers\")]')"
   ]
  },
  {
   "cell_type": "code",
   "execution_count": 158,
   "id": "8401b127",
   "metadata": {},
   "outputs": [
    {
     "data": {
      "text/plain": [
       "['Combo Pack of 2 Casual shoes Sneakers For Men',\n",
       " 'Fashion Outdoor Canvas Casual Light Weight Lace-up Even...',\n",
       " 'STYLISH-WHITE-9 Sneakers For Men',\n",
       " 'Sneakers For Men',\n",
       " 'Unique & Perfect Collection Combo Pack of 02 Shoes for ...',\n",
       " 'Comfortable & Smart Sneakers For Men',\n",
       " 'Casual Sneakers Sneakers For Men',\n",
       " 'Modern & Trendy Collection Combo Pack of 02 Shoes for M...',\n",
       " 'Sneakers For Men',\n",
       " 'Puma Wired Cage Sneakers For Men',\n",
       " 'SM-322 Sneakers For Men',\n",
       " 'Stylish & Trending Outdoor Walking Comfortable Sneakers...',\n",
       " \"Echor Men's Sneakers Fashion Lightweight Running Shoes ...\",\n",
       " 'luxury fashionable casual sneaker shoes Sneakers For Me...',\n",
       " 'Sneakers For Men',\n",
       " 'Rebound Future Evo Sneakers For Men',\n",
       " 'Classy Stylish Ayasa Sneakers Sneakers For Men',\n",
       " 'Sneakers For Men',\n",
       " 'Sneakers For Men',\n",
       " 'Casual Sneakers Black Shoes For Men Sneakers For Men']"
      ]
     },
     "execution_count": 158,
     "metadata": {},
     "output_type": "execute_result"
    }
   ],
   "source": [
    "#extracting text from product description\n",
    "\n",
    "description =[]\n",
    "\n",
    "for i in prod_des[:20]:\n",
    "    description.append(i.text)\n",
    "description"
   ]
  },
  {
   "cell_type": "code",
   "execution_count": 159,
   "id": "373dbb98",
   "metadata": {},
   "outputs": [],
   "source": [
    "#extracting cost from the price tags\n",
    "\n",
    "price_tag=driver.find_elements_by_xpath('//div[@class=\"_30jeq3\"]')"
   ]
  },
  {
   "cell_type": "code",
   "execution_count": 160,
   "id": "77252b87",
   "metadata": {},
   "outputs": [
    {
     "data": {
      "text/plain": [
       "['₹499',\n",
       " '₹424',\n",
       " '₹166',\n",
       " '₹472',\n",
       " '₹498',\n",
       " '₹449',\n",
       " '₹1,092',\n",
       " '₹473',\n",
       " '₹642',\n",
       " '₹1,610',\n",
       " '₹849',\n",
       " '₹599',\n",
       " '₹499',\n",
       " '₹449',\n",
       " '₹499',\n",
       " '₹3,220',\n",
       " '₹251',\n",
       " '₹1,259',\n",
       " '₹399',\n",
       " '₹451']"
      ]
     },
     "execution_count": 160,
     "metadata": {},
     "output_type": "execute_result"
    }
   ],
   "source": [
    "#extracting text from the price tags\n",
    "\n",
    "price =[]\n",
    "\n",
    "for i in price_tag[:20]:\n",
    "    price.append(i.text)\n",
    "price"
   ]
  },
  {
   "cell_type": "code",
   "execution_count": 263,
   "id": "af173761",
   "metadata": {},
   "outputs": [
    {
     "data": {
      "text/html": [
       "<div>\n",
       "<style scoped>\n",
       "    .dataframe tbody tr th:only-of-type {\n",
       "        vertical-align: middle;\n",
       "    }\n",
       "\n",
       "    .dataframe tbody tr th {\n",
       "        vertical-align: top;\n",
       "    }\n",
       "\n",
       "    .dataframe thead th {\n",
       "        text-align: right;\n",
       "    }\n",
       "</style>\n",
       "<table border=\"1\" class=\"dataframe\">\n",
       "  <thead>\n",
       "    <tr style=\"text-align: right;\">\n",
       "      <th></th>\n",
       "      <th>Brand</th>\n",
       "      <th>Description</th>\n",
       "      <th>Price</th>\n",
       "    </tr>\n",
       "  </thead>\n",
       "  <tbody>\n",
       "    <tr>\n",
       "      <th>0</th>\n",
       "      <td>ROZZETTA CRAFT</td>\n",
       "      <td>UV Protection, Gradient Retro Square Sunglasse...</td>\n",
       "      <td>₹499</td>\n",
       "    </tr>\n",
       "    <tr>\n",
       "      <th>1</th>\n",
       "      <td>VINCENT CHASE</td>\n",
       "      <td>by Lenskart Polarized, UV Protection Wayfarer ...</td>\n",
       "      <td>₹799</td>\n",
       "    </tr>\n",
       "    <tr>\n",
       "      <th>2</th>\n",
       "      <td>Fastrack</td>\n",
       "      <td>UV Protection Wayfarer Sunglasses (Free Size)</td>\n",
       "      <td>₹689</td>\n",
       "    </tr>\n",
       "    <tr>\n",
       "      <th>3</th>\n",
       "      <td>Elligator</td>\n",
       "      <td>UV Protection Round Sunglasses (54)</td>\n",
       "      <td>₹248</td>\n",
       "    </tr>\n",
       "    <tr>\n",
       "      <th>4</th>\n",
       "      <td>SUNBEE</td>\n",
       "      <td>UV Protection, Polarized Wayfarer Sunglasses (...</td>\n",
       "      <td>₹243</td>\n",
       "    </tr>\n",
       "    <tr>\n",
       "      <th>5</th>\n",
       "      <td>SRPM</td>\n",
       "      <td>UV Protection Wayfarer Sunglasses (50)</td>\n",
       "      <td>₹188</td>\n",
       "    </tr>\n",
       "    <tr>\n",
       "      <th>6</th>\n",
       "      <td>SHAAH COLLECTIONS</td>\n",
       "      <td>UV Protection, Polarized, Mirrored Rectangular...</td>\n",
       "      <td>₹181</td>\n",
       "    </tr>\n",
       "    <tr>\n",
       "      <th>7</th>\n",
       "      <td>Singco India</td>\n",
       "      <td>Gradient, Toughened Glass Lens, UV Protection ...</td>\n",
       "      <td>₹664</td>\n",
       "    </tr>\n",
       "    <tr>\n",
       "      <th>8</th>\n",
       "      <td>New Specs</td>\n",
       "      <td>UV Protection Rectangular Sunglasses (Free Size)</td>\n",
       "      <td>₹234</td>\n",
       "    </tr>\n",
       "    <tr>\n",
       "      <th>9</th>\n",
       "      <td>SHAAH COLLECTIONS</td>\n",
       "      <td>UV Protection, Polarized, Mirrored Rectangular...</td>\n",
       "      <td>₹165</td>\n",
       "    </tr>\n",
       "    <tr>\n",
       "      <th>10</th>\n",
       "      <td>PIRASO</td>\n",
       "      <td>UV Protection Aviator Sunglasses (54)</td>\n",
       "      <td>₹229</td>\n",
       "    </tr>\n",
       "    <tr>\n",
       "      <th>11</th>\n",
       "      <td>Singco India</td>\n",
       "      <td>UV Protection, Riding Glasses, Others Aviator,...</td>\n",
       "      <td>₹207</td>\n",
       "    </tr>\n",
       "    <tr>\n",
       "      <th>12</th>\n",
       "      <td>SUNBEE</td>\n",
       "      <td>UV Protection, Polarized, Mirrored Round Sungl...</td>\n",
       "      <td>₹271</td>\n",
       "    </tr>\n",
       "    <tr>\n",
       "      <th>13</th>\n",
       "      <td>kingsunglasses</td>\n",
       "      <td>UV Protection Round Sunglasses (54)</td>\n",
       "      <td>₹178</td>\n",
       "    </tr>\n",
       "    <tr>\n",
       "      <th>14</th>\n",
       "      <td>Fastrack</td>\n",
       "      <td>UV Protection Rectangular Sunglasses (Free Size)</td>\n",
       "      <td>₹607</td>\n",
       "    </tr>\n",
       "    <tr>\n",
       "      <th>15</th>\n",
       "      <td>VINCENT CHASE</td>\n",
       "      <td>by Lenskart Polarized, UV Protection Aviator S...</td>\n",
       "      <td>₹999</td>\n",
       "    </tr>\n",
       "    <tr>\n",
       "      <th>16</th>\n",
       "      <td>ROZZETTA CRAFT</td>\n",
       "      <td>Polarized, Night Vision, Riding Glasses Sports...</td>\n",
       "      <td>₹499</td>\n",
       "    </tr>\n",
       "    <tr>\n",
       "      <th>17</th>\n",
       "      <td>PHENOMENAL</td>\n",
       "      <td>UV Protection Retro Square Sunglasses (Free Size)</td>\n",
       "      <td>₹309</td>\n",
       "    </tr>\n",
       "    <tr>\n",
       "      <th>18</th>\n",
       "      <td>ROZZETTA CRAFT</td>\n",
       "      <td>UV Protection, Gradient Rectangular Sunglasses...</td>\n",
       "      <td>₹399</td>\n",
       "    </tr>\n",
       "    <tr>\n",
       "      <th>19</th>\n",
       "      <td>VINCENT CHASE</td>\n",
       "      <td>by Lenskart UV Protection Aviator Sunglasses (...</td>\n",
       "      <td>₹999</td>\n",
       "    </tr>\n",
       "  </tbody>\n",
       "</table>\n",
       "</div>"
      ],
      "text/plain": [
       "                Brand                                        Description Price\n",
       "0      ROZZETTA CRAFT  UV Protection, Gradient Retro Square Sunglasse...  ₹499\n",
       "1       VINCENT CHASE  by Lenskart Polarized, UV Protection Wayfarer ...  ₹799\n",
       "2            Fastrack      UV Protection Wayfarer Sunglasses (Free Size)  ₹689\n",
       "3           Elligator                UV Protection Round Sunglasses (54)  ₹248\n",
       "4              SUNBEE  UV Protection, Polarized Wayfarer Sunglasses (...  ₹243\n",
       "5                SRPM             UV Protection Wayfarer Sunglasses (50)  ₹188\n",
       "6   SHAAH COLLECTIONS  UV Protection, Polarized, Mirrored Rectangular...  ₹181\n",
       "7        Singco India  Gradient, Toughened Glass Lens, UV Protection ...  ₹664\n",
       "8           New Specs   UV Protection Rectangular Sunglasses (Free Size)  ₹234\n",
       "9   SHAAH COLLECTIONS  UV Protection, Polarized, Mirrored Rectangular...  ₹165\n",
       "10             PIRASO              UV Protection Aviator Sunglasses (54)  ₹229\n",
       "11       Singco India  UV Protection, Riding Glasses, Others Aviator,...  ₹207\n",
       "12             SUNBEE  UV Protection, Polarized, Mirrored Round Sungl...  ₹271\n",
       "13     kingsunglasses                UV Protection Round Sunglasses (54)  ₹178\n",
       "14           Fastrack   UV Protection Rectangular Sunglasses (Free Size)  ₹607\n",
       "15      VINCENT CHASE  by Lenskart Polarized, UV Protection Aviator S...  ₹999\n",
       "16     ROZZETTA CRAFT  Polarized, Night Vision, Riding Glasses Sports...  ₹499\n",
       "17         PHENOMENAL  UV Protection Retro Square Sunglasses (Free Size)  ₹309\n",
       "18     ROZZETTA CRAFT  UV Protection, Gradient Rectangular Sunglasses...  ₹399\n",
       "19      VINCENT CHASE  by Lenskart UV Protection Aviator Sunglasses (...  ₹999"
      ]
     },
     "execution_count": 263,
     "metadata": {},
     "output_type": "execute_result"
    }
   ],
   "source": [
    "sneakers = pd.DataFrame()\n",
    "sneakers [\"Brand\"] = company_name\n",
    "sneakers [\"Description\"] = description\n",
    "sneakers [\"Price\"] = price\n",
    "sneakers"
   ]
  },
  {
   "cell_type": "code",
   "execution_count": null,
   "id": "5500e4ce",
   "metadata": {},
   "outputs": [],
   "source": []
  },
  {
   "cell_type": "code",
   "execution_count": 162,
   "id": "bd16daeb",
   "metadata": {},
   "outputs": [],
   "source": [
    "### Question 7 ###\n",
    "\n",
    "#connecting to webdriver\n",
    "driver=webdriver.Chrome(r'C:\\Users\\GOD\\Desktop\\Flip ROBO\\chromedriver.exe')"
   ]
  },
  {
   "cell_type": "code",
   "execution_count": 163,
   "id": "718e9d7c",
   "metadata": {},
   "outputs": [],
   "source": [
    "url='https://www.myntra.com/shoes'\n",
    "driver.get(url)"
   ]
  },
  {
   "cell_type": "code",
   "execution_count": 164,
   "id": "9094513a",
   "metadata": {},
   "outputs": [],
   "source": [
    "## checking the price filter ###\n",
    "\n",
    "price_filter = driver.find_element_by_xpath('/html/body/div[2]/div/div[1]/main/div[3]/div[1]/section/div/div[5]/ul/li[2]/label')\n",
    "price_filter.click()"
   ]
  },
  {
   "cell_type": "code",
   "execution_count": 166,
   "id": "762046e1",
   "metadata": {},
   "outputs": [],
   "source": [
    "## checking the colcour filter ##\n",
    "\n",
    "color_filter = driver.find_element_by_xpath('/html/body/div[2]/div/div[1]/main/div[3]/div[1]/section/div/div[6]/ul/li[1]/label')\n",
    "color_filter.click()"
   ]
  },
  {
   "cell_type": "code",
   "execution_count": 168,
   "id": "34f1ecaf",
   "metadata": {},
   "outputs": [],
   "source": [
    "# extracting data from the name tag\n",
    "\n",
    "company_tag = driver.find_elements_by_xpath('//h3[contains(@class,\"product-brand\")]')"
   ]
  },
  {
   "cell_type": "code",
   "execution_count": 169,
   "id": "396eba27",
   "metadata": {},
   "outputs": [
    {
     "data": {
      "text/plain": [
       "['Nike',\n",
       " 'ALDO',\n",
       " 'Nike',\n",
       " 'Puma',\n",
       " 'Tommy Hilfiger',\n",
       " 'Puma',\n",
       " 'Puma',\n",
       " 'Puma',\n",
       " 'Puma',\n",
       " 'Tommy Hilfiger',\n",
       " 'Hush Puppies',\n",
       " 'PUMA Motorsport',\n",
       " 'New Balance',\n",
       " 'Skechers',\n",
       " 'Hush Puppies',\n",
       " 'RARE RABBIT',\n",
       " 'DAVINCHI',\n",
       " 'Puma',\n",
       " 'ASICS',\n",
       " 'RARE RABBIT',\n",
       " 'Tommy Hilfiger',\n",
       " 'Bugatti',\n",
       " 'New Balance',\n",
       " 'Hush Puppies',\n",
       " 'ASICS',\n",
       " 'ALDO',\n",
       " 'Xtep',\n",
       " 'Bugatti',\n",
       " 'Hush Puppies',\n",
       " 'Saint G',\n",
       " 'Columbia',\n",
       " 'Puma',\n",
       " 'Louis Philippe',\n",
       " 'Saint G',\n",
       " 'Royal Enfield',\n",
       " 'J.FONTINI',\n",
       " 'Bugatti',\n",
       " 'Hush Puppies',\n",
       " 'DAVINCHI',\n",
       " 'Tommy Hilfiger',\n",
       " 'DAVINCHI',\n",
       " 'Saint G',\n",
       " 'Clarks',\n",
       " 'Clarks',\n",
       " 'Saint G',\n",
       " 'Geox',\n",
       " 'Tommy Hilfiger',\n",
       " 'New Balance',\n",
       " 'Columbia',\n",
       " 'Geox']"
      ]
     },
     "execution_count": 169,
     "metadata": {},
     "output_type": "execute_result"
    }
   ],
   "source": [
    "#extracting text from the company tag\n",
    "\n",
    "company_name = []\n",
    "\n",
    "for i in company_tag:\n",
    "    company_name.append(i.text)\n",
    "company_name"
   ]
  },
  {
   "cell_type": "code",
   "execution_count": 171,
   "id": "3fe08dfe",
   "metadata": {},
   "outputs": [
    {
     "data": {
      "text/plain": [
       "50"
      ]
     },
     "execution_count": 171,
     "metadata": {},
     "output_type": "execute_result"
    }
   ],
   "source": [
    "# extracting the product description\n",
    "\n",
    "prod_des = driver.find_elements_by_xpath('//h4[contains(@class,\"product-product\")]')\n",
    "len(prod_des)"
   ]
  },
  {
   "cell_type": "code",
   "execution_count": 172,
   "id": "d4759309",
   "metadata": {},
   "outputs": [
    {
     "data": {
      "text/plain": [
       "['Men AIR ZOOM PEGASUS 38',\n",
       " 'Men Printed Sneakers',\n",
       " 'Men Blazer Court Skateboarding',\n",
       " 'Men Jamming 2.0 Running Shoes',\n",
       " 'Men Leather Sneakers',\n",
       " 'Men Running Shoes',\n",
       " 'Men Deviate Nitro Running Shoe',\n",
       " 'Men Magnify Nitro Running',\n",
       " 'Men Electrify Nitro Running',\n",
       " 'Men Leather Sneakers',\n",
       " 'Men Solid Leather Formal Slip-Ons',\n",
       " 'Unisex Ferrari Drift8 Sneakers',\n",
       " 'Men Woven Design Running Shoes',\n",
       " 'Men Go Run Hyper Burst Running',\n",
       " 'Men Perforations Leather Slip-On Sneakers',\n",
       " 'Men Leather Slip-On Sneakers',\n",
       " 'Men Textured Formal Leather Loafers',\n",
       " 'Men Training or Gym Shoes',\n",
       " 'Women Running Shoes',\n",
       " 'Men Leather Flat Boots',\n",
       " 'Leather Sandals',\n",
       " 'Men Black Walking Shoes',\n",
       " 'Men Woven Design Running Shoes',\n",
       " 'Men Solid Formal Slip-Ons',\n",
       " 'Men Colourblocked PU Sneakers',\n",
       " 'Wedge Sandals',\n",
       " 'Men Running Shoes',\n",
       " 'Men Walking Shoes',\n",
       " 'Men Solid Leather Formal Derbys',\n",
       " 'Leather Block Heeled Boots',\n",
       " 'Women REDMOND V2 TrekkingShoe',\n",
       " 'Women Eternity Nitro Running',\n",
       " 'Men Leather Formal Slip-Ons',\n",
       " 'Men Mid-Top Chelsea Boots',\n",
       " 'Cabo WP Riding Boots',\n",
       " 'Men Textured Leather Loafers',\n",
       " 'Men Textured Leather High-Top Flat Boots',\n",
       " 'Men Formal Derbys',\n",
       " 'Ustraa black',\n",
       " 'Women ELEVATED Leather Sneaker',\n",
       " 'Men Solid Leather Formal Loafers',\n",
       " 'Women Leather Heeled Boots',\n",
       " 'Men Solid Leather Formal Brogues',\n",
       " 'Men Solid Leather Formal Loafers',\n",
       " 'Embellished Leather Block Heeled Boots',\n",
       " 'Women Leather Loafers',\n",
       " 'Women CLEAT Textured Sneakers',\n",
       " 'Women Woven Running Shoes',\n",
       " 'Men FACET OUTDRY Trekking Shoe',\n",
       " 'Men Leather Driving Shoes']"
      ]
     },
     "execution_count": 172,
     "metadata": {},
     "output_type": "execute_result"
    }
   ],
   "source": [
    "# extracting data from the description\n",
    "\n",
    "description =[]\n",
    "\n",
    "for i in prod_des:\n",
    "    description.append(i.text)\n",
    "description"
   ]
  },
  {
   "cell_type": "code",
   "execution_count": 174,
   "id": "052dd604",
   "metadata": {},
   "outputs": [
    {
     "data": {
      "text/plain": [
       "50"
      ]
     },
     "execution_count": 174,
     "metadata": {},
     "output_type": "execute_result"
    }
   ],
   "source": [
    "#extracting cost details\n",
    "\n",
    "cost_tag= driver.find_elements_by_xpath('//div [contains(@class,\"product-price\")]')\n",
    "len(cost_tag)"
   ]
  },
  {
   "cell_type": "code",
   "execution_count": 175,
   "id": "04d05bf1",
   "metadata": {},
   "outputs": [
    {
     "data": {
      "text/plain": [
       "['Rs. 9770Rs. 11495(15% OFF)',\n",
       " 'Rs. 9099Rs. 12999(30% OFF)',\n",
       " 'Rs. 7495',\n",
       " 'Rs. 12999',\n",
       " 'Rs. 7999',\n",
       " 'Rs. 12999',\n",
       " 'Rs. 10499Rs. 14999(30% OFF)',\n",
       " 'Rs. 7799Rs. 12999(40% OFF)',\n",
       " 'Rs. 9999',\n",
       " 'Rs. 7999',\n",
       " 'Rs. 8999',\n",
       " 'Rs. 7999',\n",
       " 'Rs. 7999Rs. 9999(20% OFF)',\n",
       " 'Rs. 7224Rs. 8499(15% OFF)',\n",
       " 'Rs. 7999',\n",
       " 'Rs. 7999',\n",
       " 'Rs. 8990',\n",
       " 'Rs. 7999',\n",
       " 'Rs. 7999',\n",
       " 'Rs. 7999Rs. 9999(20% OFF)',\n",
       " 'Rs. 7599',\n",
       " 'Rs. 7199Rs. 8999(20% OFF)',\n",
       " 'Rs. 8799Rs. 10999(20% OFF)',\n",
       " 'Rs. 9999',\n",
       " 'Rs. 9999',\n",
       " 'Rs. 7999',\n",
       " 'Rs. 7699',\n",
       " 'Rs. 7199Rs. 8999(20% OFF)',\n",
       " 'Rs. 9999',\n",
       " 'Rs. 9265Rs. 10900(15% OFF)',\n",
       " 'Rs. 7999',\n",
       " 'Rs. 7149Rs. 12999(45% OFF)',\n",
       " 'Rs. 7394Rs. 8499(13% OFF)',\n",
       " 'Rs. 10500Rs. 10900(Rs. 400 OFF)',\n",
       " 'Rs. 8500',\n",
       " 'Rs. 8490',\n",
       " 'Rs. 8399Rs. 11999(30% OFF)',\n",
       " 'Rs. 9999',\n",
       " 'Rs. 8990',\n",
       " 'Rs. 7219Rs. 7599(5% OFF)',\n",
       " 'Rs. 8490',\n",
       " 'Rs. 11473Rs. 14900(23% OFF)',\n",
       " 'Rs. 7999',\n",
       " 'Rs. 7999',\n",
       " 'Rs. 7869Rs. 12900(39% OFF)',\n",
       " 'Rs. 7999',\n",
       " 'Rs. 7739Rs. 8599(10% OFF)',\n",
       " 'Rs. 7799Rs. 12999(40% OFF)',\n",
       " 'Rs. 12999',\n",
       " 'Rs. 9499']"
      ]
     },
     "execution_count": 175,
     "metadata": {},
     "output_type": "execute_result"
    }
   ],
   "source": [
    "#extracting text from cost details\n",
    "\n",
    "price = []\n",
    "\n",
    "for i in cost_tag:\n",
    "    price.append(i.text)\n",
    "price"
   ]
  },
  {
   "cell_type": "code",
   "execution_count": 176,
   "id": "db3176df",
   "metadata": {},
   "outputs": [
    {
     "data": {
      "text/html": [
       "<div>\n",
       "<style scoped>\n",
       "    .dataframe tbody tr th:only-of-type {\n",
       "        vertical-align: middle;\n",
       "    }\n",
       "\n",
       "    .dataframe tbody tr th {\n",
       "        vertical-align: top;\n",
       "    }\n",
       "\n",
       "    .dataframe thead th {\n",
       "        text-align: right;\n",
       "    }\n",
       "</style>\n",
       "<table border=\"1\" class=\"dataframe\">\n",
       "  <thead>\n",
       "    <tr style=\"text-align: right;\">\n",
       "      <th></th>\n",
       "      <th>Comppany Name</th>\n",
       "      <th>Product Description</th>\n",
       "      <th>Price</th>\n",
       "    </tr>\n",
       "  </thead>\n",
       "  <tbody>\n",
       "    <tr>\n",
       "      <th>0</th>\n",
       "      <td>Nike</td>\n",
       "      <td>Men AIR ZOOM PEGASUS 38</td>\n",
       "      <td>Rs. 9770Rs. 11495(15% OFF)</td>\n",
       "    </tr>\n",
       "    <tr>\n",
       "      <th>1</th>\n",
       "      <td>ALDO</td>\n",
       "      <td>Men Printed Sneakers</td>\n",
       "      <td>Rs. 9099Rs. 12999(30% OFF)</td>\n",
       "    </tr>\n",
       "    <tr>\n",
       "      <th>2</th>\n",
       "      <td>Nike</td>\n",
       "      <td>Men Blazer Court Skateboarding</td>\n",
       "      <td>Rs. 7495</td>\n",
       "    </tr>\n",
       "    <tr>\n",
       "      <th>3</th>\n",
       "      <td>Puma</td>\n",
       "      <td>Men Jamming 2.0 Running Shoes</td>\n",
       "      <td>Rs. 12999</td>\n",
       "    </tr>\n",
       "    <tr>\n",
       "      <th>4</th>\n",
       "      <td>Tommy Hilfiger</td>\n",
       "      <td>Men Leather Sneakers</td>\n",
       "      <td>Rs. 7999</td>\n",
       "    </tr>\n",
       "    <tr>\n",
       "      <th>5</th>\n",
       "      <td>Puma</td>\n",
       "      <td>Men Running Shoes</td>\n",
       "      <td>Rs. 12999</td>\n",
       "    </tr>\n",
       "    <tr>\n",
       "      <th>6</th>\n",
       "      <td>Puma</td>\n",
       "      <td>Men Deviate Nitro Running Shoe</td>\n",
       "      <td>Rs. 10499Rs. 14999(30% OFF)</td>\n",
       "    </tr>\n",
       "    <tr>\n",
       "      <th>7</th>\n",
       "      <td>Puma</td>\n",
       "      <td>Men Magnify Nitro Running</td>\n",
       "      <td>Rs. 7799Rs. 12999(40% OFF)</td>\n",
       "    </tr>\n",
       "    <tr>\n",
       "      <th>8</th>\n",
       "      <td>Puma</td>\n",
       "      <td>Men Electrify Nitro Running</td>\n",
       "      <td>Rs. 9999</td>\n",
       "    </tr>\n",
       "    <tr>\n",
       "      <th>9</th>\n",
       "      <td>Tommy Hilfiger</td>\n",
       "      <td>Men Leather Sneakers</td>\n",
       "      <td>Rs. 7999</td>\n",
       "    </tr>\n",
       "    <tr>\n",
       "      <th>10</th>\n",
       "      <td>Hush Puppies</td>\n",
       "      <td>Men Solid Leather Formal Slip-Ons</td>\n",
       "      <td>Rs. 8999</td>\n",
       "    </tr>\n",
       "    <tr>\n",
       "      <th>11</th>\n",
       "      <td>PUMA Motorsport</td>\n",
       "      <td>Unisex Ferrari Drift8 Sneakers</td>\n",
       "      <td>Rs. 7999</td>\n",
       "    </tr>\n",
       "    <tr>\n",
       "      <th>12</th>\n",
       "      <td>New Balance</td>\n",
       "      <td>Men Woven Design Running Shoes</td>\n",
       "      <td>Rs. 7999Rs. 9999(20% OFF)</td>\n",
       "    </tr>\n",
       "    <tr>\n",
       "      <th>13</th>\n",
       "      <td>Skechers</td>\n",
       "      <td>Men Go Run Hyper Burst Running</td>\n",
       "      <td>Rs. 7224Rs. 8499(15% OFF)</td>\n",
       "    </tr>\n",
       "    <tr>\n",
       "      <th>14</th>\n",
       "      <td>Hush Puppies</td>\n",
       "      <td>Men Perforations Leather Slip-On Sneakers</td>\n",
       "      <td>Rs. 7999</td>\n",
       "    </tr>\n",
       "    <tr>\n",
       "      <th>15</th>\n",
       "      <td>RARE RABBIT</td>\n",
       "      <td>Men Leather Slip-On Sneakers</td>\n",
       "      <td>Rs. 7999</td>\n",
       "    </tr>\n",
       "    <tr>\n",
       "      <th>16</th>\n",
       "      <td>DAVINCHI</td>\n",
       "      <td>Men Textured Formal Leather Loafers</td>\n",
       "      <td>Rs. 8990</td>\n",
       "    </tr>\n",
       "    <tr>\n",
       "      <th>17</th>\n",
       "      <td>Puma</td>\n",
       "      <td>Men Training or Gym Shoes</td>\n",
       "      <td>Rs. 7999</td>\n",
       "    </tr>\n",
       "    <tr>\n",
       "      <th>18</th>\n",
       "      <td>ASICS</td>\n",
       "      <td>Women Running Shoes</td>\n",
       "      <td>Rs. 7999</td>\n",
       "    </tr>\n",
       "    <tr>\n",
       "      <th>19</th>\n",
       "      <td>RARE RABBIT</td>\n",
       "      <td>Men Leather Flat Boots</td>\n",
       "      <td>Rs. 7999Rs. 9999(20% OFF)</td>\n",
       "    </tr>\n",
       "    <tr>\n",
       "      <th>20</th>\n",
       "      <td>Tommy Hilfiger</td>\n",
       "      <td>Leather Sandals</td>\n",
       "      <td>Rs. 7599</td>\n",
       "    </tr>\n",
       "    <tr>\n",
       "      <th>21</th>\n",
       "      <td>Bugatti</td>\n",
       "      <td>Men Black Walking Shoes</td>\n",
       "      <td>Rs. 7199Rs. 8999(20% OFF)</td>\n",
       "    </tr>\n",
       "    <tr>\n",
       "      <th>22</th>\n",
       "      <td>New Balance</td>\n",
       "      <td>Men Woven Design Running Shoes</td>\n",
       "      <td>Rs. 8799Rs. 10999(20% OFF)</td>\n",
       "    </tr>\n",
       "    <tr>\n",
       "      <th>23</th>\n",
       "      <td>Hush Puppies</td>\n",
       "      <td>Men Solid Formal Slip-Ons</td>\n",
       "      <td>Rs. 9999</td>\n",
       "    </tr>\n",
       "    <tr>\n",
       "      <th>24</th>\n",
       "      <td>ASICS</td>\n",
       "      <td>Men Colourblocked PU Sneakers</td>\n",
       "      <td>Rs. 9999</td>\n",
       "    </tr>\n",
       "    <tr>\n",
       "      <th>25</th>\n",
       "      <td>ALDO</td>\n",
       "      <td>Wedge Sandals</td>\n",
       "      <td>Rs. 7999</td>\n",
       "    </tr>\n",
       "    <tr>\n",
       "      <th>26</th>\n",
       "      <td>Xtep</td>\n",
       "      <td>Men Running Shoes</td>\n",
       "      <td>Rs. 7699</td>\n",
       "    </tr>\n",
       "    <tr>\n",
       "      <th>27</th>\n",
       "      <td>Bugatti</td>\n",
       "      <td>Men Walking Shoes</td>\n",
       "      <td>Rs. 7199Rs. 8999(20% OFF)</td>\n",
       "    </tr>\n",
       "    <tr>\n",
       "      <th>28</th>\n",
       "      <td>Hush Puppies</td>\n",
       "      <td>Men Solid Leather Formal Derbys</td>\n",
       "      <td>Rs. 9999</td>\n",
       "    </tr>\n",
       "    <tr>\n",
       "      <th>29</th>\n",
       "      <td>Saint G</td>\n",
       "      <td>Leather Block Heeled Boots</td>\n",
       "      <td>Rs. 9265Rs. 10900(15% OFF)</td>\n",
       "    </tr>\n",
       "    <tr>\n",
       "      <th>30</th>\n",
       "      <td>Columbia</td>\n",
       "      <td>Women REDMOND V2 TrekkingShoe</td>\n",
       "      <td>Rs. 7999</td>\n",
       "    </tr>\n",
       "    <tr>\n",
       "      <th>31</th>\n",
       "      <td>Puma</td>\n",
       "      <td>Women Eternity Nitro Running</td>\n",
       "      <td>Rs. 7149Rs. 12999(45% OFF)</td>\n",
       "    </tr>\n",
       "    <tr>\n",
       "      <th>32</th>\n",
       "      <td>Louis Philippe</td>\n",
       "      <td>Men Leather Formal Slip-Ons</td>\n",
       "      <td>Rs. 7394Rs. 8499(13% OFF)</td>\n",
       "    </tr>\n",
       "    <tr>\n",
       "      <th>33</th>\n",
       "      <td>Saint G</td>\n",
       "      <td>Men Mid-Top Chelsea Boots</td>\n",
       "      <td>Rs. 10500Rs. 10900(Rs. 400 OFF)</td>\n",
       "    </tr>\n",
       "    <tr>\n",
       "      <th>34</th>\n",
       "      <td>Royal Enfield</td>\n",
       "      <td>Cabo WP Riding Boots</td>\n",
       "      <td>Rs. 8500</td>\n",
       "    </tr>\n",
       "    <tr>\n",
       "      <th>35</th>\n",
       "      <td>J.FONTINI</td>\n",
       "      <td>Men Textured Leather Loafers</td>\n",
       "      <td>Rs. 8490</td>\n",
       "    </tr>\n",
       "    <tr>\n",
       "      <th>36</th>\n",
       "      <td>Bugatti</td>\n",
       "      <td>Men Textured Leather High-Top Flat Boots</td>\n",
       "      <td>Rs. 8399Rs. 11999(30% OFF)</td>\n",
       "    </tr>\n",
       "    <tr>\n",
       "      <th>37</th>\n",
       "      <td>Hush Puppies</td>\n",
       "      <td>Men Formal Derbys</td>\n",
       "      <td>Rs. 9999</td>\n",
       "    </tr>\n",
       "    <tr>\n",
       "      <th>38</th>\n",
       "      <td>DAVINCHI</td>\n",
       "      <td>Ustraa black</td>\n",
       "      <td>Rs. 8990</td>\n",
       "    </tr>\n",
       "    <tr>\n",
       "      <th>39</th>\n",
       "      <td>Tommy Hilfiger</td>\n",
       "      <td>Women ELEVATED Leather Sneaker</td>\n",
       "      <td>Rs. 7219Rs. 7599(5% OFF)</td>\n",
       "    </tr>\n",
       "    <tr>\n",
       "      <th>40</th>\n",
       "      <td>DAVINCHI</td>\n",
       "      <td>Men Solid Leather Formal Loafers</td>\n",
       "      <td>Rs. 8490</td>\n",
       "    </tr>\n",
       "    <tr>\n",
       "      <th>41</th>\n",
       "      <td>Saint G</td>\n",
       "      <td>Women Leather Heeled Boots</td>\n",
       "      <td>Rs. 11473Rs. 14900(23% OFF)</td>\n",
       "    </tr>\n",
       "    <tr>\n",
       "      <th>42</th>\n",
       "      <td>Clarks</td>\n",
       "      <td>Men Solid Leather Formal Brogues</td>\n",
       "      <td>Rs. 7999</td>\n",
       "    </tr>\n",
       "    <tr>\n",
       "      <th>43</th>\n",
       "      <td>Clarks</td>\n",
       "      <td>Men Solid Leather Formal Loafers</td>\n",
       "      <td>Rs. 7999</td>\n",
       "    </tr>\n",
       "    <tr>\n",
       "      <th>44</th>\n",
       "      <td>Saint G</td>\n",
       "      <td>Embellished Leather Block Heeled Boots</td>\n",
       "      <td>Rs. 7869Rs. 12900(39% OFF)</td>\n",
       "    </tr>\n",
       "    <tr>\n",
       "      <th>45</th>\n",
       "      <td>Geox</td>\n",
       "      <td>Women Leather Loafers</td>\n",
       "      <td>Rs. 7999</td>\n",
       "    </tr>\n",
       "    <tr>\n",
       "      <th>46</th>\n",
       "      <td>Tommy Hilfiger</td>\n",
       "      <td>Women CLEAT Textured Sneakers</td>\n",
       "      <td>Rs. 7739Rs. 8599(10% OFF)</td>\n",
       "    </tr>\n",
       "    <tr>\n",
       "      <th>47</th>\n",
       "      <td>New Balance</td>\n",
       "      <td>Women Woven Running Shoes</td>\n",
       "      <td>Rs. 7799Rs. 12999(40% OFF)</td>\n",
       "    </tr>\n",
       "    <tr>\n",
       "      <th>48</th>\n",
       "      <td>Columbia</td>\n",
       "      <td>Men FACET OUTDRY Trekking Shoe</td>\n",
       "      <td>Rs. 12999</td>\n",
       "    </tr>\n",
       "    <tr>\n",
       "      <th>49</th>\n",
       "      <td>Geox</td>\n",
       "      <td>Men Leather Driving Shoes</td>\n",
       "      <td>Rs. 9499</td>\n",
       "    </tr>\n",
       "  </tbody>\n",
       "</table>\n",
       "</div>"
      ],
      "text/plain": [
       "      Comppany Name                        Product Description  \\\n",
       "0              Nike                    Men AIR ZOOM PEGASUS 38   \n",
       "1              ALDO                       Men Printed Sneakers   \n",
       "2              Nike             Men Blazer Court Skateboarding   \n",
       "3              Puma              Men Jamming 2.0 Running Shoes   \n",
       "4    Tommy Hilfiger                       Men Leather Sneakers   \n",
       "5              Puma                          Men Running Shoes   \n",
       "6              Puma             Men Deviate Nitro Running Shoe   \n",
       "7              Puma                  Men Magnify Nitro Running   \n",
       "8              Puma                Men Electrify Nitro Running   \n",
       "9    Tommy Hilfiger                       Men Leather Sneakers   \n",
       "10     Hush Puppies          Men Solid Leather Formal Slip-Ons   \n",
       "11  PUMA Motorsport             Unisex Ferrari Drift8 Sneakers   \n",
       "12      New Balance             Men Woven Design Running Shoes   \n",
       "13         Skechers             Men Go Run Hyper Burst Running   \n",
       "14     Hush Puppies  Men Perforations Leather Slip-On Sneakers   \n",
       "15      RARE RABBIT               Men Leather Slip-On Sneakers   \n",
       "16         DAVINCHI        Men Textured Formal Leather Loafers   \n",
       "17             Puma                  Men Training or Gym Shoes   \n",
       "18            ASICS                        Women Running Shoes   \n",
       "19      RARE RABBIT                     Men Leather Flat Boots   \n",
       "20   Tommy Hilfiger                            Leather Sandals   \n",
       "21          Bugatti                    Men Black Walking Shoes   \n",
       "22      New Balance             Men Woven Design Running Shoes   \n",
       "23     Hush Puppies                  Men Solid Formal Slip-Ons   \n",
       "24            ASICS              Men Colourblocked PU Sneakers   \n",
       "25             ALDO                              Wedge Sandals   \n",
       "26             Xtep                          Men Running Shoes   \n",
       "27          Bugatti                          Men Walking Shoes   \n",
       "28     Hush Puppies            Men Solid Leather Formal Derbys   \n",
       "29          Saint G                 Leather Block Heeled Boots   \n",
       "30         Columbia              Women REDMOND V2 TrekkingShoe   \n",
       "31             Puma               Women Eternity Nitro Running   \n",
       "32   Louis Philippe                Men Leather Formal Slip-Ons   \n",
       "33          Saint G                  Men Mid-Top Chelsea Boots   \n",
       "34    Royal Enfield                       Cabo WP Riding Boots   \n",
       "35        J.FONTINI               Men Textured Leather Loafers   \n",
       "36          Bugatti   Men Textured Leather High-Top Flat Boots   \n",
       "37     Hush Puppies                          Men Formal Derbys   \n",
       "38         DAVINCHI                               Ustraa black   \n",
       "39   Tommy Hilfiger             Women ELEVATED Leather Sneaker   \n",
       "40         DAVINCHI           Men Solid Leather Formal Loafers   \n",
       "41          Saint G                 Women Leather Heeled Boots   \n",
       "42           Clarks           Men Solid Leather Formal Brogues   \n",
       "43           Clarks           Men Solid Leather Formal Loafers   \n",
       "44          Saint G     Embellished Leather Block Heeled Boots   \n",
       "45             Geox                      Women Leather Loafers   \n",
       "46   Tommy Hilfiger              Women CLEAT Textured Sneakers   \n",
       "47      New Balance                  Women Woven Running Shoes   \n",
       "48         Columbia             Men FACET OUTDRY Trekking Shoe   \n",
       "49             Geox                  Men Leather Driving Shoes   \n",
       "\n",
       "                              Price  \n",
       "0        Rs. 9770Rs. 11495(15% OFF)  \n",
       "1        Rs. 9099Rs. 12999(30% OFF)  \n",
       "2                          Rs. 7495  \n",
       "3                         Rs. 12999  \n",
       "4                          Rs. 7999  \n",
       "5                         Rs. 12999  \n",
       "6       Rs. 10499Rs. 14999(30% OFF)  \n",
       "7        Rs. 7799Rs. 12999(40% OFF)  \n",
       "8                          Rs. 9999  \n",
       "9                          Rs. 7999  \n",
       "10                         Rs. 8999  \n",
       "11                         Rs. 7999  \n",
       "12        Rs. 7999Rs. 9999(20% OFF)  \n",
       "13        Rs. 7224Rs. 8499(15% OFF)  \n",
       "14                         Rs. 7999  \n",
       "15                         Rs. 7999  \n",
       "16                         Rs. 8990  \n",
       "17                         Rs. 7999  \n",
       "18                         Rs. 7999  \n",
       "19        Rs. 7999Rs. 9999(20% OFF)  \n",
       "20                         Rs. 7599  \n",
       "21        Rs. 7199Rs. 8999(20% OFF)  \n",
       "22       Rs. 8799Rs. 10999(20% OFF)  \n",
       "23                         Rs. 9999  \n",
       "24                         Rs. 9999  \n",
       "25                         Rs. 7999  \n",
       "26                         Rs. 7699  \n",
       "27        Rs. 7199Rs. 8999(20% OFF)  \n",
       "28                         Rs. 9999  \n",
       "29       Rs. 9265Rs. 10900(15% OFF)  \n",
       "30                         Rs. 7999  \n",
       "31       Rs. 7149Rs. 12999(45% OFF)  \n",
       "32        Rs. 7394Rs. 8499(13% OFF)  \n",
       "33  Rs. 10500Rs. 10900(Rs. 400 OFF)  \n",
       "34                         Rs. 8500  \n",
       "35                         Rs. 8490  \n",
       "36       Rs. 8399Rs. 11999(30% OFF)  \n",
       "37                         Rs. 9999  \n",
       "38                         Rs. 8990  \n",
       "39         Rs. 7219Rs. 7599(5% OFF)  \n",
       "40                         Rs. 8490  \n",
       "41      Rs. 11473Rs. 14900(23% OFF)  \n",
       "42                         Rs. 7999  \n",
       "43                         Rs. 7999  \n",
       "44       Rs. 7869Rs. 12900(39% OFF)  \n",
       "45                         Rs. 7999  \n",
       "46        Rs. 7739Rs. 8599(10% OFF)  \n",
       "47       Rs. 7799Rs. 12999(40% OFF)  \n",
       "48                        Rs. 12999  \n",
       "49                         Rs. 9499  "
      ]
     },
     "execution_count": 176,
     "metadata": {},
     "output_type": "execute_result"
    }
   ],
   "source": [
    "blacksneakers = pd.DataFrame()\n",
    "blacksneakers [\"Comppany Name\"] = company_name\n",
    "blacksneakers [\"Product Description\"] = description\n",
    "blacksneakers [\"Price\"] = price\n",
    "blacksneakers"
   ]
  },
  {
   "cell_type": "code",
   "execution_count": 177,
   "id": "7763712c",
   "metadata": {},
   "outputs": [],
   "source": [
    "#clicking the next button \n",
    "\n",
    "next_button = driver.find_element_by_xpath('/html/body/div[2]/div/div[1]/main/div[3]/div[2]/div/div[2]/section/div[2]/ul/li[12]')\n",
    "next_button.click()"
   ]
  },
  {
   "cell_type": "code",
   "execution_count": 178,
   "id": "1eff23d6",
   "metadata": {},
   "outputs": [],
   "source": [
    "# extracting data from the name tag\n",
    "\n",
    "company_tag = driver.find_elements_by_xpath('//h3[contains(@class,\"product-brand\")]')"
   ]
  },
  {
   "cell_type": "code",
   "execution_count": 179,
   "id": "8c2dd340",
   "metadata": {},
   "outputs": [
    {
     "data": {
      "text/plain": [
       "['Geox',\n",
       " 'Cole Haan',\n",
       " 'Columbia',\n",
       " 'New Balance',\n",
       " 'J.FONTINI',\n",
       " 'Hush Puppies',\n",
       " 'Clarks',\n",
       " 'J.FONTINI',\n",
       " 'Saint G',\n",
       " 'Heel & Buckle London',\n",
       " 'J.FONTINI',\n",
       " 'Hush Puppies',\n",
       " 'J.FONTINI',\n",
       " 'Saint G',\n",
       " 'J.FONTINI',\n",
       " 'Geox',\n",
       " 'Geox',\n",
       " 'New Balance',\n",
       " 'J.FONTINI',\n",
       " 'Geox',\n",
       " 'Geox',\n",
       " 'Bugatti',\n",
       " 'Clarks',\n",
       " 'DAVINCHI',\n",
       " 'DAVINCHI',\n",
       " 'J.FONTINI',\n",
       " 'DAVINCHI',\n",
       " 'DAVINCHI',\n",
       " 'Pavers England',\n",
       " 'Saint G',\n",
       " 'Saint G',\n",
       " 'Saint G',\n",
       " 'Cole Haan',\n",
       " 'Geox',\n",
       " 'Cole Haan',\n",
       " 'Pavers England',\n",
       " 'Cole Haan',\n",
       " 'Saint G',\n",
       " 'Saint G',\n",
       " 'Saint G',\n",
       " 'Pavers England',\n",
       " 'Saint G',\n",
       " 'ALDO',\n",
       " 'ASICS',\n",
       " 'Heel & Buckle London',\n",
       " 'Clarks',\n",
       " 'Heel & Buckle London',\n",
       " 'Saint G',\n",
       " 'ECCO',\n",
       " 'Saint G']"
      ]
     },
     "execution_count": 179,
     "metadata": {},
     "output_type": "execute_result"
    }
   ],
   "source": [
    "#extracting text from the company tag\n",
    "\n",
    "company_name = []\n",
    "\n",
    "for i in company_tag:\n",
    "    company_name.append(i.text)\n",
    "company_name"
   ]
  },
  {
   "cell_type": "code",
   "execution_count": 180,
   "id": "a145607f",
   "metadata": {},
   "outputs": [
    {
     "data": {
      "text/plain": [
       "50"
      ]
     },
     "execution_count": 180,
     "metadata": {},
     "output_type": "execute_result"
    }
   ],
   "source": [
    "# extracting the product description\n",
    "\n",
    "prod_des = driver.find_elements_by_xpath('//h4[contains(@class,\"product-product\")]')\n",
    "len(prod_des)"
   ]
  },
  {
   "cell_type": "code",
   "execution_count": 181,
   "id": "f9e1335a",
   "metadata": {},
   "outputs": [
    {
     "data": {
      "text/plain": [
       "['Men Leather Driving Shoes',\n",
       " 'Men GENERATION ZEROGRAND STITCHLITE',\n",
       " 'PEAKFREAK OUTDRY Trekking Shoe',\n",
       " 'Women Woven Running Shoes',\n",
       " 'Men Textured Leather Loafers',\n",
       " 'Men Leather Derbys',\n",
       " 'Men Leather Formal Loafers',\n",
       " 'Men Solid Loafers',\n",
       " 'Striped Suede Flatform Heeled Boots',\n",
       " 'Men Formal Leather Derby',\n",
       " 'Men Textured Leather Loafers',\n",
       " 'Men Solid Leather Formal Slip-Ons',\n",
       " 'Men Black Leather Loafers',\n",
       " 'Women Leather Mules',\n",
       " 'Men Leather Formal Loafers',\n",
       " 'Women Leather Pumps',\n",
       " 'Women Solid Leather Pumps',\n",
       " 'Men Fuelcell Running Shoes',\n",
       " 'Men Leather Formal Loafers',\n",
       " 'Women Solid Leather Pumps',\n",
       " 'Men Leather Driving Shoes',\n",
       " 'Men Sneakers',\n",
       " 'Men Solid Formal Leather Derbys',\n",
       " 'Solid Slip On Shoes',\n",
       " 'Men Formal Leather Slip-Ons',\n",
       " 'Men Textured Leather Formal Loafers',\n",
       " 'Men Textured Formal Leather Loafers',\n",
       " 'Men Solid Leather Formal Derbys',\n",
       " 'Men Leather Driving Shoes',\n",
       " 'Men Leather Chelsea Boots',\n",
       " 'Leather Block Mules',\n",
       " 'Leather Block Peep Toes',\n",
       " 'Women Sneakers',\n",
       " 'Women Solid Leather Ballerinas',\n",
       " 'Women Solid Leather Ballerinas',\n",
       " 'Men Printed Loafers',\n",
       " 'Women Leather Loafers',\n",
       " 'Women Leather Heeled Boots',\n",
       " 'Women Leather Heeled Boots',\n",
       " 'Women Leather Heeled Boots',\n",
       " 'Men Textured Leather Driving Shoes',\n",
       " 'Women Leather Heeled Boots',\n",
       " 'Leather Slim Heels',\n",
       " 'Women Running Shoes',\n",
       " 'Men Suede Loafers',\n",
       " 'Men Leather Derbys',\n",
       " 'Men Leather Sneakers',\n",
       " 'Leather Wedge Heeled Boots with Buckles',\n",
       " 'Leather Stiletto Pumps',\n",
       " 'Leather Kitten Heeled Boots']"
      ]
     },
     "execution_count": 181,
     "metadata": {},
     "output_type": "execute_result"
    }
   ],
   "source": [
    "# extracting data from the description\n",
    "\n",
    "description =[]\n",
    "\n",
    "for i in prod_des:\n",
    "    description.append(i.text)\n",
    "description"
   ]
  },
  {
   "cell_type": "code",
   "execution_count": 182,
   "id": "e2d6b775",
   "metadata": {},
   "outputs": [
    {
     "data": {
      "text/plain": [
       "50"
      ]
     },
     "execution_count": 182,
     "metadata": {},
     "output_type": "execute_result"
    }
   ],
   "source": [
    "#extracting cost details\n",
    "\n",
    "cost_tag= driver.find_elements_by_xpath('//div [contains(@class,\"product-price\")]')\n",
    "len(cost_tag)"
   ]
  },
  {
   "cell_type": "code",
   "execution_count": 183,
   "id": "ecb6330f",
   "metadata": {},
   "outputs": [
    {
     "data": {
      "text/plain": [
       "['Rs. 9499',\n",
       " 'Rs. 11999',\n",
       " 'Rs. 9999',\n",
       " 'Rs. 7199Rs. 8999(20% OFF)',\n",
       " 'Rs. 7990',\n",
       " 'Rs. 7999',\n",
       " 'Rs. 7499',\n",
       " 'Rs. 8990',\n",
       " 'Rs. 8415Rs. 9900(15% OFF)',\n",
       " 'Rs. 7990',\n",
       " 'Rs. 8490',\n",
       " 'Rs. 9999',\n",
       " 'Rs. 8490',\n",
       " 'Rs. 7216Rs. 8200(12% OFF)',\n",
       " 'Rs. 7490',\n",
       " 'Rs. 8999',\n",
       " 'Rs. 7999',\n",
       " 'Rs. 9599Rs. 11999(20% OFF)',\n",
       " 'Rs. 7490',\n",
       " 'Rs. 10990',\n",
       " 'Rs. 9999',\n",
       " 'Rs. 8799Rs. 10999(20% OFF)',\n",
       " 'Rs. 9999',\n",
       " 'Rs. 7990',\n",
       " 'Rs. 8990',\n",
       " 'Rs. 8990',\n",
       " 'Rs. 8990',\n",
       " 'Rs. 9990',\n",
       " 'Rs. 7499',\n",
       " 'Rs. 10710Rs. 11900(10% OFF)',\n",
       " 'Rs. 7900',\n",
       " 'Rs. 9450Rs. 10500(10% OFF)',\n",
       " 'Rs. 7799Rs. 12999(40% OFF)',\n",
       " 'Rs. 8999',\n",
       " 'Rs. 9799Rs. 13999(30% OFF)',\n",
       " 'Rs. 11999',\n",
       " 'Rs. 11899Rs. 16999(30% OFF)',\n",
       " 'Rs. 12325Rs. 14500(15% OFF)',\n",
       " 'Rs. 12325Rs. 14500(15% OFF)',\n",
       " 'Rs. 14025Rs. 16500(15% OFF)',\n",
       " 'Rs. 9999',\n",
       " 'Rs. 11815Rs. 13900(15% OFF)',\n",
       " 'Rs. 8399Rs. 11999(30% OFF)',\n",
       " 'Rs. 7999Rs. 9999(20% OFF)',\n",
       " 'Rs. 12990',\n",
       " 'Rs. 9999',\n",
       " 'Rs. 13990',\n",
       " 'Rs. 12665Rs. 14900(15% OFF)',\n",
       " 'Rs. 12999',\n",
       " 'Rs. 8415Rs. 9900(15% OFF)']"
      ]
     },
     "execution_count": 183,
     "metadata": {},
     "output_type": "execute_result"
    }
   ],
   "source": [
    "#extracting text from cost details\n",
    "\n",
    "price = []\n",
    "\n",
    "for i in cost_tag:\n",
    "    price.append(i.text)\n",
    "price"
   ]
  },
  {
   "cell_type": "code",
   "execution_count": 184,
   "id": "ea9860ac",
   "metadata": {},
   "outputs": [
    {
     "data": {
      "text/html": [
       "<div>\n",
       "<style scoped>\n",
       "    .dataframe tbody tr th:only-of-type {\n",
       "        vertical-align: middle;\n",
       "    }\n",
       "\n",
       "    .dataframe tbody tr th {\n",
       "        vertical-align: top;\n",
       "    }\n",
       "\n",
       "    .dataframe thead th {\n",
       "        text-align: right;\n",
       "    }\n",
       "</style>\n",
       "<table border=\"1\" class=\"dataframe\">\n",
       "  <thead>\n",
       "    <tr style=\"text-align: right;\">\n",
       "      <th></th>\n",
       "      <th>Comppany Name</th>\n",
       "      <th>Product Description</th>\n",
       "      <th>Price</th>\n",
       "    </tr>\n",
       "  </thead>\n",
       "  <tbody>\n",
       "    <tr>\n",
       "      <th>0</th>\n",
       "      <td>Geox</td>\n",
       "      <td>Men Leather Driving Shoes</td>\n",
       "      <td>Rs. 9499</td>\n",
       "    </tr>\n",
       "    <tr>\n",
       "      <th>1</th>\n",
       "      <td>Cole Haan</td>\n",
       "      <td>Men GENERATION ZEROGRAND STITCHLITE</td>\n",
       "      <td>Rs. 11999</td>\n",
       "    </tr>\n",
       "    <tr>\n",
       "      <th>2</th>\n",
       "      <td>Columbia</td>\n",
       "      <td>PEAKFREAK OUTDRY Trekking Shoe</td>\n",
       "      <td>Rs. 9999</td>\n",
       "    </tr>\n",
       "    <tr>\n",
       "      <th>3</th>\n",
       "      <td>New Balance</td>\n",
       "      <td>Women Woven Running Shoes</td>\n",
       "      <td>Rs. 7199Rs. 8999(20% OFF)</td>\n",
       "    </tr>\n",
       "    <tr>\n",
       "      <th>4</th>\n",
       "      <td>J.FONTINI</td>\n",
       "      <td>Men Textured Leather Loafers</td>\n",
       "      <td>Rs. 7990</td>\n",
       "    </tr>\n",
       "    <tr>\n",
       "      <th>5</th>\n",
       "      <td>Hush Puppies</td>\n",
       "      <td>Men Leather Derbys</td>\n",
       "      <td>Rs. 7999</td>\n",
       "    </tr>\n",
       "    <tr>\n",
       "      <th>6</th>\n",
       "      <td>Clarks</td>\n",
       "      <td>Men Leather Formal Loafers</td>\n",
       "      <td>Rs. 7499</td>\n",
       "    </tr>\n",
       "    <tr>\n",
       "      <th>7</th>\n",
       "      <td>J.FONTINI</td>\n",
       "      <td>Men Solid Loafers</td>\n",
       "      <td>Rs. 8990</td>\n",
       "    </tr>\n",
       "    <tr>\n",
       "      <th>8</th>\n",
       "      <td>Saint G</td>\n",
       "      <td>Striped Suede Flatform Heeled Boots</td>\n",
       "      <td>Rs. 8415Rs. 9900(15% OFF)</td>\n",
       "    </tr>\n",
       "    <tr>\n",
       "      <th>9</th>\n",
       "      <td>Heel &amp; Buckle London</td>\n",
       "      <td>Men Formal Leather Derby</td>\n",
       "      <td>Rs. 7990</td>\n",
       "    </tr>\n",
       "    <tr>\n",
       "      <th>10</th>\n",
       "      <td>J.FONTINI</td>\n",
       "      <td>Men Textured Leather Loafers</td>\n",
       "      <td>Rs. 8490</td>\n",
       "    </tr>\n",
       "    <tr>\n",
       "      <th>11</th>\n",
       "      <td>Hush Puppies</td>\n",
       "      <td>Men Solid Leather Formal Slip-Ons</td>\n",
       "      <td>Rs. 9999</td>\n",
       "    </tr>\n",
       "    <tr>\n",
       "      <th>12</th>\n",
       "      <td>J.FONTINI</td>\n",
       "      <td>Men Black Leather Loafers</td>\n",
       "      <td>Rs. 8490</td>\n",
       "    </tr>\n",
       "    <tr>\n",
       "      <th>13</th>\n",
       "      <td>Saint G</td>\n",
       "      <td>Women Leather Mules</td>\n",
       "      <td>Rs. 7216Rs. 8200(12% OFF)</td>\n",
       "    </tr>\n",
       "    <tr>\n",
       "      <th>14</th>\n",
       "      <td>J.FONTINI</td>\n",
       "      <td>Men Leather Formal Loafers</td>\n",
       "      <td>Rs. 7490</td>\n",
       "    </tr>\n",
       "    <tr>\n",
       "      <th>15</th>\n",
       "      <td>Geox</td>\n",
       "      <td>Women Leather Pumps</td>\n",
       "      <td>Rs. 8999</td>\n",
       "    </tr>\n",
       "    <tr>\n",
       "      <th>16</th>\n",
       "      <td>Geox</td>\n",
       "      <td>Women Solid Leather Pumps</td>\n",
       "      <td>Rs. 7999</td>\n",
       "    </tr>\n",
       "    <tr>\n",
       "      <th>17</th>\n",
       "      <td>New Balance</td>\n",
       "      <td>Men Fuelcell Running Shoes</td>\n",
       "      <td>Rs. 9599Rs. 11999(20% OFF)</td>\n",
       "    </tr>\n",
       "    <tr>\n",
       "      <th>18</th>\n",
       "      <td>J.FONTINI</td>\n",
       "      <td>Men Leather Formal Loafers</td>\n",
       "      <td>Rs. 7490</td>\n",
       "    </tr>\n",
       "    <tr>\n",
       "      <th>19</th>\n",
       "      <td>Geox</td>\n",
       "      <td>Women Solid Leather Pumps</td>\n",
       "      <td>Rs. 10990</td>\n",
       "    </tr>\n",
       "    <tr>\n",
       "      <th>20</th>\n",
       "      <td>Geox</td>\n",
       "      <td>Men Leather Driving Shoes</td>\n",
       "      <td>Rs. 9999</td>\n",
       "    </tr>\n",
       "    <tr>\n",
       "      <th>21</th>\n",
       "      <td>Bugatti</td>\n",
       "      <td>Men Sneakers</td>\n",
       "      <td>Rs. 8799Rs. 10999(20% OFF)</td>\n",
       "    </tr>\n",
       "    <tr>\n",
       "      <th>22</th>\n",
       "      <td>Clarks</td>\n",
       "      <td>Men Solid Formal Leather Derbys</td>\n",
       "      <td>Rs. 9999</td>\n",
       "    </tr>\n",
       "    <tr>\n",
       "      <th>23</th>\n",
       "      <td>DAVINCHI</td>\n",
       "      <td>Solid Slip On Shoes</td>\n",
       "      <td>Rs. 7990</td>\n",
       "    </tr>\n",
       "    <tr>\n",
       "      <th>24</th>\n",
       "      <td>DAVINCHI</td>\n",
       "      <td>Men Formal Leather Slip-Ons</td>\n",
       "      <td>Rs. 8990</td>\n",
       "    </tr>\n",
       "    <tr>\n",
       "      <th>25</th>\n",
       "      <td>J.FONTINI</td>\n",
       "      <td>Men Textured Leather Formal Loafers</td>\n",
       "      <td>Rs. 8990</td>\n",
       "    </tr>\n",
       "    <tr>\n",
       "      <th>26</th>\n",
       "      <td>DAVINCHI</td>\n",
       "      <td>Men Textured Formal Leather Loafers</td>\n",
       "      <td>Rs. 8990</td>\n",
       "    </tr>\n",
       "    <tr>\n",
       "      <th>27</th>\n",
       "      <td>DAVINCHI</td>\n",
       "      <td>Men Solid Leather Formal Derbys</td>\n",
       "      <td>Rs. 9990</td>\n",
       "    </tr>\n",
       "    <tr>\n",
       "      <th>28</th>\n",
       "      <td>Pavers England</td>\n",
       "      <td>Men Leather Driving Shoes</td>\n",
       "      <td>Rs. 7499</td>\n",
       "    </tr>\n",
       "    <tr>\n",
       "      <th>29</th>\n",
       "      <td>Saint G</td>\n",
       "      <td>Men Leather Chelsea Boots</td>\n",
       "      <td>Rs. 10710Rs. 11900(10% OFF)</td>\n",
       "    </tr>\n",
       "    <tr>\n",
       "      <th>30</th>\n",
       "      <td>Saint G</td>\n",
       "      <td>Leather Block Mules</td>\n",
       "      <td>Rs. 7900</td>\n",
       "    </tr>\n",
       "    <tr>\n",
       "      <th>31</th>\n",
       "      <td>Saint G</td>\n",
       "      <td>Leather Block Peep Toes</td>\n",
       "      <td>Rs. 9450Rs. 10500(10% OFF)</td>\n",
       "    </tr>\n",
       "    <tr>\n",
       "      <th>32</th>\n",
       "      <td>Cole Haan</td>\n",
       "      <td>Women Sneakers</td>\n",
       "      <td>Rs. 7799Rs. 12999(40% OFF)</td>\n",
       "    </tr>\n",
       "    <tr>\n",
       "      <th>33</th>\n",
       "      <td>Geox</td>\n",
       "      <td>Women Solid Leather Ballerinas</td>\n",
       "      <td>Rs. 8999</td>\n",
       "    </tr>\n",
       "    <tr>\n",
       "      <th>34</th>\n",
       "      <td>Cole Haan</td>\n",
       "      <td>Women Solid Leather Ballerinas</td>\n",
       "      <td>Rs. 9799Rs. 13999(30% OFF)</td>\n",
       "    </tr>\n",
       "    <tr>\n",
       "      <th>35</th>\n",
       "      <td>Pavers England</td>\n",
       "      <td>Men Printed Loafers</td>\n",
       "      <td>Rs. 11999</td>\n",
       "    </tr>\n",
       "    <tr>\n",
       "      <th>36</th>\n",
       "      <td>Cole Haan</td>\n",
       "      <td>Women Leather Loafers</td>\n",
       "      <td>Rs. 11899Rs. 16999(30% OFF)</td>\n",
       "    </tr>\n",
       "    <tr>\n",
       "      <th>37</th>\n",
       "      <td>Saint G</td>\n",
       "      <td>Women Leather Heeled Boots</td>\n",
       "      <td>Rs. 12325Rs. 14500(15% OFF)</td>\n",
       "    </tr>\n",
       "    <tr>\n",
       "      <th>38</th>\n",
       "      <td>Saint G</td>\n",
       "      <td>Women Leather Heeled Boots</td>\n",
       "      <td>Rs. 12325Rs. 14500(15% OFF)</td>\n",
       "    </tr>\n",
       "    <tr>\n",
       "      <th>39</th>\n",
       "      <td>Saint G</td>\n",
       "      <td>Women Leather Heeled Boots</td>\n",
       "      <td>Rs. 14025Rs. 16500(15% OFF)</td>\n",
       "    </tr>\n",
       "    <tr>\n",
       "      <th>40</th>\n",
       "      <td>Pavers England</td>\n",
       "      <td>Men Textured Leather Driving Shoes</td>\n",
       "      <td>Rs. 9999</td>\n",
       "    </tr>\n",
       "    <tr>\n",
       "      <th>41</th>\n",
       "      <td>Saint G</td>\n",
       "      <td>Women Leather Heeled Boots</td>\n",
       "      <td>Rs. 11815Rs. 13900(15% OFF)</td>\n",
       "    </tr>\n",
       "    <tr>\n",
       "      <th>42</th>\n",
       "      <td>ALDO</td>\n",
       "      <td>Leather Slim Heels</td>\n",
       "      <td>Rs. 8399Rs. 11999(30% OFF)</td>\n",
       "    </tr>\n",
       "    <tr>\n",
       "      <th>43</th>\n",
       "      <td>ASICS</td>\n",
       "      <td>Women Running Shoes</td>\n",
       "      <td>Rs. 7999Rs. 9999(20% OFF)</td>\n",
       "    </tr>\n",
       "    <tr>\n",
       "      <th>44</th>\n",
       "      <td>Heel &amp; Buckle London</td>\n",
       "      <td>Men Suede Loafers</td>\n",
       "      <td>Rs. 12990</td>\n",
       "    </tr>\n",
       "    <tr>\n",
       "      <th>45</th>\n",
       "      <td>Clarks</td>\n",
       "      <td>Men Leather Derbys</td>\n",
       "      <td>Rs. 9999</td>\n",
       "    </tr>\n",
       "    <tr>\n",
       "      <th>46</th>\n",
       "      <td>Heel &amp; Buckle London</td>\n",
       "      <td>Men Leather Sneakers</td>\n",
       "      <td>Rs. 13990</td>\n",
       "    </tr>\n",
       "    <tr>\n",
       "      <th>47</th>\n",
       "      <td>Saint G</td>\n",
       "      <td>Leather Wedge Heeled Boots with Buckles</td>\n",
       "      <td>Rs. 12665Rs. 14900(15% OFF)</td>\n",
       "    </tr>\n",
       "    <tr>\n",
       "      <th>48</th>\n",
       "      <td>ECCO</td>\n",
       "      <td>Leather Stiletto Pumps</td>\n",
       "      <td>Rs. 12999</td>\n",
       "    </tr>\n",
       "    <tr>\n",
       "      <th>49</th>\n",
       "      <td>Saint G</td>\n",
       "      <td>Leather Kitten Heeled Boots</td>\n",
       "      <td>Rs. 8415Rs. 9900(15% OFF)</td>\n",
       "    </tr>\n",
       "  </tbody>\n",
       "</table>\n",
       "</div>"
      ],
      "text/plain": [
       "           Comppany Name                      Product Description  \\\n",
       "0                   Geox                Men Leather Driving Shoes   \n",
       "1              Cole Haan      Men GENERATION ZEROGRAND STITCHLITE   \n",
       "2               Columbia           PEAKFREAK OUTDRY Trekking Shoe   \n",
       "3            New Balance                Women Woven Running Shoes   \n",
       "4              J.FONTINI             Men Textured Leather Loafers   \n",
       "5           Hush Puppies                       Men Leather Derbys   \n",
       "6                 Clarks               Men Leather Formal Loafers   \n",
       "7              J.FONTINI                        Men Solid Loafers   \n",
       "8                Saint G      Striped Suede Flatform Heeled Boots   \n",
       "9   Heel & Buckle London                 Men Formal Leather Derby   \n",
       "10             J.FONTINI             Men Textured Leather Loafers   \n",
       "11          Hush Puppies        Men Solid Leather Formal Slip-Ons   \n",
       "12             J.FONTINI                Men Black Leather Loafers   \n",
       "13               Saint G                      Women Leather Mules   \n",
       "14             J.FONTINI               Men Leather Formal Loafers   \n",
       "15                  Geox                      Women Leather Pumps   \n",
       "16                  Geox                Women Solid Leather Pumps   \n",
       "17           New Balance               Men Fuelcell Running Shoes   \n",
       "18             J.FONTINI               Men Leather Formal Loafers   \n",
       "19                  Geox                Women Solid Leather Pumps   \n",
       "20                  Geox                Men Leather Driving Shoes   \n",
       "21               Bugatti                             Men Sneakers   \n",
       "22                Clarks          Men Solid Formal Leather Derbys   \n",
       "23              DAVINCHI                      Solid Slip On Shoes   \n",
       "24              DAVINCHI              Men Formal Leather Slip-Ons   \n",
       "25             J.FONTINI      Men Textured Leather Formal Loafers   \n",
       "26              DAVINCHI      Men Textured Formal Leather Loafers   \n",
       "27              DAVINCHI          Men Solid Leather Formal Derbys   \n",
       "28        Pavers England                Men Leather Driving Shoes   \n",
       "29               Saint G                Men Leather Chelsea Boots   \n",
       "30               Saint G                      Leather Block Mules   \n",
       "31               Saint G                  Leather Block Peep Toes   \n",
       "32             Cole Haan                           Women Sneakers   \n",
       "33                  Geox           Women Solid Leather Ballerinas   \n",
       "34             Cole Haan           Women Solid Leather Ballerinas   \n",
       "35        Pavers England                      Men Printed Loafers   \n",
       "36             Cole Haan                    Women Leather Loafers   \n",
       "37               Saint G               Women Leather Heeled Boots   \n",
       "38               Saint G               Women Leather Heeled Boots   \n",
       "39               Saint G               Women Leather Heeled Boots   \n",
       "40        Pavers England       Men Textured Leather Driving Shoes   \n",
       "41               Saint G               Women Leather Heeled Boots   \n",
       "42                  ALDO                       Leather Slim Heels   \n",
       "43                 ASICS                      Women Running Shoes   \n",
       "44  Heel & Buckle London                        Men Suede Loafers   \n",
       "45                Clarks                       Men Leather Derbys   \n",
       "46  Heel & Buckle London                     Men Leather Sneakers   \n",
       "47               Saint G  Leather Wedge Heeled Boots with Buckles   \n",
       "48                  ECCO                   Leather Stiletto Pumps   \n",
       "49               Saint G              Leather Kitten Heeled Boots   \n",
       "\n",
       "                          Price  \n",
       "0                      Rs. 9499  \n",
       "1                     Rs. 11999  \n",
       "2                      Rs. 9999  \n",
       "3     Rs. 7199Rs. 8999(20% OFF)  \n",
       "4                      Rs. 7990  \n",
       "5                      Rs. 7999  \n",
       "6                      Rs. 7499  \n",
       "7                      Rs. 8990  \n",
       "8     Rs. 8415Rs. 9900(15% OFF)  \n",
       "9                      Rs. 7990  \n",
       "10                     Rs. 8490  \n",
       "11                     Rs. 9999  \n",
       "12                     Rs. 8490  \n",
       "13    Rs. 7216Rs. 8200(12% OFF)  \n",
       "14                     Rs. 7490  \n",
       "15                     Rs. 8999  \n",
       "16                     Rs. 7999  \n",
       "17   Rs. 9599Rs. 11999(20% OFF)  \n",
       "18                     Rs. 7490  \n",
       "19                    Rs. 10990  \n",
       "20                     Rs. 9999  \n",
       "21   Rs. 8799Rs. 10999(20% OFF)  \n",
       "22                     Rs. 9999  \n",
       "23                     Rs. 7990  \n",
       "24                     Rs. 8990  \n",
       "25                     Rs. 8990  \n",
       "26                     Rs. 8990  \n",
       "27                     Rs. 9990  \n",
       "28                     Rs. 7499  \n",
       "29  Rs. 10710Rs. 11900(10% OFF)  \n",
       "30                     Rs. 7900  \n",
       "31   Rs. 9450Rs. 10500(10% OFF)  \n",
       "32   Rs. 7799Rs. 12999(40% OFF)  \n",
       "33                     Rs. 8999  \n",
       "34   Rs. 9799Rs. 13999(30% OFF)  \n",
       "35                    Rs. 11999  \n",
       "36  Rs. 11899Rs. 16999(30% OFF)  \n",
       "37  Rs. 12325Rs. 14500(15% OFF)  \n",
       "38  Rs. 12325Rs. 14500(15% OFF)  \n",
       "39  Rs. 14025Rs. 16500(15% OFF)  \n",
       "40                     Rs. 9999  \n",
       "41  Rs. 11815Rs. 13900(15% OFF)  \n",
       "42   Rs. 8399Rs. 11999(30% OFF)  \n",
       "43    Rs. 7999Rs. 9999(20% OFF)  \n",
       "44                    Rs. 12990  \n",
       "45                     Rs. 9999  \n",
       "46                    Rs. 13990  \n",
       "47  Rs. 12665Rs. 14900(15% OFF)  \n",
       "48                    Rs. 12999  \n",
       "49    Rs. 8415Rs. 9900(15% OFF)  "
      ]
     },
     "execution_count": 184,
     "metadata": {},
     "output_type": "execute_result"
    }
   ],
   "source": [
    "blacksneakers = pd.DataFrame()\n",
    "blacksneakers [\"Comppany Name\"] = company_name\n",
    "blacksneakers [\"Product Description\"] = description\n",
    "blacksneakers [\"Price\"] = price\n",
    "blacksneakers"
   ]
  },
  {
   "cell_type": "code",
   "execution_count": null,
   "id": "44a14c92",
   "metadata": {},
   "outputs": [],
   "source": []
  },
  {
   "cell_type": "code",
   "execution_count": 4,
   "id": "eafacebe",
   "metadata": {},
   "outputs": [],
   "source": [
    "### question 8 ###\n",
    "\n",
    "#connecting to webdriver\n",
    "driver=webdriver.Chrome(r'C:\\Users\\GOD\\Desktop\\Flip ROBO\\chromedriver.exe')"
   ]
  },
  {
   "cell_type": "code",
   "execution_count": 5,
   "id": "6a7eb543",
   "metadata": {},
   "outputs": [],
   "source": [
    "#fetching url\n",
    "\n",
    "url='http://www.amezon.in/'\n",
    "driver.get(url)"
   ]
  },
  {
   "cell_type": "code",
   "execution_count": 6,
   "id": "f6d35afc",
   "metadata": {},
   "outputs": [
    {
     "data": {
      "text/plain": [
       "<selenium.webdriver.remote.webelement.WebElement (session=\"8d2273275c7644be8430664f4dc1ee96\", element=\"e3ae144a-5be2-4348-967f-c3d096d23461\")>"
      ]
     },
     "execution_count": 6,
     "metadata": {},
     "output_type": "execute_result"
    }
   ],
   "source": [
    "#finding the web element using the search bar using class id\n",
    "search_laptop = driver.find_element_by_id(\"twotabsearchtextbox\")\n",
    "search_laptop"
   ]
  },
  {
   "cell_type": "code",
   "execution_count": 7,
   "id": "8c62064a",
   "metadata": {},
   "outputs": [],
   "source": [
    "#entering laptop in the searh engine\n",
    "search_laptop.send_keys(\"Laptop\")"
   ]
  },
  {
   "cell_type": "code",
   "execution_count": 8,
   "id": "406dc4a7",
   "metadata": {},
   "outputs": [
    {
     "data": {
      "text/plain": [
       "<selenium.webdriver.remote.webelement.WebElement (session=\"8d2273275c7644be8430664f4dc1ee96\", element=\"b26305c9-87eb-4645-bc72-3441001d3512\")>"
      ]
     },
     "execution_count": 8,
     "metadata": {},
     "output_type": "execute_result"
    }
   ],
   "source": [
    "#clicking the search button\n",
    "search_button = driver.find_element_by_id(\"nav-search-submit-button\")\n",
    "search_button"
   ]
  },
  {
   "cell_type": "code",
   "execution_count": 9,
   "id": "89d365f3",
   "metadata": {},
   "outputs": [],
   "source": [
    "search_button.click()"
   ]
  },
  {
   "cell_type": "code",
   "execution_count": 10,
   "id": "89357434",
   "metadata": {},
   "outputs": [],
   "source": [
    "#clicking fliters by using absolute xpath \n",
    "intel7_check = driver.find_element_by_xpath('/html/body/div[1]/div[2]/div[1]/div[2]/div/div[3]/span/div[1]/div/div/div[6]/ul[3]/li[12]/span/a/span')\n",
    "intel7_check.click()"
   ]
  },
  {
   "cell_type": "code",
   "execution_count": 11,
   "id": "06bfbf78",
   "metadata": {},
   "outputs": [
    {
     "data": {
      "text/plain": [
       "10"
      ]
     },
     "execution_count": 11,
     "metadata": {},
     "output_type": "execute_result"
    }
   ],
   "source": [
    "#extracting title tag\n",
    "company_tag = driver.find_elements_by_xpath('//h2[@class=\"a-size-mini a-spacing-none a-color-base s-line-clamp-2\"]')\n",
    "len(company_tag)"
   ]
  },
  {
   "cell_type": "code",
   "execution_count": 12,
   "id": "cddd4316",
   "metadata": {},
   "outputs": [
    {
     "data": {
      "text/plain": [
       "10"
      ]
     },
     "execution_count": 12,
     "metadata": {},
     "output_type": "execute_result"
    }
   ],
   "source": [
    "#extracting text from company names\n",
    "\n",
    "company_name = []\n",
    "\n",
    "for i in company_tag [:10]:\n",
    "    company_name.append(i.text)\n",
    "len(company_name)"
   ]
  },
  {
   "cell_type": "code",
   "execution_count": 13,
   "id": "62174c02",
   "metadata": {},
   "outputs": [
    {
     "data": {
      "text/plain": [
       "['ASUS TUF Gaming F15 (2021), 15.6-inch (39.62 cms) FHD 144Hz, Intel Core i9-11900H 11th Gen, RTX 3060 6GB Graphics Gaming Laptop (16GB RAM/1TB SSD/Office 2019/Windows 10/Gray/2.3 kg), FX566HM-HN097TS',\n",
       " 'ASUS TUF Gaming F15 (2021), 15.6-inch (39.62 cms) FHD 240Hz/3ms, Intel Core i9-11900H 11th Gen, RTX 3060 6GB Graphics Gaming Laptop (16GB/1TB SSD/Office 2019/Windows 10/Black/2.3 kg), FX506HM-AZ099TS',\n",
       " 'ASUS TUF Gaming F15 (2021), 15.6\" (39.62 cms) FHD 240Hz, Intel Core i9-11900H 11th Gen, GeForce RTX 3060 6GB Graphics, Gaming Laptop(16GB/1TB SSD/Office 2019/Windows 10/Gray/2.3 Kg), FX566HM-AZ096TS',\n",
       " 'HP ZBOOK Power G8/ Intel core i9-11900H 8 Core/32GB DDR4 3200 RAM/1TB PCIe NVMe TLC SSD /15.6” FHD /Nvidia Quadro T1200 Dedicated Graphics 4GB DDR6 /Windows 10 Pro / 3 Year Warranty',\n",
       " '(Renewed) Dell G7 7500 15.6inch FHD 300 Hz Display Gaming Laptop (10th Gen i9-10885H / 16 GB / 1TB SSD / NVIDIA RTX 2070 8GB Graphics / 1Yr Premium Warranty / Win 10 + MS Office H&S 2019) D560233WIN9B, Black',\n",
       " 'HP Zbook - Intel i9, 15 inch(39.6 cm)FHD 400 Nits Display, Thin & Light , Anti-Glare(32GB RAM/1TB M.2 SSD/Nvidia RTX A2000 4GB Graphics/Win10 Pro/IR Camera/ HP Zbook Power G8 Mobile Workstation',\n",
       " '(Renewed) DELL XPS 7590 15.6-inch UHD Display Laptop (9th Gen Core i9-9980HK/32GB/1TB SSD/Win 10 + MS Office/4GB Nvidia Graphics), Abyss Grey',\n",
       " 'Dell Precision 5550 || i9 -10885H || 16GB || 1TB NVMe || T2000 4 GB || Win 10 Pro (Free Upgrade Win 11Pro) / 15.6 FHD+ / 3 Year ADP',\n",
       " 'Z2 G5 Workstation 700W /Core i9-10900 (2.8GHz 10C) /16GB RAM/512GB SSD+1TB SATA/Nvidia RTX 3070 8GB Graphics/DVDRW/Windows 10 Pro/3 Year Warranty',\n",
       " 'HP ZBook Power G8/ Intel Core i9-11950H 2.5GHz 8 Core/64GB DDR4/ 2TB PCIe NVMe SSD /15.6” FHD/Nvidia Quadro RTX A2000 Graphics 4GB DDR6/ 1RJ45/ Windows 10 Pro/ 3 Year Warranty from HP']"
      ]
     },
     "execution_count": 13,
     "metadata": {},
     "output_type": "execute_result"
    }
   ],
   "source": [
    "company_name"
   ]
  },
  {
   "cell_type": "code",
   "execution_count": 15,
   "id": "a7a48f7e",
   "metadata": {},
   "outputs": [
    {
     "data": {
      "text/plain": [
       "30"
      ]
     },
     "execution_count": 15,
     "metadata": {},
     "output_type": "execute_result"
    }
   ],
   "source": [
    "#extracting price tags\n",
    "\n",
    "price_tag = driver.find_elements_by_xpath('//span[@class=\"a-price-whole\"]')\n",
    "len(price_tag)"
   ]
  },
  {
   "cell_type": "code",
   "execution_count": 16,
   "id": "178072fb",
   "metadata": {},
   "outputs": [
    {
     "data": {
      "text/plain": [
       "10"
      ]
     },
     "execution_count": 16,
     "metadata": {},
     "output_type": "execute_result"
    }
   ],
   "source": [
    "#extracting text from the price tag\n",
    "\n",
    "price = []\n",
    "\n",
    "for i in price_tag[:10]:\n",
    "    price.append(i.text)\n",
    "len(price)"
   ]
  },
  {
   "cell_type": "code",
   "execution_count": 17,
   "id": "ea21e850",
   "metadata": {},
   "outputs": [
    {
     "data": {
      "text/plain": [
       "['92,490',\n",
       " '92,999',\n",
       " '59,990',\n",
       " '86,990',\n",
       " '96,990',\n",
       " '88,990',\n",
       " '99,499',\n",
       " '70,000',\n",
       " '84,990',\n",
       " '89,990']"
      ]
     },
     "execution_count": 17,
     "metadata": {},
     "output_type": "execute_result"
    }
   ],
   "source": [
    "price"
   ]
  },
  {
   "cell_type": "code",
   "execution_count": 27,
   "id": "68bf6b8a",
   "metadata": {},
   "outputs": [
    {
     "data": {
      "text/html": [
       "<div>\n",
       "<style scoped>\n",
       "    .dataframe tbody tr th:only-of-type {\n",
       "        vertical-align: middle;\n",
       "    }\n",
       "\n",
       "    .dataframe tbody tr th {\n",
       "        vertical-align: top;\n",
       "    }\n",
       "\n",
       "    .dataframe thead th {\n",
       "        text-align: right;\n",
       "    }\n",
       "</style>\n",
       "<table border=\"1\" class=\"dataframe\">\n",
       "  <thead>\n",
       "    <tr style=\"text-align: right;\">\n",
       "      <th></th>\n",
       "      <th>I7 Laptop Name</th>\n",
       "      <th>Price</th>\n",
       "    </tr>\n",
       "  </thead>\n",
       "  <tbody>\n",
       "    <tr>\n",
       "      <th>0</th>\n",
       "      <td>ASUS TUF Gaming F15 (2021), 15.6-inch (39.62 c...</td>\n",
       "      <td>1,39,990</td>\n",
       "    </tr>\n",
       "    <tr>\n",
       "      <th>1</th>\n",
       "      <td>ASUS TUF Gaming F15 (2021), 15.6\" (39.62 cms) ...</td>\n",
       "      <td>1,44,990</td>\n",
       "    </tr>\n",
       "    <tr>\n",
       "      <th>2</th>\n",
       "      <td>ASUS TUF Gaming F15 (2021), 15.6-inch (39.62 c...</td>\n",
       "      <td>1,43,990</td>\n",
       "    </tr>\n",
       "    <tr>\n",
       "      <th>3</th>\n",
       "      <td>HP ZBOOK Power G8/ Intel core i9-11900H 8 Core...</td>\n",
       "      <td>2,43,000</td>\n",
       "    </tr>\n",
       "    <tr>\n",
       "      <th>4</th>\n",
       "      <td>(Renewed) Dell G7 7500 15.6inch FHD 300 Hz Dis...</td>\n",
       "      <td>2,25,000</td>\n",
       "    </tr>\n",
       "    <tr>\n",
       "      <th>5</th>\n",
       "      <td>HP Zbook - Intel i9, 15 inch(39.6 cm)FHD 400 N...</td>\n",
       "      <td>2,54,563</td>\n",
       "    </tr>\n",
       "    <tr>\n",
       "      <th>6</th>\n",
       "      <td>(Renewed) DELL XPS 7590 15.6-inch UHD Display ...</td>\n",
       "      <td>1,75,000</td>\n",
       "    </tr>\n",
       "    <tr>\n",
       "      <th>7</th>\n",
       "      <td>Dell Precision 5550 || i9 -10885H || 16GB || 1...</td>\n",
       "      <td>2,25,000</td>\n",
       "    </tr>\n",
       "    <tr>\n",
       "      <th>8</th>\n",
       "      <td>Z2 G5 Workstation 700W /Core i9-10900 (2.8GHz ...</td>\n",
       "      <td>2,39,000</td>\n",
       "    </tr>\n",
       "    <tr>\n",
       "      <th>9</th>\n",
       "      <td>HP ZBook Power G8/ Intel Core i9-11950H 2.5GHz...</td>\n",
       "      <td>2,93,000</td>\n",
       "    </tr>\n",
       "  </tbody>\n",
       "</table>\n",
       "</div>"
      ],
      "text/plain": [
       "                                      I7 Laptop Name     Price\n",
       "0  ASUS TUF Gaming F15 (2021), 15.6-inch (39.62 c...  1,39,990\n",
       "1  ASUS TUF Gaming F15 (2021), 15.6\" (39.62 cms) ...  1,44,990\n",
       "2  ASUS TUF Gaming F15 (2021), 15.6-inch (39.62 c...  1,43,990\n",
       "3  HP ZBOOK Power G8/ Intel core i9-11900H 8 Core...  2,43,000\n",
       "4  (Renewed) Dell G7 7500 15.6inch FHD 300 Hz Dis...  2,25,000\n",
       "5  HP Zbook - Intel i9, 15 inch(39.6 cm)FHD 400 N...  2,54,563\n",
       "6  (Renewed) DELL XPS 7590 15.6-inch UHD Display ...  1,75,000\n",
       "7  Dell Precision 5550 || i9 -10885H || 16GB || 1...  2,25,000\n",
       "8  Z2 G5 Workstation 700W /Core i9-10900 (2.8GHz ...  2,39,000\n",
       "9  HP ZBook Power G8/ Intel Core i9-11950H 2.5GHz...  2,93,000"
      ]
     },
     "execution_count": 27,
     "metadata": {},
     "output_type": "execute_result"
    }
   ],
   "source": [
    "laptop = pd.DataFrame()\n",
    "laptop [\"I7 Laptop Name\"] = company_name\n",
    "laptop [\"Price\"] = price\n",
    "laptop"
   ]
  },
  {
   "cell_type": "code",
   "execution_count": 18,
   "id": "2a985480",
   "metadata": {},
   "outputs": [],
   "source": [
    "#extracting data for intel i9\n",
    "\n",
    "intel9_check = driver.find_element_by_xpath('/html/body/div[1]/div[2]/div[1]/div[2]/div/div[3]/span/div[1]/div/div/div[6]/ul[3]/li[13]/span/a/span')\n",
    "intel9_check.click()\n"
   ]
  },
  {
   "cell_type": "code",
   "execution_count": 20,
   "id": "07d3e61a",
   "metadata": {},
   "outputs": [
    {
     "data": {
      "text/plain": [
       "10"
      ]
     },
     "execution_count": 20,
     "metadata": {},
     "output_type": "execute_result"
    }
   ],
   "source": [
    "#extracting title tag\n",
    "company_tag = driver.find_elements_by_xpath('//h2[@class=\"a-size-mini a-spacing-none a-color-base s-line-clamp-2\"]')\n",
    "len(company_tag)"
   ]
  },
  {
   "cell_type": "code",
   "execution_count": 22,
   "id": "08a2f6f2",
   "metadata": {},
   "outputs": [
    {
     "data": {
      "text/plain": [
       "10"
      ]
     },
     "execution_count": 22,
     "metadata": {},
     "output_type": "execute_result"
    }
   ],
   "source": [
    "#extracting data from the company_tag\n",
    "\n",
    "company_name =[]\n",
    "\n",
    "for i in company_tag [:10]:\n",
    "    company_name.append(i.text)\n",
    "len(company_name)"
   ]
  },
  {
   "cell_type": "code",
   "execution_count": 23,
   "id": "0a1d0667",
   "metadata": {},
   "outputs": [
    {
     "data": {
      "text/plain": [
       "['ASUS TUF Gaming F15 (2021), 15.6-inch (39.62 cms) FHD 144Hz, Intel Core i9-11900H 11th Gen, RTX 3060 6GB Graphics Gaming Laptop (16GB RAM/1TB SSD/Office 2019/Windows 10/Gray/2.3 kg), FX566HM-HN097TS',\n",
       " 'ASUS TUF Gaming F15 (2021), 15.6\" (39.62 cms) FHD 240Hz, Intel Core i9-11900H 11th Gen, GeForce RTX 3060 6GB Graphics, Gaming Laptop(16GB/1TB SSD/Office 2019/Windows 10/Gray/2.3 Kg), FX566HM-AZ096TS',\n",
       " 'ASUS TUF Gaming F15 (2021), 15.6-inch (39.62 cms) FHD 240Hz/3ms, Intel Core i9-11900H 11th Gen, RTX 3060 6GB Graphics Gaming Laptop (16GB/1TB SSD/Office 2019/Windows 10/Black/2.3 kg), FX506HM-AZ099TS',\n",
       " 'HP ZBOOK Power G8/ Intel core i9-11900H 8 Core/32GB DDR4 3200 RAM/1TB PCIe NVMe TLC SSD /15.6” FHD /Nvidia Quadro T1200 Dedicated Graphics 4GB DDR6 /Windows 10 Pro / 3 Year Warranty',\n",
       " '(Renewed) Dell G7 7500 15.6inch FHD 300 Hz Display Gaming Laptop (10th Gen i9-10885H / 16 GB / 1TB SSD / NVIDIA RTX 2070 8GB Graphics / 1Yr Premium Warranty / Win 10 + MS Office H&S 2019) D560233WIN9B, Black',\n",
       " 'HP Zbook - Intel i9, 15 inch(39.6 cm)FHD 400 Nits Display, Thin & Light , Anti-Glare(32GB RAM/1TB M.2 SSD/Nvidia RTX A2000 4GB Graphics/Win10 Pro/IR Camera/ HP Zbook Power G8 Mobile Workstation',\n",
       " '(Renewed) DELL XPS 7590 15.6-inch UHD Display Laptop (9th Gen Core i9-9980HK/32GB/1TB SSD/Win 10 + MS Office/4GB Nvidia Graphics), Abyss Grey',\n",
       " 'Dell Precision 5550 || i9 -10885H || 16GB || 1TB NVMe || T2000 4 GB || Win 10 Pro (Free Upgrade Win 11Pro) / 15.6 FHD+ / 3 Year ADP',\n",
       " 'Z2 G5 Workstation 700W /Core i9-10900 (2.8GHz 10C) /16GB RAM/512GB SSD+1TB SATA/Nvidia RTX 3070 8GB Graphics/DVDRW/Windows 10 Pro/3 Year Warranty',\n",
       " 'HP ZBook Power G8/ Intel Core i9-11950H 2.5GHz 8 Core/64GB DDR4/ 2TB PCIe NVMe SSD /15.6” FHD/Nvidia Quadro RTX A2000 Graphics 4GB DDR6/ 1RJ45/ Windows 10 Pro/ 3 Year Warranty from HP']"
      ]
     },
     "execution_count": 23,
     "metadata": {},
     "output_type": "execute_result"
    }
   ],
   "source": [
    "company_name"
   ]
  },
  {
   "cell_type": "code",
   "execution_count": 24,
   "id": "3439d17f",
   "metadata": {},
   "outputs": [
    {
     "data": {
      "text/plain": [
       "10"
      ]
     },
     "execution_count": 24,
     "metadata": {},
     "output_type": "execute_result"
    }
   ],
   "source": [
    "#extracting price tags\n",
    "\n",
    "price_tag = driver.find_elements_by_xpath('//span[@class=\"a-price-whole\"]')\n",
    "len(price_tag)"
   ]
  },
  {
   "cell_type": "code",
   "execution_count": 25,
   "id": "cf37acf4",
   "metadata": {},
   "outputs": [
    {
     "data": {
      "text/plain": [
       "10"
      ]
     },
     "execution_count": 25,
     "metadata": {},
     "output_type": "execute_result"
    }
   ],
   "source": [
    "#extracting text from the price tag\n",
    "\n",
    "price = []\n",
    "\n",
    "for i in price_tag[:10]:\n",
    "    price.append(i.text)\n",
    "len(price)"
   ]
  },
  {
   "cell_type": "code",
   "execution_count": 26,
   "id": "440fb267",
   "metadata": {},
   "outputs": [
    {
     "data": {
      "text/plain": [
       "['1,39,990',\n",
       " '1,44,990',\n",
       " '1,43,990',\n",
       " '2,43,000',\n",
       " '2,25,000',\n",
       " '2,54,563',\n",
       " '1,75,000',\n",
       " '2,25,000',\n",
       " '2,39,000',\n",
       " '2,93,000']"
      ]
     },
     "execution_count": 26,
     "metadata": {},
     "output_type": "execute_result"
    }
   ],
   "source": [
    "price"
   ]
  },
  {
   "cell_type": "code",
   "execution_count": 28,
   "id": "43d1b5c1",
   "metadata": {},
   "outputs": [
    {
     "data": {
      "text/html": [
       "<div>\n",
       "<style scoped>\n",
       "    .dataframe tbody tr th:only-of-type {\n",
       "        vertical-align: middle;\n",
       "    }\n",
       "\n",
       "    .dataframe tbody tr th {\n",
       "        vertical-align: top;\n",
       "    }\n",
       "\n",
       "    .dataframe thead th {\n",
       "        text-align: right;\n",
       "    }\n",
       "</style>\n",
       "<table border=\"1\" class=\"dataframe\">\n",
       "  <thead>\n",
       "    <tr style=\"text-align: right;\">\n",
       "      <th></th>\n",
       "      <th>I9 Laptop Name</th>\n",
       "      <th>Price</th>\n",
       "    </tr>\n",
       "  </thead>\n",
       "  <tbody>\n",
       "    <tr>\n",
       "      <th>0</th>\n",
       "      <td>ASUS TUF Gaming F15 (2021), 15.6-inch (39.62 c...</td>\n",
       "      <td>1,39,990</td>\n",
       "    </tr>\n",
       "    <tr>\n",
       "      <th>1</th>\n",
       "      <td>ASUS TUF Gaming F15 (2021), 15.6\" (39.62 cms) ...</td>\n",
       "      <td>1,44,990</td>\n",
       "    </tr>\n",
       "    <tr>\n",
       "      <th>2</th>\n",
       "      <td>ASUS TUF Gaming F15 (2021), 15.6-inch (39.62 c...</td>\n",
       "      <td>1,43,990</td>\n",
       "    </tr>\n",
       "    <tr>\n",
       "      <th>3</th>\n",
       "      <td>HP ZBOOK Power G8/ Intel core i9-11900H 8 Core...</td>\n",
       "      <td>2,43,000</td>\n",
       "    </tr>\n",
       "    <tr>\n",
       "      <th>4</th>\n",
       "      <td>(Renewed) Dell G7 7500 15.6inch FHD 300 Hz Dis...</td>\n",
       "      <td>2,25,000</td>\n",
       "    </tr>\n",
       "    <tr>\n",
       "      <th>5</th>\n",
       "      <td>HP Zbook - Intel i9, 15 inch(39.6 cm)FHD 400 N...</td>\n",
       "      <td>2,54,563</td>\n",
       "    </tr>\n",
       "    <tr>\n",
       "      <th>6</th>\n",
       "      <td>(Renewed) DELL XPS 7590 15.6-inch UHD Display ...</td>\n",
       "      <td>1,75,000</td>\n",
       "    </tr>\n",
       "    <tr>\n",
       "      <th>7</th>\n",
       "      <td>Dell Precision 5550 || i9 -10885H || 16GB || 1...</td>\n",
       "      <td>2,25,000</td>\n",
       "    </tr>\n",
       "    <tr>\n",
       "      <th>8</th>\n",
       "      <td>Z2 G5 Workstation 700W /Core i9-10900 (2.8GHz ...</td>\n",
       "      <td>2,39,000</td>\n",
       "    </tr>\n",
       "    <tr>\n",
       "      <th>9</th>\n",
       "      <td>HP ZBook Power G8/ Intel Core i9-11950H 2.5GHz...</td>\n",
       "      <td>2,93,000</td>\n",
       "    </tr>\n",
       "  </tbody>\n",
       "</table>\n",
       "</div>"
      ],
      "text/plain": [
       "                                      I9 Laptop Name     Price\n",
       "0  ASUS TUF Gaming F15 (2021), 15.6-inch (39.62 c...  1,39,990\n",
       "1  ASUS TUF Gaming F15 (2021), 15.6\" (39.62 cms) ...  1,44,990\n",
       "2  ASUS TUF Gaming F15 (2021), 15.6-inch (39.62 c...  1,43,990\n",
       "3  HP ZBOOK Power G8/ Intel core i9-11900H 8 Core...  2,43,000\n",
       "4  (Renewed) Dell G7 7500 15.6inch FHD 300 Hz Dis...  2,25,000\n",
       "5  HP Zbook - Intel i9, 15 inch(39.6 cm)FHD 400 N...  2,54,563\n",
       "6  (Renewed) DELL XPS 7590 15.6-inch UHD Display ...  1,75,000\n",
       "7  Dell Precision 5550 || i9 -10885H || 16GB || 1...  2,25,000\n",
       "8  Z2 G5 Workstation 700W /Core i9-10900 (2.8GHz ...  2,39,000\n",
       "9  HP ZBook Power G8/ Intel Core i9-11950H 2.5GHz...  2,93,000"
      ]
     },
     "execution_count": 28,
     "metadata": {},
     "output_type": "execute_result"
    }
   ],
   "source": [
    "laptop = pd.DataFrame()\n",
    "laptop [\"I9 Laptop Name\"] = company_name\n",
    "laptop [\"Price\"] = price\n",
    "laptop"
   ]
  },
  {
   "cell_type": "code",
   "execution_count": null,
   "id": "5d2e269b",
   "metadata": {},
   "outputs": [],
   "source": []
  },
  {
   "cell_type": "code",
   "execution_count": 29,
   "id": "6c9130b1",
   "metadata": {},
   "outputs": [],
   "source": [
    "#### question 9 ####\n",
    "\n",
    "#connecting to webdriver\n",
    "driver=webdriver.Chrome(r'C:\\Users\\GOD\\Desktop\\Flip ROBO\\chromedriver.exe')"
   ]
  },
  {
   "cell_type": "code",
   "execution_count": 30,
   "id": "0104c2bd",
   "metadata": {},
   "outputs": [],
   "source": [
    "#fetching url\n",
    "\n",
    "url='https://www.ambitionbox.com/'\n",
    "driver.get(url)"
   ]
  },
  {
   "cell_type": "code",
   "execution_count": 31,
   "id": "a18d238f",
   "metadata": {},
   "outputs": [],
   "source": [
    "#clicking the jobs option\n",
    "\n",
    "jobs_button = driver.find_element_by_xpath('/html/body/div[1]/nav/nav/a[6]')\n",
    "jobs_button.click()"
   ]
  },
  {
   "cell_type": "code",
   "execution_count": 58,
   "id": "9cf9b39d",
   "metadata": {},
   "outputs": [
    {
     "data": {
      "text/plain": [
       "<selenium.webdriver.remote.webelement.WebElement (session=\"9cdf22ed513d076e0fa351fd3ebd8e7d\", element=\"3cc5bf0a-6280-470f-98e4-718a961943b4\")>"
      ]
     },
     "execution_count": 58,
     "metadata": {},
     "output_type": "execute_result"
    }
   ],
   "source": [
    "#finding the web element using the search bar using class id\n",
    "search_job = driver.find_element_by_name(\"ab_jobsSearch\")\n",
    "search_job"
   ]
  },
  {
   "cell_type": "code",
   "execution_count": 59,
   "id": "ca1694a4",
   "metadata": {},
   "outputs": [],
   "source": [
    "#input the keyword data scientist in search bar \n",
    "\n",
    "search_job.send_keys(\"Data Scientist\")"
   ]
  },
  {
   "cell_type": "code",
   "execution_count": 65,
   "id": "51008d33",
   "metadata": {},
   "outputs": [],
   "source": [
    "#clicking the search button\n",
    "\n",
    "search_button = driver.find_element_by_class_name(\"ctas-btn-medium\")\n",
    "search_button.click()"
   ]
  },
  {
   "cell_type": "code",
   "execution_count": 66,
   "id": "114572b4",
   "metadata": {},
   "outputs": [],
   "source": [
    "#clicking the location option\n",
    "\n",
    "location_option =driver.find_element_by_xpath('/html/body/div/div/div/div[2]/div[2]/div[1]/div/div/div/div[2]/div[1]/p')\n",
    "location_option.click()"
   ]
  },
  {
   "cell_type": "code",
   "execution_count": 71,
   "id": "1f409f07",
   "metadata": {},
   "outputs": [
    {
     "data": {
      "text/plain": [
       "<selenium.webdriver.remote.webelement.WebElement (session=\"9cdf22ed513d076e0fa351fd3ebd8e7d\", element=\"a8d75d8f-7635-4634-98bf-99b79d453243\")>"
      ]
     },
     "execution_count": 71,
     "metadata": {},
     "output_type": "execute_result"
    }
   ],
   "source": [
    "search_location = driver.find_element_by_xpath('/html/body/div/div/div/div[2]/div[2]/div[1]/div/div/div/div[2]/div[2]/div/div[2]/input')\n",
    "search_location"
   ]
  },
  {
   "cell_type": "code",
   "execution_count": 72,
   "id": "e8915449",
   "metadata": {},
   "outputs": [],
   "source": [
    "#entering the location noida\n",
    "\n",
    "search_location.send_keys(\"Noida\")"
   ]
  },
  {
   "cell_type": "code",
   "execution_count": 73,
   "id": "7b4a2550",
   "metadata": {},
   "outputs": [],
   "source": [
    "#selecting the location noida\n",
    "\n",
    "location_tag = driver.find_element_by_xpath('/html/body/div/div/div/div[2]/div[2]/div[1]/div/div/div/div[2]/div[2]/div/div[3]/div[1]/div[1]/div/label')\n",
    "location_tag.click()"
   ]
  },
  {
   "cell_type": "code",
   "execution_count": 75,
   "id": "40650e27",
   "metadata": {},
   "outputs": [
    {
     "data": {
      "text/plain": [
       "10"
      ]
     },
     "execution_count": 75,
     "metadata": {},
     "output_type": "execute_result"
    }
   ],
   "source": [
    "#extracting company name\n",
    "\n",
    "company_tag =driver.find_elements_by_xpath('//a[@class=\"title noclick\"]')\n",
    "len(company_tag)"
   ]
  },
  {
   "cell_type": "code",
   "execution_count": 76,
   "id": "53412d3b",
   "metadata": {},
   "outputs": [
    {
     "data": {
      "text/plain": [
       "10"
      ]
     },
     "execution_count": 76,
     "metadata": {},
     "output_type": "execute_result"
    }
   ],
   "source": [
    "#extractig text from company tag\n",
    "\n",
    "company_name = []\n",
    "\n",
    "for i in company_tag:\n",
    "    company_name.append(i.text)\n",
    "len(company_name)"
   ]
  },
  {
   "cell_type": "code",
   "execution_count": 77,
   "id": "e781c053",
   "metadata": {},
   "outputs": [
    {
     "data": {
      "text/plain": [
       "['Data Scientist',\n",
       " 'Urgent Requirement || Data Scientist || Noida',\n",
       " 'EY GDS - Assistant Director - Data Science - AI/ML (15-20 yrs)',\n",
       " 'Opportunity | Tavant India',\n",
       " 'Looking For Senior Data Scientist For Denave',\n",
       " 'Lead Assistant Manager',\n",
       " 'CogniTensor - Data Scientist (1-2 yrs)',\n",
       " 'Data Scientist | Data Engineer | Machine Learning',\n",
       " 'Data Scientist - Machine Learning (5-14 yrs)',\n",
       " 'Manager Data Scientist']"
      ]
     },
     "execution_count": 77,
     "metadata": {},
     "output_type": "execute_result"
    }
   ],
   "source": [
    "company_name"
   ]
  },
  {
   "cell_type": "code",
   "execution_count": 83,
   "id": "fcb3f48c",
   "metadata": {},
   "outputs": [
    {
     "data": {
      "text/plain": [
       "20"
      ]
     },
     "execution_count": 83,
     "metadata": {},
     "output_type": "execute_result"
    }
   ],
   "source": [
    "#extraxting the number of days ago the job was posted\n",
    "\n",
    "days_tag= driver.find_elements_by_xpath('//span[@class=\"body-small-l\"]')\n",
    "len(days_tag)"
   ]
  },
  {
   "cell_type": "code",
   "execution_count": 86,
   "id": "a3eae72d",
   "metadata": {},
   "outputs": [
    {
     "data": {
      "text/plain": [
       "10"
      ]
     },
     "execution_count": 86,
     "metadata": {},
     "output_type": "execute_result"
    }
   ],
   "source": [
    "#extracting the text from number of days\n",
    "\n",
    "days = []\n",
    "\n",
    "for i in days_tag [:10]:\n",
    "    days.append(i.text)\n",
    "len(days)"
   ]
  },
  {
   "cell_type": "code",
   "execution_count": 85,
   "id": "a056e26f",
   "metadata": {},
   "outputs": [
    {
     "data": {
      "text/plain": [
       "['13d ago',\n",
       " 'via naukri.com',\n",
       " '27d ago',\n",
       " 'via naukri.com',\n",
       " '28d ago',\n",
       " 'via iimjobs.com',\n",
       " '8d ago',\n",
       " 'via naukri.com',\n",
       " '8d ago',\n",
       " 'via naukri.com',\n",
       " '20d ago',\n",
       " 'via naukri.com',\n",
       " '2d ago',\n",
       " 'via iimjobs.com',\n",
       " '28d ago',\n",
       " 'via naukri.com',\n",
       " '6d ago',\n",
       " 'via hirist.com',\n",
       " '1mon ago',\n",
       " 'via naukri.com']"
      ]
     },
     "execution_count": 85,
     "metadata": {},
     "output_type": "execute_result"
    }
   ],
   "source": [
    "days"
   ]
  },
  {
   "cell_type": "code",
   "execution_count": 88,
   "id": "25b51840",
   "metadata": {},
   "outputs": [
    {
     "data": {
      "text/plain": [
       "10"
      ]
     },
     "execution_count": 88,
     "metadata": {},
     "output_type": "execute_result"
    }
   ],
   "source": [
    "#extracting the rating of the company\n",
    "\n",
    "rating_tag = driver.find_elements_by_xpath('//span[@class=\"body-small\"]')\n",
    "len(rating_tag)"
   ]
  },
  {
   "cell_type": "code",
   "execution_count": 89,
   "id": "7f160468",
   "metadata": {},
   "outputs": [
    {
     "data": {
      "text/plain": [
       "10"
      ]
     },
     "execution_count": 89,
     "metadata": {},
     "output_type": "execute_result"
    }
   ],
   "source": [
    "#extracting text from rating tag\n",
    "\n",
    "ratings =[]\n",
    "\n",
    "for i in rating_tag:\n",
    "    ratings.append(i.text)\n",
    "len(ratings)"
   ]
  },
  {
   "cell_type": "code",
   "execution_count": 90,
   "id": "5507667d",
   "metadata": {},
   "outputs": [
    {
     "data": {
      "text/plain": [
       "['3.9', '3.8', '3.7', '4.0', '4.0', '3.8', '3.8', '4.2', '4.1', '4.0']"
      ]
     },
     "execution_count": 90,
     "metadata": {},
     "output_type": "execute_result"
    }
   ],
   "source": [
    "ratings"
   ]
  },
  {
   "cell_type": "code",
   "execution_count": 91,
   "id": "95655d2a",
   "metadata": {},
   "outputs": [
    {
     "data": {
      "text/html": [
       "<div>\n",
       "<style scoped>\n",
       "    .dataframe tbody tr th:only-of-type {\n",
       "        vertical-align: middle;\n",
       "    }\n",
       "\n",
       "    .dataframe tbody tr th {\n",
       "        vertical-align: top;\n",
       "    }\n",
       "\n",
       "    .dataframe thead th {\n",
       "        text-align: right;\n",
       "    }\n",
       "</style>\n",
       "<table border=\"1\" class=\"dataframe\">\n",
       "  <thead>\n",
       "    <tr style=\"text-align: right;\">\n",
       "      <th></th>\n",
       "      <th>Company Name</th>\n",
       "      <th>No of Days ago job was posted</th>\n",
       "      <th>Company Ratings</th>\n",
       "    </tr>\n",
       "  </thead>\n",
       "  <tbody>\n",
       "    <tr>\n",
       "      <th>0</th>\n",
       "      <td>Data Scientist</td>\n",
       "      <td>13d ago</td>\n",
       "      <td>3.9</td>\n",
       "    </tr>\n",
       "    <tr>\n",
       "      <th>1</th>\n",
       "      <td>Urgent Requirement || Data Scientist || Noida</td>\n",
       "      <td>via naukri.com</td>\n",
       "      <td>3.8</td>\n",
       "    </tr>\n",
       "    <tr>\n",
       "      <th>2</th>\n",
       "      <td>EY GDS - Assistant Director - Data Science - A...</td>\n",
       "      <td>27d ago</td>\n",
       "      <td>3.7</td>\n",
       "    </tr>\n",
       "    <tr>\n",
       "      <th>3</th>\n",
       "      <td>Opportunity | Tavant India</td>\n",
       "      <td>via naukri.com</td>\n",
       "      <td>4.0</td>\n",
       "    </tr>\n",
       "    <tr>\n",
       "      <th>4</th>\n",
       "      <td>Looking For Senior Data Scientist For Denave</td>\n",
       "      <td>28d ago</td>\n",
       "      <td>4.0</td>\n",
       "    </tr>\n",
       "    <tr>\n",
       "      <th>5</th>\n",
       "      <td>Lead Assistant Manager</td>\n",
       "      <td>via iimjobs.com</td>\n",
       "      <td>3.8</td>\n",
       "    </tr>\n",
       "    <tr>\n",
       "      <th>6</th>\n",
       "      <td>CogniTensor - Data Scientist (1-2 yrs)</td>\n",
       "      <td>8d ago</td>\n",
       "      <td>3.8</td>\n",
       "    </tr>\n",
       "    <tr>\n",
       "      <th>7</th>\n",
       "      <td>Data Scientist | Data Engineer | Machine Learning</td>\n",
       "      <td>via naukri.com</td>\n",
       "      <td>4.2</td>\n",
       "    </tr>\n",
       "    <tr>\n",
       "      <th>8</th>\n",
       "      <td>Data Scientist - Machine Learning (5-14 yrs)</td>\n",
       "      <td>8d ago</td>\n",
       "      <td>4.1</td>\n",
       "    </tr>\n",
       "    <tr>\n",
       "      <th>9</th>\n",
       "      <td>Manager Data Scientist</td>\n",
       "      <td>via naukri.com</td>\n",
       "      <td>4.0</td>\n",
       "    </tr>\n",
       "  </tbody>\n",
       "</table>\n",
       "</div>"
      ],
      "text/plain": [
       "                                        Company Name  \\\n",
       "0                                     Data Scientist   \n",
       "1      Urgent Requirement || Data Scientist || Noida   \n",
       "2  EY GDS - Assistant Director - Data Science - A...   \n",
       "3                         Opportunity | Tavant India   \n",
       "4       Looking For Senior Data Scientist For Denave   \n",
       "5                             Lead Assistant Manager   \n",
       "6             CogniTensor - Data Scientist (1-2 yrs)   \n",
       "7  Data Scientist | Data Engineer | Machine Learning   \n",
       "8       Data Scientist - Machine Learning (5-14 yrs)   \n",
       "9                             Manager Data Scientist   \n",
       "\n",
       "  No of Days ago job was posted Company Ratings  \n",
       "0                       13d ago             3.9  \n",
       "1                via naukri.com             3.8  \n",
       "2                       27d ago             3.7  \n",
       "3                via naukri.com             4.0  \n",
       "4                       28d ago             4.0  \n",
       "5               via iimjobs.com             3.8  \n",
       "6                        8d ago             3.8  \n",
       "7                via naukri.com             4.2  \n",
       "8                        8d ago             4.1  \n",
       "9                via naukri.com             4.0  "
      ]
     },
     "execution_count": 91,
     "metadata": {},
     "output_type": "execute_result"
    }
   ],
   "source": [
    "datascientist=pd.DataFrame()\n",
    "datascientist ['Company Name'] = company_name\n",
    "datascientist['No of Days ago job was posted']= days\n",
    "datascientist['Company Ratings'] = ratings\n",
    "datascientist "
   ]
  },
  {
   "cell_type": "code",
   "execution_count": null,
   "id": "faca807b",
   "metadata": {},
   "outputs": [],
   "source": []
  },
  {
   "cell_type": "code",
   "execution_count": 23,
   "id": "6031d172",
   "metadata": {},
   "outputs": [],
   "source": [
    "#### question 10####\n",
    "\n",
    "\n",
    "#connecting to webdriver\n",
    "driver=webdriver.Chrome(r'C:\\Users\\GOD\\Desktop\\Flip ROBO\\chromedriver.exe')"
   ]
  },
  {
   "cell_type": "code",
   "execution_count": 24,
   "id": "63191fd4",
   "metadata": {},
   "outputs": [],
   "source": [
    "#fetching url\n",
    "\n",
    "url='https://www.ambitionbox.com/'\n",
    "driver.get(url)"
   ]
  },
  {
   "cell_type": "code",
   "execution_count": 25,
   "id": "f1454f90",
   "metadata": {},
   "outputs": [],
   "source": [
    "#clicking the salary option \n",
    "\n",
    "salary_button = driver.find_element_by_xpath('/html/body/div[1]/nav/nav/a[4]')\n",
    "salary_button.click()"
   ]
  },
  {
   "cell_type": "code",
   "execution_count": 26,
   "id": "34ab1f8f",
   "metadata": {},
   "outputs": [
    {
     "data": {
      "text/plain": [
       "<selenium.webdriver.remote.webelement.WebElement (session=\"23f33bf2be67ee17315446a4e995cab0\", element=\"9fa72900-d274-41ca-ba7a-2c43ca6a3be8\")>"
      ]
     },
     "execution_count": 26,
     "metadata": {},
     "output_type": "execute_result"
    }
   ],
   "source": [
    "#finding the web element using the search bar using class id\n",
    "search_job = driver.find_element_by_id(\"jobProfileSearchbox\")\n",
    "search_job"
   ]
  },
  {
   "cell_type": "code",
   "execution_count": 27,
   "id": "a3f709d4",
   "metadata": {},
   "outputs": [],
   "source": [
    "search_job.send_keys(\"Data Scientist\")"
   ]
  },
  {
   "cell_type": "code",
   "execution_count": 35,
   "id": "b4fe8352",
   "metadata": {},
   "outputs": [
    {
     "data": {
      "text/plain": [
       "10"
      ]
     },
     "execution_count": 35,
     "metadata": {},
     "output_type": "execute_result"
    }
   ],
   "source": [
    "#extracting company name \n",
    "\n",
    "company_tag =driver.find_elements_by_xpath ('//div[@class=\"name\"]')\n",
    "len(company_tag)"
   ]
  },
  {
   "cell_type": "code",
   "execution_count": 36,
   "id": "752ee9fc",
   "metadata": {},
   "outputs": [
    {
     "data": {
      "text/plain": [
       "10"
      ]
     },
     "execution_count": 36,
     "metadata": {},
     "output_type": "execute_result"
    }
   ],
   "source": [
    "#extracting text from company tag\n",
    "\n",
    "company_name = []\n",
    "\n",
    "for i in company_tag:\n",
    "    company_name.append(i.text)\n",
    "len(company_name)"
   ]
  },
  {
   "cell_type": "code",
   "execution_count": 37,
   "id": "dbc4c722",
   "metadata": {},
   "outputs": [
    {
     "data": {
      "text/plain": [
       "['Walmart\\nbased on 10 salaries',\n",
       " 'Ab Inbev\\nbased on 25 salaries',\n",
       " 'ZS\\nbased on 13 salaries',\n",
       " 'Optum\\nbased on 25 salaries',\n",
       " 'Fractal Analytics\\nbased on 75 salaries',\n",
       " 'Tiger Analytics\\nbased on 30 salaries',\n",
       " 'UnitedHealth\\nbased on 51 salaries',\n",
       " 'Verizon\\nbased on 14 salaries',\n",
       " 'Ganit Business Solutions\\nbased on 13 salaries',\n",
       " 'Ericsson\\nbased on 43 salaries']"
      ]
     },
     "execution_count": 37,
     "metadata": {},
     "output_type": "execute_result"
    }
   ],
   "source": [
    "company_name"
   ]
  },
  {
   "cell_type": "code",
   "execution_count": 41,
   "id": "88891d02",
   "metadata": {},
   "outputs": [
    {
     "data": {
      "text/plain": [
       "10"
      ]
     },
     "execution_count": 41,
     "metadata": {},
     "output_type": "execute_result"
    }
   ],
   "source": [
    "#extracting lowest and highest salary\n",
    "\n",
    "sal_tag= driver.find_elements_by_xpath('//div[@class=\"salary-values\"]')\n",
    "len(sal_tag)"
   ]
  },
  {
   "cell_type": "code",
   "execution_count": 43,
   "id": "58f68444",
   "metadata": {},
   "outputs": [
    {
     "data": {
      "text/plain": [
       "['₹ 17.7L\\n₹ 35.0L',\n",
       " '₹ 15.0L\\n₹ 25.5L',\n",
       " '₹ 9.8L\\n₹ 20.0L',\n",
       " '₹ 11.0L\\n₹ 21.3L',\n",
       " '₹ 9.5L\\n₹ 22.0L',\n",
       " '₹ 9.0L\\n₹ 18.5L',\n",
       " '₹ 8.3L\\n₹ 20.5L',\n",
       " '₹ 10.0L\\n₹ 21.0L',\n",
       " '₹ 8.5L\\n₹ 15.0L',\n",
       " '₹ 5.8L\\n₹ 24.0L']"
      ]
     },
     "execution_count": 43,
     "metadata": {},
     "output_type": "execute_result"
    }
   ],
   "source": [
    "#extracting text from salary\n",
    "\n",
    "salary = []\n",
    "\n",
    "for i in sal_tag:\n",
    "    salary.append(i.text)\n",
    "salary"
   ]
  },
  {
   "cell_type": "code",
   "execution_count": 45,
   "id": "9122e170",
   "metadata": {},
   "outputs": [
    {
     "data": {
      "text/plain": [
       "10"
      ]
     },
     "execution_count": 45,
     "metadata": {},
     "output_type": "execute_result"
    }
   ],
   "source": [
    "#extracting the average ctc\n",
    "\n",
    "average_tag= driver.find_elements_by_xpath('//p[@class=\"averageCtc\"]')\n",
    "len(average_tag)"
   ]
  },
  {
   "cell_type": "code",
   "execution_count": 46,
   "id": "55fd0f9d",
   "metadata": {},
   "outputs": [
    {
     "data": {
      "text/plain": [
       "['₹ 28.7L',\n",
       " '₹ 20.2L',\n",
       " '₹ 15.5L',\n",
       " '₹ 15.1L',\n",
       " '₹ 15.1L',\n",
       " '₹ 14.2L',\n",
       " '₹ 13.8L',\n",
       " '₹ 12.7L',\n",
       " '₹ 12.4L',\n",
       " '₹ 11.9L']"
      ]
     },
     "execution_count": 46,
     "metadata": {},
     "output_type": "execute_result"
    }
   ],
   "source": [
    "#extracting text from the average ctc\n",
    "\n",
    "average_ctc = []\n",
    "\n",
    "for i in average_tag:\n",
    "    average_ctc.append(i.text)\n",
    "average_ctc"
   ]
  },
  {
   "cell_type": "code",
   "execution_count": 47,
   "id": "04597e13",
   "metadata": {},
   "outputs": [
    {
     "data": {
      "text/plain": [
       "10"
      ]
     },
     "execution_count": 47,
     "metadata": {},
     "output_type": "execute_result"
    }
   ],
   "source": [
    "#extracting experience required\n",
    "\n",
    "exp_tag= driver.find_elements_by_xpath('//div[@class=\"salaries sbold-list-header\"]')\n",
    "len(exp_tag)"
   ]
  },
  {
   "cell_type": "code",
   "execution_count": 48,
   "id": "fca9e3f9",
   "metadata": {},
   "outputs": [
    {
     "data": {
      "text/plain": [
       "['Data Scientist\\n . \\n3 yrs exp',\n",
       " 'Data Scientist\\n . \\n3-4 yrs exp',\n",
       " 'Data Scientist\\n . \\n2 yrs exp',\n",
       " 'Data Scientist\\n . \\n3-4 yrs exp',\n",
       " 'Data Scientist\\n . \\n2-4 yrs exp',\n",
       " 'Data Scientist\\n . \\n3-4 yrs exp',\n",
       " 'Data Scientist\\n . \\n2-4 yrs exp',\n",
       " 'Data Scientist\\n . \\n4 yrs exp',\n",
       " 'Data Scientist\\n . \\n4 yrs exp',\n",
       " 'Data Scientist\\n . \\n3-4 yrs exp']"
      ]
     },
     "execution_count": 48,
     "metadata": {},
     "output_type": "execute_result"
    }
   ],
   "source": [
    "#extracting text from the experience tag\n",
    "\n",
    "exp_req = []\n",
    "\n",
    "for i in exp_tag:\n",
    "    exp_req.append(i.text)\n",
    "exp_req"
   ]
  },
  {
   "cell_type": "code",
   "execution_count": 49,
   "id": "824bb896",
   "metadata": {},
   "outputs": [
    {
     "data": {
      "text/html": [
       "<div>\n",
       "<style scoped>\n",
       "    .dataframe tbody tr th:only-of-type {\n",
       "        vertical-align: middle;\n",
       "    }\n",
       "\n",
       "    .dataframe tbody tr th {\n",
       "        vertical-align: top;\n",
       "    }\n",
       "\n",
       "    .dataframe thead th {\n",
       "        text-align: right;\n",
       "    }\n",
       "</style>\n",
       "<table border=\"1\" class=\"dataframe\">\n",
       "  <thead>\n",
       "    <tr style=\"text-align: right;\">\n",
       "      <th></th>\n",
       "      <th>Company Name</th>\n",
       "      <th>Min &amp; Max Sal</th>\n",
       "      <th>Average Salary</th>\n",
       "      <th>Experience</th>\n",
       "    </tr>\n",
       "  </thead>\n",
       "  <tbody>\n",
       "    <tr>\n",
       "      <th>0</th>\n",
       "      <td>Walmart\\nbased on 10 salaries</td>\n",
       "      <td>₹ 17.7L\\n₹ 35.0L</td>\n",
       "      <td>₹ 28.7L</td>\n",
       "      <td>Data Scientist\\n . \\n3 yrs exp</td>\n",
       "    </tr>\n",
       "    <tr>\n",
       "      <th>1</th>\n",
       "      <td>Ab Inbev\\nbased on 25 salaries</td>\n",
       "      <td>₹ 15.0L\\n₹ 25.5L</td>\n",
       "      <td>₹ 20.2L</td>\n",
       "      <td>Data Scientist\\n . \\n3-4 yrs exp</td>\n",
       "    </tr>\n",
       "    <tr>\n",
       "      <th>2</th>\n",
       "      <td>ZS\\nbased on 13 salaries</td>\n",
       "      <td>₹ 9.8L\\n₹ 20.0L</td>\n",
       "      <td>₹ 15.5L</td>\n",
       "      <td>Data Scientist\\n . \\n2 yrs exp</td>\n",
       "    </tr>\n",
       "    <tr>\n",
       "      <th>3</th>\n",
       "      <td>Optum\\nbased on 25 salaries</td>\n",
       "      <td>₹ 11.0L\\n₹ 21.3L</td>\n",
       "      <td>₹ 15.1L</td>\n",
       "      <td>Data Scientist\\n . \\n3-4 yrs exp</td>\n",
       "    </tr>\n",
       "    <tr>\n",
       "      <th>4</th>\n",
       "      <td>Fractal Analytics\\nbased on 75 salaries</td>\n",
       "      <td>₹ 9.5L\\n₹ 22.0L</td>\n",
       "      <td>₹ 15.1L</td>\n",
       "      <td>Data Scientist\\n . \\n2-4 yrs exp</td>\n",
       "    </tr>\n",
       "    <tr>\n",
       "      <th>5</th>\n",
       "      <td>Tiger Analytics\\nbased on 30 salaries</td>\n",
       "      <td>₹ 9.0L\\n₹ 18.5L</td>\n",
       "      <td>₹ 14.2L</td>\n",
       "      <td>Data Scientist\\n . \\n3-4 yrs exp</td>\n",
       "    </tr>\n",
       "    <tr>\n",
       "      <th>6</th>\n",
       "      <td>UnitedHealth\\nbased on 51 salaries</td>\n",
       "      <td>₹ 8.3L\\n₹ 20.5L</td>\n",
       "      <td>₹ 13.8L</td>\n",
       "      <td>Data Scientist\\n . \\n2-4 yrs exp</td>\n",
       "    </tr>\n",
       "    <tr>\n",
       "      <th>7</th>\n",
       "      <td>Verizon\\nbased on 14 salaries</td>\n",
       "      <td>₹ 10.0L\\n₹ 21.0L</td>\n",
       "      <td>₹ 12.7L</td>\n",
       "      <td>Data Scientist\\n . \\n4 yrs exp</td>\n",
       "    </tr>\n",
       "    <tr>\n",
       "      <th>8</th>\n",
       "      <td>Ganit Business Solutions\\nbased on 13 salaries</td>\n",
       "      <td>₹ 8.5L\\n₹ 15.0L</td>\n",
       "      <td>₹ 12.4L</td>\n",
       "      <td>Data Scientist\\n . \\n4 yrs exp</td>\n",
       "    </tr>\n",
       "    <tr>\n",
       "      <th>9</th>\n",
       "      <td>Ericsson\\nbased on 43 salaries</td>\n",
       "      <td>₹ 5.8L\\n₹ 24.0L</td>\n",
       "      <td>₹ 11.9L</td>\n",
       "      <td>Data Scientist\\n . \\n3-4 yrs exp</td>\n",
       "    </tr>\n",
       "  </tbody>\n",
       "</table>\n",
       "</div>"
      ],
      "text/plain": [
       "                                     Company Name     Min & Max Sal  \\\n",
       "0                   Walmart\\nbased on 10 salaries  ₹ 17.7L\\n₹ 35.0L   \n",
       "1                  Ab Inbev\\nbased on 25 salaries  ₹ 15.0L\\n₹ 25.5L   \n",
       "2                        ZS\\nbased on 13 salaries   ₹ 9.8L\\n₹ 20.0L   \n",
       "3                     Optum\\nbased on 25 salaries  ₹ 11.0L\\n₹ 21.3L   \n",
       "4         Fractal Analytics\\nbased on 75 salaries   ₹ 9.5L\\n₹ 22.0L   \n",
       "5           Tiger Analytics\\nbased on 30 salaries   ₹ 9.0L\\n₹ 18.5L   \n",
       "6              UnitedHealth\\nbased on 51 salaries   ₹ 8.3L\\n₹ 20.5L   \n",
       "7                   Verizon\\nbased on 14 salaries  ₹ 10.0L\\n₹ 21.0L   \n",
       "8  Ganit Business Solutions\\nbased on 13 salaries   ₹ 8.5L\\n₹ 15.0L   \n",
       "9                  Ericsson\\nbased on 43 salaries   ₹ 5.8L\\n₹ 24.0L   \n",
       "\n",
       "  Average Salary                        Experience  \n",
       "0        ₹ 28.7L    Data Scientist\\n . \\n3 yrs exp  \n",
       "1        ₹ 20.2L  Data Scientist\\n . \\n3-4 yrs exp  \n",
       "2        ₹ 15.5L    Data Scientist\\n . \\n2 yrs exp  \n",
       "3        ₹ 15.1L  Data Scientist\\n . \\n3-4 yrs exp  \n",
       "4        ₹ 15.1L  Data Scientist\\n . \\n2-4 yrs exp  \n",
       "5        ₹ 14.2L  Data Scientist\\n . \\n3-4 yrs exp  \n",
       "6        ₹ 13.8L  Data Scientist\\n . \\n2-4 yrs exp  \n",
       "7        ₹ 12.7L    Data Scientist\\n . \\n4 yrs exp  \n",
       "8        ₹ 12.4L    Data Scientist\\n . \\n4 yrs exp  \n",
       "9        ₹ 11.9L  Data Scientist\\n . \\n3-4 yrs exp  "
      ]
     },
     "execution_count": 49,
     "metadata": {},
     "output_type": "execute_result"
    }
   ],
   "source": [
    "datascience = pd.DataFrame()\n",
    "datascience [\"Company Name\"] = company_name\n",
    "datascience [\"Min & Max Sal\"] = salary\n",
    "datascience [\"Average Salary\"] = average_ctc\n",
    "datascience [\"Experience\"] = exp_req\n",
    "datascience"
   ]
  },
  {
   "cell_type": "code",
   "execution_count": null,
   "id": "e0bebde2",
   "metadata": {},
   "outputs": [],
   "source": []
  }
 ],
 "metadata": {
  "kernelspec": {
   "display_name": "Python 3",
   "language": "python",
   "name": "python3"
  },
  "language_info": {
   "codemirror_mode": {
    "name": "ipython",
    "version": 3
   },
   "file_extension": ".py",
   "mimetype": "text/x-python",
   "name": "python",
   "nbconvert_exporter": "python",
   "pygments_lexer": "ipython3",
   "version": "3.8.8"
  }
 },
 "nbformat": 4,
 "nbformat_minor": 5
}

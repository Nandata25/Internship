{
 "cells": [
  {
   "cell_type": "code",
   "execution_count": 9,
   "id": "72c5c25c",
   "metadata": {},
   "outputs": [
    {
     "name": "stdout",
     "output_type": "stream",
     "text": [
      "Enter the given string: capital\n",
      "{'c': 1, 'a': 2, 'p': 1, 'i': 1, 't': 1, 'l': 1}\n"
     ]
    }
   ],
   "source": [
    "string = input(\"Enter the given string: \")\n",
    "frequency = {}\n",
    "for i in string:\n",
    "    frequency[i]=frequency.get(i,0)+1\n",
    "print(frequency)"
   ]
  },
  {
   "cell_type": "code",
   "execution_count": 10,
   "id": "d31582c6",
   "metadata": {},
   "outputs": [
    {
     "name": "stdout",
     "output_type": "stream",
     "text": [
      "Enter the number: 9\n",
      "Factorial of 9 is 362880\n"
     ]
    }
   ],
   "source": [
    "def factorial (n):\n",
    "    return 1 if (n==0 or n==1) else n*factorial(n-1)\n",
    "\n",
    "number = int(input(\"Enter the number: \"))\n",
    "print (\"Factorial of\", number, \"is\", factorial(number))"
   ]
  },
  {
   "cell_type": "code",
   "execution_count": 11,
   "id": "7436aa82",
   "metadata": {},
   "outputs": [
    {
     "name": "stdout",
     "output_type": "stream",
     "text": [
      "Enter the number: 9\n",
      "9 is a prime number\n"
     ]
    }
   ],
   "source": [
    "n=int(input(\"Enter the number: \")) \n",
    "while True: \n",
    "    x=list(range(2,n)) \n",
    "    for i in x: \n",
    "        if n%i==0: \n",
    "            print(n,\"is not a prime number\") \n",
    "        else: \n",
    "            print(n,\"is a prime number\") \n",
    "        break  \n",
    "    break"
   ]
  },
  {
   "cell_type": "code",
   "execution_count": 5,
   "id": "15136d64",
   "metadata": {},
   "outputs": [
    {
     "name": "stdout",
     "output_type": "stream",
     "text": [
      "Enter the given word :home\n",
      "The given word is not a palindrome\n"
     ]
    }
   ],
   "source": [
    "string =input (\"Enter the given word :\")\n",
    "if (string==string [::-1]):\n",
    "    print (\"The given word is a palindrome\")\n",
    "else:\n",
    "    print (\"The given word is not a palindrome\")"
   ]
  },
  {
   "cell_type": "code",
   "execution_count": 6,
   "id": "43874c5a",
   "metadata": {},
   "outputs": [
    {
     "name": "stdout",
     "output_type": "stream",
     "text": [
      "Enter the base:5\n",
      "Enter the Height:6\n",
      "Enter the angle:45\n",
      "Hypotenuse = 7.810249675906654\n"
     ]
    }
   ],
   "source": [
    "import math\n",
    "a= float(input(\"Enter the base:\"))\n",
    "b= float(input(\"Enter the Height:\"))\n",
    "c=float(input(\"Enter the angle:\"))\n",
    "h= math.sqrt(a**2+b**2)\n",
    "print (\"Hypotenuse =\", h)"
   ]
  },
  {
   "cell_type": "code",
   "execution_count": null,
   "id": "6a9d1616",
   "metadata": {},
   "outputs": [],
   "source": []
  }
 ],
 "metadata": {
  "kernelspec": {
   "display_name": "Python 3",
   "language": "python",
   "name": "python3"
  },
  "language_info": {
   "codemirror_mode": {
    "name": "ipython",
    "version": 3
   },
   "file_extension": ".py",
   "mimetype": "text/x-python",
   "name": "python",
   "nbconvert_exporter": "python",
   "pygments_lexer": "ipython3",
   "version": "3.8.8"
  }
 },
 "nbformat": 4,
 "nbformat_minor": 5
}
